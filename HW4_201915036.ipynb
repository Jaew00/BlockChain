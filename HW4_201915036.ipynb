{
 "cells": [
  {
   "cell_type": "markdown",
   "id": "21ca2f99",
   "metadata": {},
   "source": [
    "## 9주\n",
    "\n",
    "Hello 컨트랙을 수정하여, 인사하는 대상을 지정해보자.\n"
   ]
  },
  {
   "cell_type": "markdown",
   "id": "0f06e5a4",
   "metadata": {},
   "source": [
    "* 멤버변수에는 toWhom을 지정한다.\n",
    "\n",
    "* 멤버함수에는 아래 함수를 구현한다. 일부러 함수의 입출력 인자는 생략하니 자신이 생각해서 구현한다.\n",
    "\n",
    "```\n",
    "\n",
    "function sayHello() view public returns() 입력: 없다, 출력: Hello smu (bytes 또는 string로 출력)\n",
    "\n",
    "function setWhom() public 입력: 인사하는 대상 (toWhom을 지정, bytes 또는 string로 입력)\n",
    "\n",
    "function getWhom() view public returns() 출력: 인사하는 대상 (toWhom을 읽음, bytes 또는 string로 출력)\n",
    "\n",
    "```\n",
    "\n",
    "\n",
    "\n",
    "문자열 합성을 하려면, 이전에는 abi.encodePacked()를 함수를 사용했으나 버전 0.8.10부터 bytes.concat() 또는 string.concat() 함수를 사용하면 된다."
   ]
  },
  {
   "cell_type": "code",
   "execution_count": 1,
   "id": "bf4b9b03",
   "metadata": {},
   "outputs": [
    {
     "name": "stdout",
     "output_type": "stream",
     "text": [
      "Overwriting src/Hello.sol\n"
     ]
    }
   ],
   "source": [
    "%%writefile src/Hello.sol\n",
    "pragma solidity ^0.8.12;\n",
    "contract Hello {\n",
    "    \n",
    "    string toWhom;\n",
    "    \n",
    "    function sayHello() view public returns(string memory) {\n",
    "        return \"Hello smu\";\n",
    "    }\n",
    "    function setWhom(string memory toWhom_) public {\n",
    "        toWhom = toWhom_;\n",
    "    }\n",
    "    function getWhom() view public returns(string memory) {\n",
    "        return toWhom;\n",
    "    }\n",
    "}"
   ]
  },
  {
   "cell_type": "markdown",
   "id": "1f5ad225",
   "metadata": {},
   "source": [
    "각 각 2개의 컨트랙을 구현한다 - HelloInString.sol, HelloInBytes.sol."
   ]
  },
  {
   "cell_type": "code",
   "execution_count": null,
   "id": "1c79ba44",
   "metadata": {},
   "outputs": [],
   "source": [
    "pragma solidity ^0.8.12;\n",
    "contract HelloInString {\n",
    "    \n",
    "    string toWhom;\n",
    "    \n",
    "    function sayHello() view public returns(string memory) {\n",
    "        return \"Hello smu\";\n",
    "    }\n",
    "    function setWhom(string memory toWhom_) public {\n",
    "        toWhom = toWhom_;\n",
    "    }\n",
    "    function getWhom() view public returns(string memory) {\n",
    "        return toWhom;\n",
    "    }\n",
    "}"
   ]
  },
  {
   "cell_type": "code",
   "execution_count": null,
   "id": "3cfaf22b",
   "metadata": {},
   "outputs": [],
   "source": [
    "pragma solidity ^0.8.12;\n",
    "contract HelloInBytes {\n",
    "    \n",
    "    bytes toWhom;\n",
    "    \n",
    "    function sayHello() view public returns(bytes9) {\n",
    "        return \"Hello smu\";\n",
    "    }\n",
    "    function setWhom(bytes memory toWhom_) public {\n",
    "        toWhom = toWhom_;\n",
    "    }\n",
    "    function getWhom() view public returns(bytes memory) {\n",
    "        return toWhom;\n",
    "    }\n",
    "}"
   ]
  },
  {
   "cell_type": "markdown",
   "id": "d53457ff",
   "metadata": {},
   "source": [
    "* (1) REMIX에서 실행하고, 각 함수의 로그 결과를 붙여넣기한다 (입력, 출력, gas가 보이도록)."
   ]
  },
  {
   "cell_type": "code",
   "execution_count": null,
   "id": "6f96c9c1",
   "metadata": {},
   "outputs": [],
   "source": [
    "## HelloInString\n",
    "\n",
    "creation of HelloInString pending...\n",
    "[vm]from: 0x5B3...eddC4to: Hello.(constructor)value: 0 weidata: 0x608...c0033logs: 0hash: 0x322...88111\n",
    "status\ttrue Transaction mined and execution succeed\n",
    "transaction hash\t0x322a543c4d37a6f45e16b23e70bfd66f977271c5705a164dc1c470d698688111\n",
    "from\t0x5B38Da6a701c568545dCfcB03FcB875f56beddC4\n",
    "to\tHello.(constructor)\n",
    "gas\t381368 gas\n",
    "transaction cost\t331624 gas \n",
    "execution cost\t331624 gas \n",
    "input\t0x608...c0033\n",
    "decoded input\t{}\n",
    "decoded output\t - \n",
    "logs\t[]\n",
    "val\t0 wei\n",
    "\n",
    "\n",
    "## HelloInBytes\n",
    "\n",
    "creation of HelloInBytes pending...\n",
    "[vm]from: 0x5B3...eddC4to: HelloInBytes.(constructor)value: 0 weidata: 0x608...c0033logs: 0hash: 0xecc...e0f79\n",
    "status\ttrue Transaction mined and execution succeed\n",
    "transaction hash\t0xecc45212db1e0eda7471765305fb23d161cc3de8345005d9d5db9f5d1c5e0f79\n",
    "from\t0x5B38Da6a701c568545dCfcB03FcB875f56beddC4\n",
    "to\tHelloInBytes.(constructor)\n",
    "gas\t397155 gas\n",
    "transaction cost\t345352 gas \n",
    "execution cost\t345352 gas \n",
    "input\t0x608...c0033\n",
    "decoded input\t{}\n",
    "decoded output\t - \n",
    "logs\t[]\n",
    "val\t0 wei\n"
   ]
  },
  {
   "cell_type": "markdown",
   "id": "ef80a957",
   "metadata": {},
   "source": [
    "* (2) HelloInString과 HelloInBytes의 배포할 때와 sayHello() 함수의 gas를 비교하세요."
   ]
  },
  {
   "cell_type": "code",
   "execution_count": null,
   "id": "e079d681",
   "metadata": {},
   "outputs": [],
   "source": [
    "- HelloInString execution cost : 21849 gas\n",
    "\n",
    "from\t0x5B38Da6a701c568545dCfcB03FcB875f56beddC4\n",
    "to\tHello.sayHello() 0x0fC5025C764cE34df352757e82f7B5c4Df39A836\n",
    "execution cost\t21849 gas (Cost only applies when called by a contract)\n",
    "input\t0xef5...fb05b\n",
    "decoded input\t{}\n",
    "decoded output\t{\n",
    "\t\"0\": \"string: Hello smu\"\n",
    "}\n",
    "logs\t[]\n",
    "\n",
    "- HelloInBytes execution cost : 21429 gas\n",
    "\n",
    "from\t0x5B38Da6a701c568545dCfcB03FcB875f56beddC4\n",
    "to\tHelloInBytes.sayHello() 0xddaAd340b0f1Ef65169Ae5E41A8b10776a75482d\n",
    "execution cost\t21429 gas (Cost only applies when called by a contract)\n",
    "input\t0xef5...fb05b\n",
    "decoded input\t{}\n",
    "decoded output\t{\n",
    "\t\"0\": \"bytes9: 0x48656c6c6f20736d75\"\n",
    "}\n",
    "logs\t[]\n",
    "\n",
    "\n",
    "### HelloInBytes의 gas가 HelloInString의 보다 적게 듭니다."
   ]
  }
 ],
 "metadata": {
  "kernelspec": {
   "display_name": "Python 3 (ipykernel)",
   "language": "python",
   "name": "python3"
  },
  "language_info": {
   "codemirror_mode": {
    "name": "ipython",
    "version": 3
   },
   "file_extension": ".py",
   "mimetype": "text/x-python",
   "name": "python",
   "nbconvert_exporter": "python",
   "pygments_lexer": "ipython3",
   "version": "3.9.7"
  }
 },
 "nbformat": 4,
 "nbformat_minor": 5
}
