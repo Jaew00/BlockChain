{
 "cells": [
  {
   "cell_type": "markdown",
   "metadata": {
    "slideshow": {
     "slide_type": "slide"
    }
   },
   "source": [
    "#  Chapter 11. Solidity 제어, 데이터구조\n",
    "\n",
    "* Last Updated 202205150900_20200606_20190120_20180707_20170112\n",
    "* todo: 1) ```watch``` 2) library ```myLib+StringUtils``` 3) 계정에서 발생한 거래의 목록? 4) registry\n",
    "\n",
    "## 학습 목표\n",
    " \n",
    "Solidity의 반복문, 조건문에 대해서 배운다. 단 반복하면서 그 횟수와 멤버변수를 갱신하는 것에 주의한다.\n",
    "데이터를 저장하기 위해서는 배열 또는 매핑을 사용하다.\n",
    "예외에 대해서 배우게 된다. 블록체인 특성에 따라, 키보드, 마우스 등에서 입력을 받거나 또는 하드디스크에 쓰거나 하는 등의 입출력 예외는 발생할 수 없다. 반면 입출금 관련 예외를 주의해야 한다."
   ]
  },
  {
   "cell_type": "markdown",
   "metadata": {
    "slideshow": {
     "slide_type": "slide"
    }
   },
   "source": [
    "## 목차\n",
    "\n",
    "Chapter 9. 제어 및 데이터구조\n",
    "* 1. 제어\n",
    "    * 1.1 반복문\n",
    "    * 1.2 조건문\n",
    "    * 1.3 반복문의 비용\n",
    "    * 실습: 반복문, 조건문 사용\n",
    "    * 실습: 인사하는 컨트랙\n",
    "    * 실습: 블록체인에서 컨트랙 삭제\n",
    "    * 1.4 무작위 수의 생성\n",
    "* 2. 데이터구조 \n",
    "    * 2.1 배열\n",
    "    * 2.1.1 고정배열\n",
    "    * 2.1.2 동적배열\n",
    "    * 2.1.3 다차원배열\n",
    "    * 실습: 배열\n",
    "    * 실습: Members 배열\n",
    "    * 2.2 mapping\n",
    "        * 2.2.1 키와 값 쌍으로 저장\n",
    "    * 실습: 은행 잔고의 mapping\n",
    "        * 2.2.2 중복키 확인\n",
    "        * 2.2.3 bidirectional map\n",
    "* 3. 예외\n",
    "    * 3.1 require\n",
    "    * 3.2 revert\n",
    "    * 3.3 assert\n",
    "    * 실습: 예외\n",
    "    * 실습: 주문에 예외 적용\n"
   ]
  },
  {
   "cell_type": "markdown",
   "metadata": {
    "slideshow": {
     "slide_type": "slide"
    }
   },
   "source": [
    "# 1. 제어\n",
    "<a id='11.4'></a>\n",
    "\n",
    "## 1.1 반복문\n",
    "\n",
    "### for 문\n",
    "\n",
    "반복문은 다른 언어와 비교해서 그 사용법이 대동소이하다.\n",
    "for 문은 증감연산자를 0부터 시작하여 하나씩 증가하며 반복적으로 수행한다.\n",
    "반복을 언제 시작하고, 언제 끝나는지 명시하는 것이 필요하므로,\n",
    "괄호 안에 ```for(증감연산자 초기화; 종료조건; 증감 연산)```과 같이 작성한다.\n",
    "그리고 반복할 명령문을 다음 줄에 작성하게 된다.\n",
    "\n",
    "for 문을 적용하여 합계를 계산해보자.\n",
    "\n",
    "```python\n",
    "uint sum=0;\n",
    "for(uint i=0;i<10;i++)\n",
    "    sum+=i;\n",
    "```\n",
    "\n",
    "### while 문\n",
    "while 문은 조건이 충족할 때까지 계속 반복한다.\n",
    "for문과 달리 증감연산자를 반드시 사용할 필요는 없다.\n",
    "단 while(조건) 문이 먼저 나오기 때문에, 조건에 따라 1회도 실행이 되지 않을 수 있다.\n",
    "```python\n",
    "uint sum=0;\n",
    "uint i=0;\n",
    "while(i<10) {\n",
    "    sum+=i;\n",
    "    i++;\n",
    "}\n",
    "```\n",
    "\n",
    "\n",
    "### do-while 문\n",
    "\n",
    "while문과 의미는 비슷하지만, do { } 로 시작하기 때문에, 최소한 1회는 명령문이 실행된다.\n",
    "```python\n",
    "uint sum=0;\n",
    "uint i=0;\n",
    "do {\n",
    "    sum+=i;\n",
    "    i++;\n",
    "} while(i<10);\n",
    "```"
   ]
  },
  {
   "cell_type": "markdown",
   "metadata": {},
   "source": [
    "## 1.2 반복의 비용\n",
    "\n",
    "블록체인에서의 프로그램은 명령문마다 비용이 발생하는 특성을 가지고 있기 때문에, 반복을 하게되면 비용이 발생하게 된다.\n",
    "gas가 반복마다 소비되고 한도 gasLimit를 초과하게 되면 실행이 중지될 수 밖에 없다.\n",
    "\n",
    "반복횟수에 따라 gas비용이 급증하는 것을 볼 수 있다.\n",
    "특히 sum 변수를 메모리에 두는 경우에 비해, storage에 (state variable) 두는 경우 비용이 매우 높았다.\n",
    "메모리를 사용하는 것에 비해 Storage가 많이 비용이 많이 든다.\n",
    "\n",
    "반복 횟수 | sum을 로컬에 두는 경우 | sum을 state variable에 두는 경우\n",
    "-----|-----|-----\n",
    "10 | 약 30,000 (23845 + 6773)  |  약 64,000 (43045 + 21773)\n",
    "100 | 약 78,000 (49345 + 28073)  |  약 368,000 (192881 + 175809)\n",
    "1000 | 약 203,000 (112345 + 91073) | 약 3,408,000 (1712981 + 1695909)\n",
    "10000 | REMIX가 죽고, 다시 실행 | 좌동"
   ]
  },
  {
   "cell_type": "markdown",
   "metadata": {},
   "source": [
    "## 실습: 반복문, 조건문 사용\n",
    "\n",
    "* forLoopCostly() 함수는 멤버변수 sum을 반복해서 수정하고 있다. 그렇지 않은 forLoop()에서 발생하는 gas비용과 서로 비교해보자.\n",
    "* whileLoop은 반복문을 실행하지만, whileLoopBreak는 break문으로 종료하고 있다."
   ]
  },
  {
   "cell_type": "code",
   "execution_count": 1,
   "metadata": {
    "collapsed": false
   },
   "outputs": [
    {
     "name": "stdout",
     "output_type": "stream",
     "text": [
      "Writing src/LoopTest.sol\n"
     ]
    }
   ],
   "source": [
    "%%writefile src/LoopTest.sol\n",
    "//SPDX-License-Identifier: GPL-3.0-or-later\n",
    "pragma solidity ^0.8.0;\n",
    "\n",
    "contract LoopTest {\n",
    "    uint sum;\n",
    "    constructor() { //constructor() public {\n",
    "        init();\n",
    "    }\n",
    "    function forLoop() public {\n",
    "        //init();\n",
    "        uint sumLocal = 0;\n",
    "        for(uint i = 0; i < 101; i++) {\n",
    "            sumLocal += i;\n",
    "        }\n",
    "        sum = sumLocal;\n",
    "    }\n",
    "    function forLoopCostly() public {\n",
    "        init();\n",
    "        //uint sumLocal = 0;\n",
    "        for(uint i = 0; i < 101; i++) {\n",
    "            //sumLocal += i;\n",
    "            sum += i;\n",
    "        }\n",
    "        //sum = sumLocal;\n",
    "    }\n",
    "    function whileLoop() public {\n",
    "        uint i = 0;\n",
    "        uint sumLocal = 0;\n",
    "        while(i <= 100) {\n",
    "            sumLocal += i;\n",
    "            i++;\n",
    "        }\n",
    "        sum = sumLocal;\n",
    "    }\n",
    "    function whileLoopBreak() public {\n",
    "        uint sumLocal = 0;\n",
    "        uint i = 0;\n",
    "        while(true) {\n",
    "            sumLocal += i;\n",
    "            if(i==100) break;\n",
    "            i++;\n",
    "        }\n",
    "        sum = sumLocal;\n",
    "    }   \n",
    "    function doWhileLoop() public {\n",
    "        uint i = 0;\n",
    "        uint sumLocal = 0;\n",
    "        do {\n",
    "            sumLocal += i;\n",
    "            i++;\n",
    "        } while(i <= 100);\n",
    "        sum = sumLocal;\n",
    "    }\n",
    "    function init() public { sum = 0; }\n",
    "    function getSum() view public returns(uint) { return sum; }\n",
    "}"
   ]
  },
  {
   "cell_type": "code",
   "execution_count": 2,
   "metadata": {
    "collapsed": false
   },
   "outputs": [
    {
     "name": "stderr",
     "output_type": "stream",
     "text": [
      "Compiler run successful, no output requested.\n"
     ]
    }
   ],
   "source": [
    "!solc-windows.exe src/LoopTest.sol"
   ]
  },
  {
   "cell_type": "markdown",
   "metadata": {
    "slideshow": {
     "slide_type": "subslide"
    }
   },
   "source": [
    "## 1.3 조건문\n",
    "\n",
    "조건문 역시 다른 언어와 크게 다르지 않다.\n",
    "if, else if, else 문으로 조건을 평가할 수 있다.\n",
    "\n",
    "```python\n",
    "if(condition) {\n",
    "    ...\n",
    "} else if {\n",
    "    ...\n",
    "}\n",
    "```\n",
    "\n",
    "삼항 연산자 ternary operator는 간단한 if문을 대신해서 사용한다.\n",
    "물음표 (?) 앞에 조건, 콜론 (:)을 기준으로 '참일 경우 값':'거짓일 경우' 값을 적는다.\n",
    "```python\n",
    "betAmount=betAmount>amount ? amount : betAmount;\n",
    "```"
   ]
  },
  {
   "cell_type": "code",
   "execution_count": 3,
   "metadata": {
    "collapsed": false
   },
   "outputs": [
    {
     "name": "stdout",
     "output_type": "stream",
     "text": [
      "Writing src/ConditionalTest.sol\n"
     ]
    }
   ],
   "source": [
    "%%writefile src/ConditionalTest.sol\n",
    "//SPDX-License-Identifier: GPL-3.0-or-later\n",
    "pragma solidity ^0.8.0;\n",
    "\n",
    "contract ConditionalTest {\n",
    "    function toLowerCase(string memory str) pure public returns (string memory) {\n",
    "        bytes memory bIn = bytes(str);\n",
    "        bytes memory bOut = new bytes(bIn.length);\n",
    "        uint8 _iIn = 0;\n",
    "        for (uint i = 0; i < bIn.length; i++) {\n",
    "            _iIn = uint8(bIn[i]);\n",
    "            if (_iIn >= 65 && _iIn <= 90)    // ascii A:65 ~ Z:90                \n",
    "                bOut[i] = bytes1(_iIn + 32); // ascii a:97 ~ z:122\n",
    "            else \n",
    "                bOut[i] = bIn[i];\n",
    "        }\n",
    "        return string(bOut);\n",
    "    }\n",
    "    function abs(int i) pure public returns (int) {\n",
    "        return (i > 0) ? i : -i;\n",
    "    }\n",
    "}"
   ]
  },
  {
   "cell_type": "code",
   "execution_count": 4,
   "metadata": {
    "collapsed": false
   },
   "outputs": [
    {
     "name": "stderr",
     "output_type": "stream",
     "text": [
      "Compiler run successful, no output requested.\n"
     ]
    }
   ],
   "source": [
    "!solc-windows.exe src/ConditionalTest.sol"
   ]
  },
  {
   "cell_type": "markdown",
   "metadata": {},
   "source": [
    "## 실습: 인사하는 컨트랙\n",
    "\n",
    "\"Hello\"를 출력하는 프로그램을 수정해서 if문을 사용해 보자.\n",
    "modifier를 사용하면 조건문을 사용하지 않을 수 있다.\n",
    "조건문에서 비교문을 사용하게 되는데, ```string```은 참조타입이라 비교를 하면 주소를 비교하게 된다. 어떻게 해야 하는지 생각해보자.\n",
    "\n",
    "```python\n",
    "contract Hello1 {\n",
    "    function sayHello() \n",
    "    modifier isOwner()\n",
    "    function setHello()\n",
    "    function compareTo(string memory _str)\n",
    "    function getBalance()\n",
    "}\n",
    "```"
   ]
  },
  {
   "cell_type": "markdown",
   "metadata": {},
   "source": [
    "###  단계 1: 컨트랙 개발\n",
    "\n",
    "Line | 설명\n",
    "-----|-----\n",
    "1 | major version 최신으로 컴파일\n",
    "2 | contract 명. 파일명과 반드시 일치할 필요가 없다.\n",
    "3 | 속성 ```hello```. 누구나 사용할 수 없도록 ```private```\n",
    "4 | 속성 ```address```. ```private```으로 자신만 사용할 수 있게 선언.\n",
    "5 | ```event```로서 주소, 문자열 인자를 출력한다. Solidity에는 print문이 별도로 없다. 문자열을 반환하거나 ```event```문으로 출력할 수 있다.\n",
    "6 ~ 9 | 생성자로서 외부에서 인자를 받아 속성을 초기화. ```constructor```는 ```public``` 또는 ```internal```로 선언해야 한다. 속성 값을 넣어준다. ```msg```는 전역변수로서 ```msg.sender```는 전송자의 계정주소를 말한다. 생성자의 ```msg.sender```를 컨트랙의 소유주 ```owner```로 등록한다.\n",
    "10 ~ 12 | ```sayHello()``` 함수는 속성 값을 읽는다. 따라서 ```view```로 선언한다. 인자는 함수 내에서만 잠시 사용하므로 ```memory```로 선언\n",
    "13 ~ 18 | ```modifier``` 함수. ```msg.sender```와 ```owner```가 일치하지 않으면 예외처리한다. 아니면 계속 실행.\n",
    "19 ~ 29 | ```setHello()``` 함수는 ```event```함수를 가지고 있으므로 ```view```로 선언하지 않는다. ```view```와 ```event```는 같이 사용할 수 없다. ```event```는 상태를 변경하기 때문이다.\n",
    "30 ~ 37 | ```compareTo()```함수는 입력문자열과 hello를 비교한다. 문자열은 참조값이기 때문에 비교할 경우 참조를 비교하게 되므로 주의를 해야한다. hash로 비교하고 있다.\n",
    "38 ~ 40 | 잔고를 구한다.\n"
   ]
  },
  {
   "cell_type": "code",
   "execution_count": 5,
   "metadata": {
    "collapsed": false
   },
   "outputs": [
    {
     "name": "stdout",
     "output_type": "stream",
     "text": [
      "Writing src/Hello1.sol\n"
     ]
    }
   ],
   "source": [
    "%%writefile src/Hello1.sol\n",
    "//SPDX-License-Identifier: GPL-3.0-or-later\n",
    "pragma solidity ^0.8.0;\n",
    "\n",
    "contract Hello1 {\n",
    "    string private hello;\n",
    "    address private owner;\n",
    "    event PrintLog(address addr, string s);\n",
    "\n",
    "    constructor(string memory _hello) { //constructor(string memory _hello) public {\n",
    "        hello = _hello;\n",
    "        owner = msg.sender;\n",
    "    }\n",
    "    function sayHello() view public returns(string memory) {\n",
    "        return hello;\n",
    "    }\n",
    "    modifier isOwner() {\n",
    "        if (msg.sender != owner) {\n",
    "            revert();\n",
    "        }\n",
    "        _; //insert here the calling function\n",
    "    }\n",
    "    function setHello() public {\n",
    "        string memory s = \"\";\n",
    "        if (msg.sender == owner) {\n",
    "            s = \"Hello\";\n",
    "        } else {\n",
    "            s = \"Olleh\";\n",
    "        }\n",
    "        emit PrintLog(msg.sender, s);\n",
    "        hello = s;\n",
    "    }\n",
    "    function compareTo(string memory _str) view public returns(bool) {\n",
    "        bool isEqual = false;\n",
    "        //if (hello == _str) {\n",
    "        if (keccak256(bytes(hello)) == keccak256(bytes(_str))) {\n",
    "            isEqual = true;\n",
    "        }\n",
    "        return isEqual;\n",
    "    }\n",
    "    function getBalance() view public isOwner returns(uint) {\n",
    "        return address(this).balance;\n",
    "    }\n",
    "}\n"
   ]
  },
  {
   "cell_type": "markdown",
   "metadata": {},
   "source": [
    "### 단계 2: 컴파일"
   ]
  },
  {
   "cell_type": "code",
   "execution_count": 8,
   "metadata": {
    "collapsed": true,
    "scrolled": true
   },
   "outputs": [],
   "source": [
    "!solc-windows.exe src/Hello1.sol --combined-json abi > src/Hello1ABI.json"
   ]
  },
  {
   "cell_type": "code",
   "execution_count": 9,
   "metadata": {
    "collapsed": true,
    "scrolled": true
   },
   "outputs": [],
   "source": [
    "!solc-windows.exe src/Hello1.sol --combined-json bin > src/Hello1BIN.json"
   ]
  },
  {
   "cell_type": "markdown",
   "metadata": {},
   "source": [
    "### 단계 3: 배포\n",
    "\n",
    "bytecode는 16진수이므로 앞에 ```0x```를 붙여도 또는 붙여주지 않아도 된다.\n",
    "gas를 지급해야 하는 등 비용이 발생하는 경우에는 반드시 web3.personal.unlockAccount()를 해주어야 한다.\n",
    "REMIX를 사용하면, Web3 deploy를 복사해서 사용할 수 있다. abi, bin을 넣은 javascript명령문을 발견할 수 있다."
   ]
  },
  {
   "cell_type": "code",
   "execution_count": 2,
   "metadata": {
    "collapsed": false
   },
   "outputs": [
    {
     "name": "stdout",
     "output_type": "stream",
     "text": [
      "Overwriting src/Hello1DeployFromFile.js\n"
     ]
    }
   ],
   "source": [
    "%%writefile src/Hello1DeployFromFile.js\n",
    "var Web3=require('web3');\n",
    "var _abiJson = require('./Hello1ABI.json');\n",
    "var _binJson = require('./Hello1BIN.json');\n",
    "//var fs=require('fs');\n",
    "//var _str = fs.readFileSync(\"src/Hello1ABI.json\");\n",
    "//var _json=JSON.parse(_str)\n",
    "\n",
    "var web3 = new Web3(new Web3.providers.HttpProvider(\"http://localhost:8345\"));\n",
    "\n",
    "contractName=Object.keys(_abiJson.contracts); // reading ['src/Hello1.sol:Hello1']\n",
    "//console.log(\"- contract name: \", contractName[0]); //or console.log(contractName);\n",
    "_abiArray=_abiJson.contracts[contractName].abi;    //JSON parsing needed!!\n",
    "//_abiArray=JSON.parse(_abiJson.contracts[contractName].abi);    //JSON parsing needed!!\n",
    "_bin=\"0x\"+_binJson.contracts[contractName].bin;  // ok with \"0x\"\n",
    "//_bin=_binJson.contracts[contractName].bin;  // ok without\"0x\"\n",
    "//console.log(\"- ABI: \" + _abiArray);\n",
    "//console.log(\"- Bytecode: \" + _bin);\n",
    "\n",
    "//unlock the account with a password provided\n",
    "//web3.personal.unlockAccount(web3.eth.accounts[0],'password');\n",
    "async function deploy() {\n",
    "    const accounts = await web3.eth.getAccounts();\n",
    "    console.log(\"Deploying the contract from \" + accounts[0]);\n",
    "    var deployed = await new web3.eth.Contract(_abiArray)\n",
    "        .deploy({data: _bin, arguments: [\"Hello from web3\"]})\n",
    "        .send({from: accounts[0], gas: 1000000}, function(err, transactionHash) {\n",
    "                if(!err) console.log(\"hash: \" + transactionHash); \n",
    "        })\n",
    "        //.then(function(newContractInstance){\n",
    "        //    console.log(newContractInstance.options.address)\n",
    "        //});\n",
    "    console.log(\"---> The contract deployed to: \" + deployed.options.address)\n",
    "}\n",
    "deploy()\n"
   ]
  },
  {
   "cell_type": "code",
   "execution_count": 3,
   "metadata": {
    "collapsed": false
   },
   "outputs": [
    {
     "name": "stdout",
     "output_type": "stream",
     "text": [
      "Deploying the contract from 0x9357f478d86D9222f4413bFd91C8adb0F4c728b7\n",
      "hash: 0xb677bc893937465d2487e7ea36b1077eb6053b21263581f1cf68105a61b8e567\n",
      "---> The contract deployed to: 0xea7a5B548aBA1e6fE7532E4D1a7Ad9C32b8fE105\n"
     ]
    }
   ],
   "source": [
    "!node src/Hello1DeployFromFile.js"
   ]
  },
  {
   "cell_type": "markdown",
   "metadata": {},
   "source": [
    "개인망을 띄우고, node로 Hello1DeployFromFile.js를 실행하면 화면좌측에 보이듯이 transaction이 생성되고 그 hash값 이 주어진다.\n",
    "\n",
    "우측 geth 단말에서 보듯이 대기중 transaction hash 값이 서로 일치한다.\n",
    "마이닝을 하고 나면 contract 주소가 주어진다.\n",
    "\n",
    "```\n",
    "INFO [01-08|11:37:07.548] Submitted contract creation\n",
    "fullhash=0x2ef00671e310f594dca636acbc352ce61463e78110e8098b0d483c8374643248\n",
    "contract=0x96d8b65B4586B090840d6587C216D4A69071F405\n",
    "```\n",
    "\n",
    "![alt text](figures/sol_helloV1Web3DeployMining.png \"deploy hello.sol using web3 with mining\")"
   ]
  },
  {
   "cell_type": "markdown",
   "metadata": {
    "collapsed": true
   },
   "source": [
    "### REMIX에서 이벤트 확인하기\n",
    "\n",
    "* Environment를 Javascript VM으로\n",
    "* Deploy버튼 옆에 생성자 함수를 호출하기 위해 문자열 \"Hello from web3\"을 넣는다. 문자열에 따옴표를 잊지 않는다.\n",
    "* Deploy버튼을 누르면 \"Deployed Contracts\" 아래, Hello1 객체가 나타난다. 괄호안 메모리는 실제 블록체인에 배포되지 않았다는 의미 (Javascript VM이므로)\n",
    "* 속성 및 함수 버튼들을 눌러 결과가 출력되는지 보자.\n",
    "* setHello() 함수 버튼을 누르면 화면 우측 하단을 잘 살펴보자. 특히 굵은 글씨 \"logs\"를 누르면 하단에 표가 펼쳐지고 이벤트 로그를 볼 수 있다.\n",
    "\n",
    "![alt text](figures/sol_eventREMIX.png \"geth download page\")"
   ]
  },
  {
   "cell_type": "markdown",
   "metadata": {},
   "source": [
    "### 단계 4: 사용\n",
    "\n",
    "이벤트는 transaction log에 저장이 된다.\n",
    "이벤트는 거래가 마이닝되어 블럭에 포함되어야만 발생된다.\n",
    "트랙잭션이 pending되어 완료가 되지 않으면, 로그에 포함되지 않기 때문에 여기서 이벤틑가 발생하는지 지켜보는 경우 대기하게 된다.\n",
    "단 이벤트가 발생하는 순서는 지켜진다.\n",
    "단순하게 블록체인의 transaction이 아닌 ```call()```은 이벤트를 발생하지 않게 된다."
   ]
  },
  {
   "cell_type": "code",
   "execution_count": 16,
   "metadata": {
    "collapsed": false
   },
   "outputs": [
    {
     "name": "stdout",
     "output_type": "stream",
     "text": [
      "Overwriting src/Hello1UseFromFile.js\n"
     ]
    }
   ],
   "source": [
    "%%writefile src/Hello1UseFromFile.js\n",
    "var Web3=require('web3');\n",
    "var _abiJson = require('./Hello1ABI.json');\n",
    "//var web3=new Web3(new Web3.providers.HttpProvider(\"http://117.16.44.45:8345\"));       //nok\n",
    "//var web3 = new Web3(new Web3.providers.WebsocketProvider(\"http://117.16.44.45:8345\"));  //ok\n",
    "var web3 = new Web3(new Web3.providers.WebsocketProvider(\"ws://117.16.44.45:8345\"));  //ok\n",
    "//var fs=require('fs');\n",
    "//var _str = fs.readFileSync(\"src/Hello1.json\");\n",
    "//var _json = JSON.parse(_str)\n",
    "\n",
    "contractName=Object.keys(_abiJson.contracts); // reading ['src/Hello1.sol:Hello1']\n",
    "console.log(\"- contract name: \", contractName[0]); //or console.log(contractName);\n",
    "_abiArray=JSON.parse(_abiJson.contracts[contractName].abi);    //JSON parsing needed!!\n",
    "\n",
    "async function doIt() {\n",
    "    var hello = new web3.eth.Contract(_abiArray, \"0x5A9D02844aAdfb407A1AD0E0d6fA14627672B026\");\n",
    "    var event = hello.events.PrintLog(function (error, event) {\n",
    "        console.log(\">>> Event fired: \" + JSON.stringify(event.returnValues));\n",
    "    })\n",
    "    .on('>> data', function(event) {\n",
    "        console.log(event);\n",
    "    })\n",
    "    .on('>> changed', function(event) {\n",
    "        console.log(event);\n",
    "    })\n",
    "    .on('>> error', console.error);\n",
    "    const accounts = await web3.eth.getAccounts();\n",
    "    console.log(\"Account: \" + accounts[0]);\n",
    "    const balanceBefore = await web3.eth.getBalance(accounts[0]);\n",
    "    console.log(\"Balance before: \" + balanceBefore);\n",
    "    hello.methods.sayHello().call().then(console.log);  //null\n",
    "    await hello.methods.setHello().send({from: accounts[0]});\n",
    "    hello.methods.sayHello().call().then(console.log);\n",
    "    hello.methods.compareTo(\"Hello\").call().then(console.log);\n",
    "    const balanceAfter = await web3.eth.getBalance(accounts[0]);\n",
    "    console.log(\"Balance after: \" + balanceAfter);\n",
    "    console.log(\"Balance diff: \" + (balanceBefore - balanceAfter));\n",
    "    \n",
    "}\n",
    "doIt()\n"
   ]
  },
  {
   "cell_type": "markdown",
   "metadata": {},
   "source": [
    "웹소켓을 사용하면, 프로세스가 계속되고 있다. 프로세스를 인위적으로 해제해주어야 한다."
   ]
  },
  {
   "cell_type": "code",
   "execution_count": null,
   "metadata": {
    "collapsed": false
   },
   "outputs": [
    {
     "name": "stdout",
     "output_type": "stream",
     "text": [
      "- contract name:  src/Hello1.sol:Hello1\n",
      "Account: 0x42E5468FC83A0c5F6D4d2E1E632bd8864Dd87bd1\n",
      "Balance before: 99964578880000000000\n",
      "Hello from web3\n",
      ">>> Event fired: {\"0\":\"0x42E5468FC83A0c5F6D4d2E1E632bd8864Dd87bd1\",\"1\":\"Hello\",\"addr\":\"0x42E5468FC83A0c5F6D4d2E1E632bd8864Dd87bd1\",\"s\":\"Hello\"}\n",
      "Hello\n",
      "true\n",
      "Balance after: 99963981860000000000\n",
      "Balance diff: 597019999993856\n"
     ]
    }
   ],
   "source": [
    "!node src/Hello1UseFromFile.js"
   ]
  },
  {
   "cell_type": "markdown",
   "metadata": {},
   "source": [
    "## 실습: 블록체인에서 컨트랙 삭제\n",
    "\n",
    "컨트랙의 소스코드는 만들어지면 영구히 남게된다.\n",
    "보통 프로그램은 요구사항이 변경되면 수정하고 다시 배포하는 것이 가능하지만\n",
    "블록체인의 프로그램은 그렇게 유지보수 할 수 없다.\n",
    "오류가 발생하거나, 쓸모가 없어지면 삭제를 해야 한다.\n",
    "\n",
    "이 때 쓰는 명령어가 selfdestruct()이고,\n",
    "코드와 관련 메모리가 블록체인으로부터 제거된다.\n",
    "당연히 이 명령어를 사용할 때는 매우 신중해야 한다.\n",
    "보관되어 있는 잔고 역시 전액 정리되어야 한다.\n",
    "\n",
    "잔고를 전액 반환하기 때문에, selfdestruct()는 지급가능한 주소가 필요하다.\n",
    "Solidity 0.6.x 부터는 payable이라고 명시해야 한다.\n",
    "```\n",
    "selfdestruct(payable(owner));\n",
    "```"
   ]
  },
  {
   "cell_type": "markdown",
   "metadata": {},
   "source": [
    "###  단계 1: 컨트랙 개발"
   ]
  },
  {
   "cell_type": "code",
   "execution_count": 15,
   "metadata": {
    "collapsed": false
   },
   "outputs": [
    {
     "name": "stdout",
     "output_type": "stream",
     "text": [
      "Overwriting src/Hello2.sol\n"
     ]
    }
   ],
   "source": [
    "%%writefile src/Hello2.sol\n",
    "//SPDX-License-Identifier: GPL-3.0-or-later\n",
    "pragma solidity ^0.8.0;\n",
    "\n",
    "contract Hello2 {\n",
    "    string hello;\n",
    "    address owner; //address payable owner;\n",
    "\n",
    "    event PrintLog(string _s);\n",
    "    constructor() { //constructor() public {\n",
    "        owner = msg.sender;\n",
    "    }\n",
    "    function sayHello() view public returns(string memory) {\n",
    "        return hello;\n",
    "    }\n",
    "    function setHello(string memory _hello) public payable {\n",
    "        hello = _hello;\n",
    "        emit PrintLog(_hello);\n",
    "    }\n",
    "    function getBalance() view public returns(uint) {\n",
    "        return address(this).balance;\n",
    "    }\n",
    "    function kill() public {\n",
    "        if (msg.sender == owner) selfdestruct(payable(owner));\n",
    "    }\n",
    "}"
   ]
  },
  {
   "cell_type": "markdown",
   "metadata": {},
   "source": [
    "### 단계 2: 컴파일"
   ]
  },
  {
   "cell_type": "code",
   "execution_count": 16,
   "metadata": {
    "collapsed": true
   },
   "outputs": [],
   "source": [
    "!solc-windows.exe src/Hello2.sol --combined-json abi > src/Hello2ABI.json"
   ]
  },
  {
   "cell_type": "code",
   "execution_count": 24,
   "metadata": {
    "collapsed": false
   },
   "outputs": [
    {
     "name": "stdout",
     "output_type": "stream",
     "text": [
      "{\"contracts\":{\"src/Hello2.sol:Hello2\":{\"abi\":[{\"inputs\":[],\"stateMutability\":\"nonpayable\",\"type\":\"constructor\"},{\"anonymous\":false,\"inputs\":[{\"indexed\":false,\"internalType\":\"string\",\"name\":\"_s\",\"type\":\"string\"}],\"name\":\"PrintLog\",\"type\":\"event\"},{\"inputs\":[],\"name\":\"getBalance\",\"outputs\":[{\"internalType\":\"uint256\",\"name\":\"\",\"type\":\"uint256\"}],\"stateMutability\":\"view\",\"type\":\"function\"},{\"inputs\":[],\"name\":\"kill\",\"outputs\":[],\"stateMutability\":\"nonpayable\",\"type\":\"function\"},{\"inputs\":[],\"name\":\"sayHello\",\"outputs\":[{\"internalType\":\"string\",\"name\":\"\",\"type\":\"string\"}],\"stateMutability\":\"view\",\"type\":\"function\"},{\"inputs\":[{\"internalType\":\"string\",\"name\":\"_hello\",\"type\":\"string\"}],\"name\":\"setHello\",\"outputs\":[],\"stateMutability\":\"payable\",\"type\":\"function\"}]}},\"version\":\"0.8.1+commit.df193b15.Windows.msvc\"}\n"
     ]
    }
   ],
   "source": [
    "!type src\\Hello2ABI.json"
   ]
  },
  {
   "cell_type": "code",
   "execution_count": 17,
   "metadata": {
    "collapsed": true
   },
   "outputs": [],
   "source": [
    "!solc-windows.exe src/Hello2.sol --combined-json bin > src/Hello2BIN.json"
   ]
  },
  {
   "cell_type": "markdown",
   "metadata": {},
   "source": [
    "### 단계 3: 배포\n",
    "\n",
    "컴파일한 후 abi, bin을 저장한 파일에서 읽어서 배포해보자.\n"
   ]
  },
  {
   "cell_type": "code",
   "execution_count": 1,
   "metadata": {
    "collapsed": true
   },
   "outputs": [],
   "source": [
    "%%writefile src/Hello2DeployFromFile.js\n",
    "var Web3=require('web3');\n",
    "var _abiJson = require('./Hello2ABI.json');\n",
    "var _binJson = require('./Hello2BIN.json');\n",
    "var web3=new Web3(new Web3.providers.HttpProvider(\"http://localhost:8345\"));\n",
    "\n",
    "contractName=Object.keys(_abiJson.contracts); // reading ['src/Hello2.sol:Hello2']\n",
    "console.log(\"- contract name: \", contractName[0]); //or console.log(contractName);\n",
    "_abiArray=_abiJson.contracts[contractName].abi;\n",
    "//_abiArray=JSON.parse(_abiJson.contracts[contractName].abi);    //JSON parsing needed!!\n",
    "_bin=\"0x\"+_binJson.contracts[contractName].bin; //ok without \"0x\"\n",
    "\n",
    "//unlock the account with a password provided\n",
    "//web3.personal.unlockAccount(web3.eth.accounts[0],'password');\n",
    "async function deploy() {\n",
    "    const accounts = await web3.eth.getAccounts();\n",
    "    console.log(\"Deploying the contract from \" + accounts[0]);\n",
    "    var deployed = await new web3.eth.Contract(_abiArray)\n",
    "        .deploy({data: _bin})\n",
    "        .send({from: accounts[0], gas: 1000000}, function(err, transactionHash) {\n",
    "                if(!err) console.log(\"hash: \" + transactionHash); \n",
    "        })\n",
    "        //.then(function(newContractInstance){\n",
    "        //    console.log(newContractInstance.options.address)\n",
    "        //});\n",
    "    console.log(\"---> The contract deployed to: \" + deployed.options.address)\n",
    "}\n",
    "deploy()"
   ]
  },
  {
   "cell_type": "code",
   "execution_count": 3,
   "metadata": {
    "collapsed": false
   },
   "outputs": [
    {
     "name": "stdout",
     "output_type": "stream",
     "text": [
      "- contract name:  src/Hello2.sol:Hello2\n",
      "Deploying the contract from 0x9357f478d86D9222f4413bFd91C8adb0F4c728b7\n",
      "hash: 0x5b375a9b43ce502536c1d9ab67201d635401b339cbb636147b785efc2a4f4c48\n",
      "---> The contract deployed to: 0x0de24099235b8CB671f3Ed2771F69B2049F679AF\n"
     ]
    }
   ],
   "source": [
    "!node src/Hello2DeployFromFile.js"
   ]
  },
  {
   "cell_type": "markdown",
   "metadata": {},
   "source": [
    "### 단계 4: 사용"
   ]
  },
  {
   "cell_type": "code",
   "execution_count": 2,
   "metadata": {
    "collapsed": false
   },
   "outputs": [
    {
     "name": "stdout",
     "output_type": "stream",
     "text": [
      "Overwriting src/Hello2UseFromFile.js\n"
     ]
    }
   ],
   "source": [
    "%%writefile src/Hello2UseFromFile.js\n",
    "var Web3=require('web3');\n",
    "var _abiJson = require('./Hello2ABI.json');\n",
    "//var web3=new Web3(new Web3.providers.HttpProvider(\"http://117.16.44.45:8345\"));       //nok\n",
    "//var web3 = new Web3(new Web3.providers.WebsocketProvider(\"http://117.16.44.45:8345\"));  //ok\n",
    "var web3 = new Web3(new Web3.providers.WebsocketProvider(\"ws://localhost:8345\"));  //ok\n",
    "\n",
    "contractName=Object.keys(_abiJson.contracts); // reading ['src/Hello2.sol:Hello2']\n",
    "console.log(\"- contract name: \", contractName[0]); //or console.log(contractName);\n",
    "_abiArray=_abiJson.contracts[contractName].abi;\n",
    "//_abiArray=JSON.parse(_abiJson.contracts[contractName].abi);    //JSON parsing needed!!\n",
    "\n",
    "async function doIt() {\n",
    "    var hello = new web3.eth.Contract(_abiArray, \"0x0de24099235b8CB671f3Ed2771F69B2049F679AF\");\n",
    "    var event = hello.events.PrintLog(function (error, result) {\n",
    "        if (!error) {\n",
    "            console.log(\"Event fired: \" + JSON.stringify(result.returnValues));\n",
    "        }\n",
    "    });\n",
    "    const accounts = await web3.eth.getAccounts();\n",
    "    console.log(\"Account: \" + accounts[0]);\n",
    "    const balanceBefore = await web3.eth.getBalance(accounts[0]);\n",
    "    console.log(\"Balance before: \" + balanceBefore);\n",
    "    hello.methods.sayHello().call().then(console.log);  //null\n",
    "    await hello.methods.setHello(\"Hello World!\").send({from: accounts[0], value: 1111});\n",
    "    hello.methods.sayHello().call().then(console.log);\n",
    "    //hello.methods.getBalance().call(function(err, bal) { console.log(\"Contract Balance: \"+bal) });\n",
    "    const balanceAfter = await web3.eth.getBalance(accounts[0]);\n",
    "    console.log(\"Balance after: \" + balanceAfter);\n",
    "    console.log(\"Balance diff: \" + (balanceBefore - balanceAfter));\n",
    "    process.exit(1);  //force exit\n",
    "    //hello.methods.kill().send({from: accounts[0]})\n",
    "}\n",
    "\n",
    "doIt()\n"
   ]
  },
  {
   "cell_type": "markdown",
   "metadata": {},
   "source": [
    "kill 함수를 마지막에 호출하기 때문에 한 번 실행해서 결과를 출력한 후, 재호출하면 ```Error: Returned values aren't valid, did it run Out of Gas?```가 호출된다."
   ]
  },
  {
   "cell_type": "code",
   "execution_count": 3,
   "metadata": {
    "collapsed": false
   },
   "outputs": [
    {
     "name": "stdout",
     "output_type": "stream",
     "text": [
      "- contract name:  src/Hello2.sol:Hello2\n",
      "Account: 0x9357f478d86D9222f4413bFd91C8adb0F4c728b7\n",
      "Balance before: 999969369785999991900\n",
      "Hello World!\n",
      "Event fired: {\"0\":\"Hello World!\",\"_s\":\"Hello World!\"}\n",
      "Balance after: 999969310753999990789\n",
      "Balance diff: 59032000004096\n"
     ]
    }
   ],
   "source": [
    "!node src/Hello2UseFromFile.js"
   ]
  },
  {
   "cell_type": "markdown",
   "metadata": {},
   "source": [
    "## 1.4 무작위 수의 생성\n",
    "\n",
    "블록체인에서 무작위 수를 생성하기 위해서는 전역변수를 활용해야 한다.\n",
    "전역변수를 256비트의 해시값으로 만들고, modulus를 이용해 일정 범위의 수가 생성되도록 한다.\n",
    "\n",
    "일련의 무작위 수를 생성하기 위해서는 전역변수 값이 짧은 시간에 변동하지 않으므로,\n",
    "매 번 다른 수가 생성되도록 하려면, 약간의 트릭을 써서 카운터 값을 더해주도록 한다.\n",
    "\n",
    "abi.encodedPacked는 encoding 방식을 말한다. 예를 들면 앞서 배웠던 ABI 인터페이스에서 zero padding을 했으나 abi.encodedPacked 방식은 이를 하지 않는다."
   ]
  },
  {
   "cell_type": "code",
   "execution_count": 4,
   "metadata": {
    "collapsed": false
   },
   "outputs": [
    {
     "name": "stdout",
     "output_type": "stream",
     "text": [
      "Writing src/Random.sol\n"
     ]
    }
   ],
   "source": [
    "%%writefile src/Random.sol\n",
    "//SPDX-License-Identifier: GPL-3.0-or-later\n",
    "pragma solidity ^0.8.0;\n",
    "\n",
    "contract Random {\n",
    "    function rand() public view returns(bytes32) {\n",
    "        return keccak256(abi.encodePacked(block.timestamp, block.difficulty));\n",
    "    }\n",
    "    function rand0and250() public view returns(uint8) {\n",
    "        return uint8(uint256(keccak256(abi.encodePacked(block.timestamp, block.difficulty)))%251);\n",
    "    }\n",
    "    function rand0and9() public view returns(uint8) {\n",
    "        return uint8(uint256(keccak256(abi.encodePacked(block.timestamp, block.difficulty)))%10);\n",
    "    }\n",
    "    function rand0and2() public view returns(uint8) {\n",
    "        return uint8(uint256(keccak256(abi.encodePacked(block.timestamp, block.difficulty)))%3);\n",
    "    }\n",
    "    function genRandomInteger() view public returns(uint8[] memory) {\n",
    "        uint8[] memory r = new uint8[](10);\n",
    "        for(uint i = 0; i<r.length; i++)\n",
    "            //r[i] = uint8(uint256(keccak256(abi.encodePacked(block.timestamp, block.difficulty)))%10);\n",
    "            //change timestamp by adding i, otherwise all the same numbers generated\n",
    "            r[i] = uint8(uint256(keccak256(abi.encodePacked(block.timestamp + i, block.difficulty)))%10);\n",
    "        return r;\n",
    "    }\n",
    "}\n"
   ]
  },
  {
   "cell_type": "code",
   "execution_count": 5,
   "metadata": {
    "collapsed": false
   },
   "outputs": [
    {
     "name": "stderr",
     "output_type": "stream",
     "text": [
      "Compiler run successful, no output requested.\n"
     ]
    }
   ],
   "source": [
    "!solc-windows.exe src/Random.sol"
   ]
  },
  {
   "cell_type": "markdown",
   "metadata": {},
   "source": [
    "# 2. 데이터구조\n",
    "\n",
    "\n",
    "## 2.1 배열\n",
    "\n",
    "배열은 관련이 있는 데이터를 하나의 변수로 묶어 놓은 구조이다.\n",
    "순서가 있기 때문에 인덱스를 사용하여 요소를 특정할 수 있다.\n",
    "컴파일 시점에 메모리가 할당되는 고정배열과 실행시점에 메모리가 배정되는 동적배열로 구분할 수 있다.\n",
    "\n",
    "### 2.1.1 고정배열\n",
    "\n",
    "#### 고정배열의 선언\n",
    "\n",
    "고정배열은 배열이 저장하는 데이터의 개수를 사전에 정할 수 있는 경우에 사용한다.\n",
    "다음은 ```uint balance```를 배열, 크기 5개로 선언하는 코드이다.\n",
    "```\n",
    "uint[5] balance;\n",
    "```\n",
    "\n",
    "#### 고정배열은 인덱스를 사용하여 입력, 수정\n",
    "\n",
    "우측은 요소가 3개로 정해져 있는 배열이므로 좌측의 고정배열에 할당할 수 있다.\n",
    "또는 인덱스를 사용하여 입력하고 수정할 수 있다. 그러나 push() 함수를 사용할 수 없다.\n",
    "\n",
    "```python\n",
    "string[3] cities1=[\"Seoul\", \"Sydney\", \"Tokyo\"];\n",
    "```\n",
    "\n",
    "고정배열에 대해 push는 사용할 수 없다.\n",
    "```\n",
    "int[5] mathMarks;\n",
    "mathMarks.push(100); //오류. 고정배열에 push 사용하지 못함.\n",
    "```\n",
    "\n",
    "#### 데이터타입의 범위를 벗어나는 값을 지정하지 않는다\n",
    "\n",
    "배열의 타입에 허용되는 값의 범위를 넘어서면 오류가 발생한다.\n",
    "예를 들어, uint에 음수 값을 지정하거나, uint8에 256을 지정하거나, uint16에 65536을 넣으면 오류가 발생한다.\n",
    "```\n",
    "uint8[5] balance = [255, 255, 95, 50, -1];  //오류: -1이 음수\n",
    "uint8[5] balance = [255, 256, 95, 50, 1];  //오류: 256이 8비트 범위 밖 -> uint16\n",
    "uint16[5] balance = [255, 65536, 95, 50, 1];  //오류: 65536이 16비트 범위 밖 -> uint24\n",
    "```\n",
    "\n",
    "#### 함수에서 고정배열을 초기화\n",
    "\n",
    "* 함수 내에서 배열을 초기화하려고 하면 형변환의 문제가 발생한다.\n",
    "mathMarks는 정수배열 ```int[]```로서 storage에 선언되어 있다.\n",
    "이 storage 배열을 아래와 같이 그룹으로 초기화하면 오류가 발생한다.\n",
    "```\n",
    "mathMarks=[100,60,95,50,80]; //오류: 함수 내 우측 배열은 uint8 memory -> mathMarks의 int로 변환 오류 \n",
    "mathMarks=uint8([100,60,95,50,80]); //오류: 우측 배열 uint8 memory -> uint8() 형변환 오류\n",
    "```\n",
    "\n",
    "위 코드의 오류를 설명해보자.\n",
    "* 함수 내에서 ```[100, 60, 95, 50, 80]```이라고 우측 값을 넣으면, ```int[] memory```가 된다. 게다가 값의 범위가 256을 넘지 않으므로 uint8[] memory가 된다.\n",
    "* 따라서 uint8[] memory를 int[]로 넣지 못한다. 서로 타입이 서로 맞지 않는다.\n",
    "* 반복문으로 하나씩 읽어서 ```uint8 -> int8 -> int```로 변환해 주어야 한다.\n",
    "```\n",
    "contrat ArrayTest2 {\n",
    "    int[5] mathMarks;  //storage 변수\n",
    "    function setMathMarks() public {\n",
    "        uint8[5] memory temp = [100, 60, 95, 50, 80];\n",
    "        for (uint i = 0; i < temp.length; i++)\n",
    "            mathMarks[i] = int(int8(temp[i])); //ok: uint8 -> int8 -> int256\n",
    "    }\n",
    "}\n",
    "```\n",
    "\n",
    "#### 배열 storage의 읽기\n",
    "\n",
    "* 함수에서 storage 배열을 반환하려면, 값을 하나씩 돌려주도록 한다.\n",
    "* 함수에서 storage 배열의 전체를 반환하는 것은 쉽지 않다.\n",
    "그 이유는 함수 내에서 반환하려면 memory로 해야 하고, storage와 타입이 맞지 않게 되기 때문이다.\n",
    "\n",
    "* 우선 메모리배열을 선언하여 공간을 확보한다. \n",
    "```\n",
    "int[] memory _arr256 = new int[](mathMarks.length);\n",
    "```\n",
    "\n",
    "* 반복문으로 값을 하나씩 stoarage -> memory로 옮기고 반환한다.\n",
    "```\n",
    "contrat ArrayTest2 {\n",
    "    int[5] mathMarks;  //storage 변수\n",
    "    function getMathMarks() view public returns (int[] memory) {\n",
    "        //return mathMarks;  //storage를 memory로 반환하면 오류 발생: int[] storage -> int[] memory\n",
    "        int[] memory _arr256 = new int[](mathMarks.length);\n",
    "        for (uint i = 0; i < mathMarks.length; i++)\n",
    "            _arr256[i] = int256(mathMarks[i]);\n",
    "        return _arr256;\n",
    "    }\n",
    "}\n",
    "```\n",
    "\n",
    "#### 배열의 삭제\n",
    "\n",
    "배열을 삭제하는 경우 특정 인덱스를 정해서 ```delete array[index]```.\n",
    "그러나 그 데이터 항목은 그대로 유지된다는 점에 주의해야 한다.\n",
    "예를 들어, 배열 ```data``` ```[1, 2, 3, 4]```에서 ```delete data[2]```하면 ```[1, 2, 0, 4]```가 된다.\n",
    "\n",
    "#### 배열의 크기\n",
    "\n",
    "```length```를 사용하여 배열 크기를 알 수 있다.\n"
   ]
  },
  {
   "cell_type": "markdown",
   "metadata": {},
   "source": [
    "### 2.1.2 동적배열\n",
    "\n",
    "고정배열은 크기가 사전에 정해져 있는데 반해, 동적배열은 크기가 정해져 있지 않아서 실행시점에 메모리가 할당되며 크기가 수정될 수도 있다.\n",
    "동적배열의 선언은 크기없이 다음과 같이 한다.\n",
    "\n",
    "* 초기화\n",
    "\n",
    "```python\n",
    "int[] arr; //동적배열 선언\n",
    "```"
   ]
  },
  {
   "cell_type": "markdown",
   "metadata": {},
   "source": [
    "#### **동적 배열은 그 크기를 알 수 없으므로 반환을 할 수 없다**.\n",
    "\n",
    "배열을 반환하는 경우 사전에  크기를 알아야 한다.\n",
    "또는 ```pragma experimental ABIEncoderV2;```라고 프로그램 앞에 선언해주어야 한다."
   ]
  },
  {
   "cell_type": "markdown",
   "metadata": {},
   "source": [
    "#### 동적배열은 storage에서만 가능하다. memory 영역에서는 사용할 수 없다.\n",
    "\n",
    "함수 내에서 동적배열 선언을 하기 위해서는 memory 키워드를 사용할 수 있지만,\n",
    "memory의 배열은 크기를 동적으로 재할당할 수 없다.\n",
    "memory 영역에서는 동적배열을 사용하는 필요성이 없어지게 된다.\n",
    "\n",
    "동적배열을 사용하려면, storage 영역을 사용하는 상태변수를 이용해야 한다.\n",
    "```python\n",
    "contract my { \n",
    "    uint[] myArr; //동적배열 가능.\n",
    "    function setArr() public {\n",
    "       myArr.push(11); //동적배열에 대해 push 함수를 사용한다.\n",
    "    }\n",
    "}\n",
    "```\n",
    "\n",
    "```python\n",
    "contract my { \n",
    "    function setArr() public {\n",
    "       uint[] myArr; //오류. 로컬에서 동적배열 사용할 수 없다.\n",
    "    }\n",
    "}\n",
    "```"
   ]
  },
  {
   "cell_type": "markdown",
   "metadata": {},
   "source": [
    "#### ```push```는 ```storage``` 배열에만 사용하고 (즉 상태변수의 배열), ```memory``` 배열에는 사용할 수 없다.\n",
    "\n",
    "동적배열은 storage에서만 가능하고, 그 배열에는 push() 함수를 사용하여 데이터를 추가할 수 있다\n",
    "동적배열로 선언했다 하더라도 memory 배열에 대해서는 push 함수를 사용할 수 없다."
   ]
  },
  {
   "cell_type": "markdown",
   "metadata": {},
   "source": [
    "#### 동적배열을 memory에서 사용할 때 new, 괄호 안에 개수 적는다.\n",
    "\n",
    "동적배열을 memory에서 사용하면, 그 크기를 정해서 초기화해주어야 한다.\n",
    "이 겨우 ```new``` 명령어로 생성할 수 있고, 괄호 안에 개수를 적어서 초기화할 수 있다.\n",
    "갯수가 정해지면 고정배열이 되어 버린다.\n",
    " \n",
    "```python\n",
    "function setLocalDynamicArr() view public returns(uint) {\n",
    "\t//uint[] myArr; //오류. storage 또는 memory 선언 필요\n",
    "\t//uint[] storage myArr; //오류. uninitialized storage\n",
    "\t//uint[] memory myArr; //오류. 동적배열 선언 가능. 그러나 push 못함.\n",
    "\t//uint[] myArr = new uint[](3); //오류. storage 또는 memory 필요.\n",
    "\t//uint[] storage myArr = new uint[](3); //오류. 좌측은 memory. 우측 stoarge로 변환 오류\n",
    "\tuint[] memory myArr = new uint[](3); //정상. memory 동적배열은 크기를 할당해야 한다.\n",
    "\t//myArr.push(11); //오류. myArr 크기가 정해져서, 고정배열에 push 사용하지 못함.\n",
    "\tmyArr[0]=11; //정상. 인덱스를 사용해서 입력\n",
    "\tmyArr[1]=12; //정상.\n",
    "    //myArr.push(13); //오류.\n",
    "\t//myArr[5]=15; //오류.\n",
    "    return myArr.length; //반환 3\n",
    "}\n",
    "```\n",
    "\n",
    "또는 다음과 같이 초기화하지 않으면, 컴파일 오류는 없지만 실행오류가 발생한다.\n",
    "크기를 정해주어야 한다는 것을 재확인하게 된다.\n",
    "```\n",
    "function setArr() pure public {\n",
    "\t\tuint[] memory myArr;\n",
    "\t    myArr[0]=11;\n",
    "\t    myArr[1]=12;\n",
    "\t    myArr[5]=15;\n",
    "```"
   ]
  },
  {
   "cell_type": "markdown",
   "metadata": {},
   "source": [
    "```string```은 그 자체로 동적배열이다.\n",
    "\n",
    "```python\n",
    "string[] cities2;\n",
    "cities2.push(\"New York\");\n",
    "cities2.push(\"Beijing\");\n",
    "```\n",
    "\n",
    "```\n",
    "function setCities() public {\n",
    "    //string my = \"Seoul\"; //오류. 우측이 로컬이므로 좌측 string은 memory\n",
    "    string memory my = \"seoul\"; //정상\n",
    "    //string[2] storage places = [\"9000\", \"Sydney\"]; //오류\n",
    "    string[2] memory places = [\"9000\", \"Sydney\"];  //정상\n",
    "}\n",
    "```\n"
   ]
  },
  {
   "cell_type": "markdown",
   "metadata": {},
   "source": [
    "### 2.1.3 다차원배열\n",
    "\n",
    "정수의 동적 2차원배열이다.\n",
    "앞의 3은 요소의 개수를, 뒤는 배열의 개수를 의미한다.\n",
    "다음 예는 3개의 요소를 가진 배열이 2개라는 선언이다.\n",
    "\n",
    "```python\n",
    "uint[3][] marks=[[100, 80, 95],[20,30,40]];\n",
    "```"
   ]
  },
  {
   "cell_type": "markdown",
   "metadata": {},
   "source": [
    "## 실습: 배열\n",
    "\n",
    "### 단계 1: 컨트랙 개발\n",
    "\n",
    "함수 명 | 설명\n",
    "-----|-----\n",
    "```getDynamicArrMemory()``` | 메모리에 선언된 동적배열이지만 데이터를 채우고 크기를 알게 되면 반환가능 ```uint[] memory```\n",
    "```getStringDynamicArrMemory()``` | ```string```은 그 자체로 동적배열이므로 반환 불가능 ```string[] memory```\n",
    "```getCities1_()``` | ```string```은 그 자체로 동적배열이므로 반환 불가능 ```string[] memory```\n",
    "```getCities1()``` | ```string``` 1개씩은 반환 가능\n",
    "```getCities2()``` | ```pragma experimental ABIEncoderV2```를 사용하면 ```string``` 동적 배열 반환가능\n",
    "```getMathAbove70()``` | 크기를 결정하지 않고, 값을 할당할 수 없슴\n",
    "```function setMathMarks()``` | storage 변수를 함수 내에서 초기화하려면, 요소 하나씩 형변환한다.\n",
    "```function getMathMarks()``` | storage 변수를 함수 내에서 반환하려면, 요소별로 형변환하여 memory변수로 반환한다."
   ]
  },
  {
   "cell_type": "code",
   "execution_count": 25,
   "metadata": {
    "collapsed": false
   },
   "outputs": [
    {
     "name": "stdout",
     "output_type": "stream",
     "text": [
      "Overwriting src/ArrayTest2.sol\n"
     ]
    }
   ],
   "source": [
    "%%writefile src/ArrayTest2.sol\n",
    "//SPDX-License-Identifier: GPL-3.0-or-later\n",
    "pragma solidity ^0.8.0;\n",
    "pragma experimental ABIEncoderV2;\n",
    "\n",
    "contract ArrayTest2 {\n",
    "    string[3] cities1=[\"Seoul\", \"Sydney\", \"Tokyo\"];\n",
    "    string[] cities2 = new string[](2);\n",
    "    string[] cities3;\n",
    "    uint24[5] balance = [255, 65536, 95, 50, 1];\n",
    "    int[5] mathMarks;\n",
    "    uint[3][] marks=[[100, 80, 95],[20,30,40]];\n",
    "\n",
    "    function setLocalDynamicArr() pure public returns(uint) {\n",
    "        //uint[] myArr; //error\n",
    "        //uint[] storage myArr; //error uninitialized storage\n",
    "        //uint[] memory myArr; //ok. but cannot push\n",
    "        //uint[] myArr = new uint[](3); //error\n",
    "        //uint[] storage myArr = new uint[](3); //error conversion from memory to stoarge\n",
    "        uint[] memory myArr = new uint[](3);\n",
    "        //myArr.push(11); //error\n",
    "        myArr[0]=11;\n",
    "        myArr[1]=12;\n",
    "        //myArr.push(13); //error\n",
    "        //myArr[5]=15;\n",
    "        return myArr.length;\n",
    "    }\n",
    "    function getDynamicArrMemory() pure public returns(uint[] memory) {\n",
    "        uint[] memory num=new uint[](3);  //dynamic\n",
    "        for (uint i=0; i<num.length; i++)\n",
    "            num[i]=i;       //push() not allowed for array memeory\n",
    "        return num;\n",
    "    }\n",
    "    //string is a dynamic array itself, which can not be returned.\n",
    "    //function setArrMemory() view public returns(string[] memory) {\n",
    "    function getStringDynamicArrMemory() pure public {\n",
    "        //array storage not allowed\n",
    "        //error: string[2] storage places = [\"9000\", \"Sydney\"];\n",
    "        string[2] memory places = [\"9000\", \"Sydney\"];\n",
    "        //array memory push not allowed\n",
    "        //places.push(\"Seoul\");\n",
    "        places[0]=\"Seoul\";\n",
    "        //return places;\n",
    "    }\n",
    "    /*returning 'string[] storage' is not allowed\n",
    "    function getCities1_() view public returns(string[] memory) {\n",
    "        return cities1;  //can not return stoarge var. \n",
    "    }*/\n",
    "    function getCities1() view public returns(string memory) {\n",
    "        return cities1[0];\n",
    "    }\n",
    "    function getCities1Length() view public returns(uint) { return cities1.length; }\n",
    "    function setCities23() public {\n",
    "        //string my = \"Seoul\"; //error\n",
    "        string memory my = \"seoul\";\n",
    "        cities2[0]=\"New York\";\n",
    "        cities2.push(my);\n",
    "        cities2.push(\"Busan\");\n",
    "        cities3.push(\"New York\");\n",
    "        cities3.push(\"Beijing\");\n",
    "    }\n",
    "    //dynamic array return needs \"pragma experimental ABIEncoderV2;\"\n",
    "    function getCities2() view public returns(string[] memory){\n",
    "        return cities2;\n",
    "    }\n",
    "    function setMathMarks() public {\n",
    "        //mathMarks.push(100); //push for fixed array not allowed\n",
    "        //mathMarks=uint8([100,60,95,50,80]); //error: uint8 memory -> uint8\n",
    "        uint8[5] memory temp = [100, 60, 95, 50, 80];\n",
    "        //mathMarks = int(temp); //error: uint8[5] memory -> int256\n",
    "        for (uint i = 0; i < temp.length; i++) {\n",
    "            //mathMarks[i] = int(temp[i]); //error: uint8 -> int256\n",
    "            mathMarks[i] = int(int8(temp[i])); //ok: uint8 -> int8 -> int256\n",
    "        }\n",
    "    }\n",
    "    function getMathMarks() view public returns (int[] memory) {\n",
    "        //return mathMarks;  //can not return storage array: error: int[] storage -> int[] memory\n",
    "        int[] memory _arr256 = new int[](mathMarks.length);\n",
    "        for (uint i = 0; i < mathMarks.length; i++) {\n",
    "            _arr256[i] = int256(mathMarks[i]);\n",
    "        }\n",
    "        return _arr256;\n",
    "    }\n",
    "    //run setMathMarks() beforehand\n",
    "    function getMathAbove70_() view public returns(int[] memory) {\n",
    "        // size is not allocated yet -> invalid opcode error\n",
    "        int[] memory mathAbove70;\n",
    "        uint counter = 0;\n",
    "        for(uint8 i=0;i<mathMarks.length;i++)\n",
    "            if(mathMarks[i]>70) {\n",
    "                mathAbove70[counter] = mathMarks[i];\n",
    "                //mathAbove70.push(mathMarks[i]);\n",
    "                counter++;\n",
    "            }\n",
    "        return mathAbove70;\n",
    "    }\n",
    "    //run setMathMarks() beforehand\n",
    "    function getMathAbove70() view public returns(int[] memory) {\n",
    "        //compute lengthOfMathAbove70\n",
    "        uint8 counter=0;\n",
    "        uint8 lengthOfMathAbove70=0;\n",
    "        for(uint8 i=0;i<mathMarks.length;i++)\n",
    "            if(mathMarks[i]>70) counter++;\n",
    "        lengthOfMathAbove70=counter;\n",
    "        //move math marks above 70\n",
    "        int[] memory mathAbove70=new int[](lengthOfMathAbove70);\n",
    "        counter=0;\n",
    "        for(uint i=0;i<mathMarks.length;i++) {\n",
    "            if(mathMarks[i]>70) {\n",
    "                mathAbove70[counter]=mathMarks[i];\n",
    "                counter++;\n",
    "            }\n",
    "        }\n",
    "        return mathAbove70;\n",
    "    }\n",
    "    function updateMarks() public returns(uint[3][] memory){\n",
    "        marks[0][0]=90;\n",
    "        return marks;\n",
    "    }\n",
    "    function getMarksArr() view public returns(uint[3][] memory) {\n",
    "        return marks;\n",
    "    }\n",
    "    function getMarksLength() view public returns(uint) {\n",
    "        return marks.length;\n",
    "    }\n",
    "}"
   ]
  },
  {
   "cell_type": "markdown",
   "metadata": {},
   "source": [
    "### 단계 2: 컴파일"
   ]
  },
  {
   "cell_type": "code",
   "execution_count": 26,
   "metadata": {
    "collapsed": true
   },
   "outputs": [],
   "source": [
    "!solc-windows.exe src/ArrayTest2.sol --combined-json abi > src/ArrayTest2ABI.json"
   ]
  },
  {
   "cell_type": "code",
   "execution_count": 28,
   "metadata": {
    "collapsed": true
   },
   "outputs": [],
   "source": [
    "!solc-windows.exe src/ArrayTest2.sol --combined-json bin > src/ArrayTest2BIN.json"
   ]
  },
  {
   "cell_type": "markdown",
   "metadata": {},
   "source": [
    "### 단계 3: 컨트랙 배포\n",
    "\n",
    "#### estimateGas\n",
    "\n",
    "배열은 ```gas```를 많이 필요로 한다. ```Gas```를 산정해보니, 앞서 컨트랙보다 많이 1,226,648가 발생하고 있다.\n",
    "1,226,647로 1을 줄여서 하면 ```out of gas``` 오류가 발생한다.\n",
    "\n",
    "```python\n",
    "new web3.eth.Contract(_abiArray).deploy({data: _bin}).estimateGas(function(err, gas) {\n",
    "        if(!err) console.log(\">> gas: \"+ gas);});\n",
    "```\n"
   ]
  },
  {
   "cell_type": "code",
   "execution_count": 9,
   "metadata": {
    "collapsed": false
   },
   "outputs": [
    {
     "name": "stdout",
     "output_type": "stream",
     "text": [
      "Overwriting src/ArrayTest2Deploy.js\n"
     ]
    }
   ],
   "source": [
    "%%writefile src/ArrayTest2Deploy.js\n",
    "var Web3=require('web3');\n",
    "var _abiJson = require('./ArrayTest2ABI.json');\n",
    "var _binJson = require('./ArrayTest2BIN.json');\n",
    "\n",
    "var web3 = new Web3(new Web3.providers.HttpProvider(\"http://localhost:8345\"));\n",
    "contractName=Object.keys(_abiJson.contracts); // reading ['src/ArrayTest2.sol:ArrayTest2']\n",
    "console.log(\"- contract name: \", contractName[0]); //or console.log(contractName);\n",
    "_abiArray=_abiJson.contracts[contractName].abi;\n",
    "//_abiArray=JSON.parse(_abiJson.contracts[contractName].abi);    //JSON parsing needed!!\n",
    "_bin=\"0x\"+_binJson.contracts[contractName].bin; //ok without \"0x\"\n",
    "\n",
    "//unlock the account with a password provided\n",
    "//web3.personal.unlockAccount(web3.eth.accounts[0],'password');\n",
    "async function deploy() {\n",
    "    const accounts = await web3.eth.getAccounts();\n",
    "    console.log(\"Deploying the contract from \" + accounts[0]);\n",
    "\n",
    "    new web3.eth.Contract(_abiArray).deploy({data: _bin}).estimateGas(function(err, gas) {\n",
    "        if(!err) console.log(\">> gas: \"+ gas);\n",
    "    });\n",
    "\n",
    "    var deployed = await new web3.eth.Contract(_abiArray)\n",
    "        .deploy({data: _bin})\n",
    "        .send({from: accounts[0], gas: 1621137}, function(err, transactionHash) {\n",
    "                if(!err) console.log(\"hash: \" + transactionHash); \n",
    "        })\n",
    "        //.then(function(newContractInstance){\n",
    "        //    console.log(newContractInstance.options.address)\n",
    "        //});\n",
    "    console.log(\"---> The contract deployed to: \" + deployed.options.address);\n",
    "}\n",
    "\n",
    "deploy()\n"
   ]
  },
  {
   "cell_type": "markdown",
   "metadata": {},
   "source": [
    "gas를 산정한 수치보다 적게 적으면 gas limit오류가 발생하는 것을 확인해보자.\n",
    "함수가 추가될수록 gas는 증가하는 것이 당연할 수 밖에 없다.\n",
    "함수 안에서 일어나는 연산, storage 변수 갱신, 반복문 등이 비용을 증가시키는 요인이 되고 있다."
   ]
  },
  {
   "cell_type": "code",
   "execution_count": 10,
   "metadata": {
    "collapsed": false
   },
   "outputs": [
    {
     "name": "stdout",
     "output_type": "stream",
     "text": [
      "- contract name:  src/ArrayTest2.sol:ArrayTest2\n",
      "Deploying the contract from 0x9357f478d86D9222f4413bFd91C8adb0F4c728b7\n",
      "hash: 0x0cd55fad15ed2616cb165718f22b207843e57167007a92d3607f8433545e410f\n",
      "---> The contract deployed to: 0x23293b04d95B80b7aFbcb20a70258203ad040448\n",
      ">> gas: 1621137\n"
     ]
    }
   ],
   "source": [
    "!node src/ArrayTest2Deploy.js"
   ]
  },
  {
   "cell_type": "markdown",
   "metadata": {
    "collapsed": true
   },
   "source": [
    "### 단계 4: 사용\n",
    "\n",
    "#### estimateGas\n",
    "\n",
    "gas를 없이 트랙잭션을 발생하면, ```out of gas``` 오류가 발생한다.\n",
    "```python\n",
    "await arr.methods.setCities23().send({from: accounts[0]});  //out of gas error\n",
    "```\n",
    "\n",
    "```estimateGas()``` 함수를 사용하여 ```gas```를 산정하면 130312가 소요된다.\n",
    "그 값을 넣어주면 오류가 없어지게 된다.\n",
    "\n",
    "```python\n",
    "await arr.methods.setCities23().send({from: accounts[0], gas:130312});\n",
    "```\n",
    "\n",
    "arr.methods.setMathMarks().send({from: accounts[0], gas: 162354});"
   ]
  },
  {
   "cell_type": "code",
   "execution_count": 22,
   "metadata": {
    "collapsed": false
   },
   "outputs": [
    {
     "name": "stdout",
     "output_type": "stream",
     "text": [
      "Overwriting src/ArrayTest2Use.js\n"
     ]
    }
   ],
   "source": [
    "%%writefile src/ArrayTest2Use.js\n",
    "var Web3=require('web3');\n",
    "var _abiJson = require('./ArrayTest2ABI.json');\n",
    "var web3=new Web3(new Web3.providers.HttpProvider(\"http://localhost:8345\"));       //ok\n",
    "\n",
    "contractName=Object.keys(_abiJson.contracts); // reading ['src/ArrayTest2.sol:ArrayTest2']\n",
    "console.log(\"- contract name: \", contractName[0]); //or console.log(contractName);\n",
    "_abiArray=_abiJson.contracts[contractName].abi;\n",
    "//_abiArray=JSON.parse(_abiJson.contracts[contractName].abi);    //JSON parsing needed!!\n",
    "\n",
    "async function doIt() {\n",
    "    var arr = new web3.eth.Contract(_abiArray, \"0x23293b04d95B80b7aFbcb20a70258203ad040448\");\n",
    "    const accounts = await web3.eth.getAccounts();\n",
    "    console.log(\"Account: \" + accounts[0]);\n",
    "    const balanceBefore = await web3.eth.getBalance(accounts[0]);\n",
    "    console.log(\"Balance before: \" + balanceBefore);\n",
    "    \n",
    "    arr.methods.setCities23().estimateGas(function(err, gas) {\n",
    "        if(!err) console.log(\">> gas: \"+ gas);\n",
    "    });\n",
    "\n",
    "    //await arr.methods.setCities23().send({from: accounts[0]});   //out of gas error\n",
    "    await arr.methods.setCities23().send({from: accounts[0], gas:133310});\n",
    "    arr.methods.getCities2().call().then(console.log);\n",
    "\n",
    "    arr.methods.setMathMarks().estimateGas(function(err, gas) {\n",
    "        if(!err) console.log(\">> gas: \"+ gas);\n",
    "    });\n",
    "\n",
    "    await arr.methods.setMathMarks().send({from: accounts[0], gas: 162354});\n",
    "    //ERROR invalid opcode arr.methods.getMathAbove70().call().then(console.log);\n",
    "    arr.methods.getMarksArr().call().then(console.log);\n",
    "\n",
    "    const balanceAfter = await web3.eth.getBalance(accounts[0]);\n",
    "    console.log(\"Balance after: \" + balanceAfter);\n",
    "    console.log(\"Balance diff: \" + (balanceBefore - balanceAfter));\n",
    "}\n",
    "\n",
    "doIt()\n"
   ]
  },
  {
   "cell_type": "code",
   "execution_count": 23,
   "metadata": {
    "collapsed": false,
    "scrolled": true
   },
   "outputs": [
    {
     "name": "stdout",
     "output_type": "stream",
     "text": [
      "- contract name:  src/ArrayTest2.sol:ArrayTest2\n",
      "Account: 0x9357f478d86D9222f4413bFd91C8adb0F4c728b7\n",
      "Balance before: 999941007891999987456\n",
      ">> gas: 127611\n",
      "[ 'New York',\n",
      "  '',\n",
      "  'seoul',\n",
      "  'Busan',\n",
      "  'seoul',\n",
      "  'Busan',\n",
      "  'seoul',\n",
      "  'Busan',\n",
      "  'seoul',\n",
      "  'Busan' ]\n",
      ">> gas: 33810\n",
      "Balance after: 999940685049999987456\n",
      "Balance diff: 322841999966208\n",
      "[ [ '100', '80', '95' ], [ '20', '30', '40' ] ]\n"
     ]
    }
   ],
   "source": [
    "!node src/ArrayTest2Use.js"
   ]
  },
  {
   "cell_type": "markdown",
   "metadata": {
    "collapsed": true
   },
   "source": [
    "```gas``` 비용은 ```ArrayTest2Use.js```를 **다시 실행하면 많이 낮아진다**.\n",
    "첫 회의 실행에서는 동적배열을 생성하고, 다음 실행에서는 그 비용이 줄어들기 때문에 ```gas```비가 낮아지고 있다."
   ]
  },
  {
   "cell_type": "code",
   "execution_count": 40,
   "metadata": {
    "collapsed": false,
    "scrolled": true
   },
   "outputs": [
    {
     "name": "stdout",
     "output_type": "stream",
     "text": [
      "- contract name:  src/ArrayTest2.sol:ArrayTest2\n",
      "Account: 0x42E5468FC83A0c5F6D4d2E1E632bd8864Dd87bd1\n",
      "Balance before: 99924320779999997778\n",
      ">> gas: 95769\n",
      "[ 'New York', '', 'Busan', 'Busan' ]\n",
      ">> gas: 23209\n",
      "[ [ '100', '80', '95' ], [ '20', '30', '40' ] ]\n",
      "Balance after: 99921941219999997778\n",
      "Balance diff: 2379560000012288\n"
     ]
    }
   ],
   "source": [
    "!node src/ArrayTest2Use.js"
   ]
  },
  {
   "cell_type": "markdown",
   "metadata": {
    "slideshow": {
     "slide_type": "subslide"
    }
   },
   "source": [
    "#### 배열의 출력\n",
    "\n",
    "```web3.js``` 현재 버전에서는 Solidity -> node로 배열의 전달에 문제가 없어서 출력이 올바르게 되고 있다.\n",
    "이전 버전에서는 배열을 올바르게 출력하려면 ```toString()``` 함수를 사용해야 한다.\n",
    "\n",
    "```python\n",
    "> arraytest.getMarksArr()                      출력하기 위해서는 toString()\n",
    "[ [ BigNumber { s: 1, e: 2, c: [Array] },\n",
    "    BigNumber { s: 1, e: 1, c: [Array] },\n",
    "    BigNumber { s: 1, e: 1, c: [Array] } ],\n",
    "  [ BigNumber { s: 1, e: 1, c: [Array] },\n",
    "    BigNumber { s: 1, e: 1, c: [Array] },\n",
    "    BigNumber { s: 1, e: 1, c: [Array] } ] ]\n",
    "> arraytest.getMarksLength()\n",
    "BigNumber { s: 1, e: 0, c: [ 2 ] }\n",
    "> arraytest.getMarksLength().toString()\n",
    "'2'\n",
    "> arraytest.getMarksArr().toString()\n",
    "'100,80,95,20,30,40'\n",
    "```"
   ]
  },
  {
   "cell_type": "markdown",
   "metadata": {
    "slideshow": {
     "slide_type": "subslide"
    }
   },
   "source": [
    "## 실습: Members 배열\n",
    "\n",
    "배열을 검색하는 것은 비용이 많이 발생한다. \n",
    "mapping을 사용하거나, 클라이언트 측에서 배열 데이터를 검색하는 편으로 하자.\n",
    "\n",
    "문자열비교는```keccak256()``` 해싱을 한 후 비교해야 한다.\n",
    "아래와 같이 문자열을 해싱한후 ==로 비교를 해야 한다.\n",
    "```\n",
    "keccak256(abi.encodePacked(문자열))==keccak256(abi.encodePacked(찾는 문자열))\n",
    "```"
   ]
  },
  {
   "cell_type": "code",
   "execution_count": 24,
   "metadata": {
    "collapsed": false,
    "slideshow": {
     "slide_type": "-"
    }
   },
   "outputs": [
    {
     "name": "stdout",
     "output_type": "stream",
     "text": [
      "Writing src/Members.sol\n"
     ]
    }
   ],
   "source": [
    "%%writefile src/Members.sol\n",
    "//SPDX-License-Identifier: GPL-3.0-or-later\n",
    "pragma solidity ^0.8.0;\n",
    "\n",
    "contract Members{\n",
    "    address owner;\n",
    "    event printAddr(address arg);\n",
    "    struct Member{\n",
    "        uint id;\n",
    "        string name;\n",
    "    }\n",
    "    Member[] public memberArr;\n",
    "    constructor() { //constructor() public {\n",
    "        owner=msg.sender;\n",
    "    }\n",
    "    function del() public {\n",
    "        delete memberArr;\n",
    "    }\n",
    "    function delOne(uint i) public{\n",
    "        delete memberArr[i];  //try pop()\n",
    "    }\n",
    "    function add(uint id,string memory name) public {\n",
    "        memberArr.push(Member(id,name));\n",
    "    }\n",
    "    //return Member\n",
    "    function getMember(string memory who) view public returns(uint, string memory) {\n",
    "        uint _id;\n",
    "        string memory _name;\n",
    "        for(uint i=0;i<memberArr.length;i++) {\n",
    "            _name=memberArr[i].name;\n",
    "            if(keccak256(abi.encodePacked(_name))==keccak256(abi.encodePacked(who))) {\n",
    "                _id=memberArr[i].id;\n",
    "                _name=memberArr[i].name;\n",
    "            }\n",
    "        }\n",
    "        return (_id,_name);\n",
    "    }\n",
    "    function compareStr(string memory s1, string memory s2) pure public returns(bool) {\n",
    "        return keccak256(abi.encodePacked(s1))==keccak256(abi.encodePacked(s2));\n",
    "    }\n",
    "    function compareBytes(bytes memory b1, bytes memory b2) pure public returns(bool) {\n",
    "        return keccak256(b1) == keccak256(b2);\n",
    "    }\n",
    "    function getLength() view public returns(uint) {\n",
    "        return memberArr.length;\n",
    "    }\n",
    "}"
   ]
  },
  {
   "cell_type": "code",
   "execution_count": 25,
   "metadata": {
    "collapsed": false
   },
   "outputs": [
    {
     "name": "stderr",
     "output_type": "stream",
     "text": [
      "Compiler run successful, no output requested.\n"
     ]
    }
   ],
   "source": [
    "!solc-windows.exe src/Members.sol"
   ]
  },
  {
   "cell_type": "markdown",
   "metadata": {
    "slideshow": {
     "slide_type": "subslide"
    }
   },
   "source": [
    "## 2.2 mapping\n",
    "<a id='S.5.2'></a>\n",
    "\n",
    "### 2.2.1 키와 값 쌍으로 저장\n",
    "\n",
    "```mapping```은 `키`와 키에 해당하는 `값`을 쌍으로 저장한다. **```=>```** 기호를 사용하여, 좌측에 키를 오른쪽에 값을 적어준다.\n",
    "다음 ```mapping``` 코드를 보면:\n",
    "* (string => uint)는 ```string```은 키로 값은 ```uint```로 정의 한다는 의미이다.\n",
    "* mapping (string => uint) balances;는 mapping 변수 명을 ```balances```로 선언하고 있다.\n",
    "\n",
    "이렇게 선언된 변수 balance에, ```string```으로 선언된 키에 ```jsl```, ```uint```로 선언된 값에 잔고 100을 저장한다.\n",
    "\n",
    "```python\n",
    "mapping (string => uint) public balances;\n",
    "balances[\"jsl\"] = 100;\n",
    "```\n",
    "\n",
    "struct에 데이터를 넣을 경우, 아래 모두 가능한 코드이다.\n",
    "```python\n",
    "contract Customer {\n",
    "    struct CustomerDetails {\n",
    "        uint id;\n",
    "        string name;\n",
    "        string phNumber;\n",
    "        string homeAddress;\n",
    "    }\n",
    "    mapping(address=>CustomerDetails) customers;\n",
    "    function addCustomer(uint _id, string memory _name, string memory _ph, string memory _home) public {\n",
    "        //ok\n",
    "\t\t//customers[tx.origin].id = _id;\n",
    "        //customers[tx.origin].name = _name;\n",
    "        //customers[tx.origin].phNumber = _ph;\n",
    "        //customers[tx.origin].homeAddress = _home;\n",
    "\t\t//ok\n",
    "        CustomerDetails memory cd = CustomerDetails(_id, _name, _ph, _home);\n",
    "        customers[tx.origin] = cd;\n",
    "\t}\n",
    "}\n",
    "```"
   ]
  },
  {
   "cell_type": "markdown",
   "metadata": {
    "slideshow": {
     "slide_type": "slide"
    }
   },
   "source": [
    "## 실습: 은행 잔고의 mapping\n",
    "\n",
    "앞서 은행에서는 한 계정에서의 입금, 출금을 실행해 보았다.\n",
    "여러 계정이 있는 경우, mapping을 이용해 잔고를 관리할 수 있다.\n",
    "\n",
    "```mapping(address=>uint) balanceOf;``` 라고 선언하고\n",
    "```balanceOf[<address>]=amount;```로 잔고를 저장할 수 있다.\n",
    "\n",
    "증액, 감액을 하려면:\n",
    "```python\n",
    "uint balanceToAdd=111;\n",
    "balanceOf[<address>] += balanceToAdd;\n",
    "```\n",
    "\n",
    "* adddress 자신의 주소를 따옴표 없이, 금액도 따옴표 없이 정수"
   ]
  },
  {
   "cell_type": "markdown",
   "metadata": {},
   "source": [
    "입출금은 기능을 어떻게 설계하느냐에 따라 금액변동에 영향을 미칠 수 있기 마련이다.\n",
    "여기서는 입출금 및 계좌이체를 하면 자신의 계좌, owner 계좌 그리고 컨트랙의 계좌에 아래와 같이 변동이 있도록 해보았다.\n",
    "\n",
    "함수 | 관련 잔고 | owner잔고 | 컨트랙 잔고\n",
    "-----|-----|-----|-----\n",
    "deposit(111)을 하면 | owner잔고에 입금함 | owner 잔고 111 증가 | 컨트랙잔고 111 증가\n",
    "forwardTo(0x1234..., 11)을 하면| 계좌이체이므로 Ox1234... 잔고 11 증가 | owner잔고 11감소 | 컨트랙 잔고 변동 없슴\n",
    "withdraw(0x1234..., 11)을 하면 | Ox1234... 잔고 11 감소 | owner잔고 변동 없슴 | 컨트랙 잔고 11감소"
   ]
  },
  {
   "cell_type": "code",
   "execution_count": 28,
   "metadata": {
    "collapsed": false,
    "slideshow": {
     "slide_type": "subslide"
    }
   },
   "outputs": [
    {
     "name": "stdout",
     "output_type": "stream",
     "text": [
      "Writing src/BankV4.sol\n"
     ]
    }
   ],
   "source": [
    "%%writefile src/BankV4.sol\n",
    "//SPDX-License-Identifier: GPL-3.0-or-later\n",
    "pragma solidity ^0.8.0;\n",
    "\n",
    "//check for Coin.sol (ch12) and BankV3.sol 201906\n",
    "contract BankV4 {\n",
    "    address owner;\n",
    "    mapping (address => uint) balanceOf;\n",
    "    constructor() {//constructor() public {\n",
    "        owner = msg.sender;\n",
    "    }\n",
    "    // save to individual addresses\n",
    "    function deposit(uint amount) payable public onlyOwner {\n",
    "        require(msg.value == amount);\n",
    "        balanceOf[msg.sender] += amount;\n",
    "    }\n",
    "    // forward from owner to another\n",
    "    function forwardTo(address receiver, uint amount) payable public onlyOwner {\n",
    "        require(balanceOf[msg.sender] >= amount);\n",
    "        balanceOf[msg.sender] -= amount; // Subtract from the sender\n",
    "        balanceOf[receiver] += amount;   // Add the same to the recipient\n",
    "    }\n",
    "    function withdraw(address payable receiver, uint amount) public onlyOwner {\n",
    "        require(balanceOf[receiver] >= amount && address(this).balance >= amount);\n",
    "        balanceOf[receiver] -= amount;\n",
    "        receiver.transfer(amount);\n",
    "    }\n",
    "    function getBalance() public view returns(uint, uint) {\n",
    "        return (address(this).balance, balanceOf[owner]);\n",
    "    }\n",
    "    function getBalanceOf(address addr) public view returns (uint) {\n",
    "        return balanceOf[addr];\n",
    "    }\n",
    "    modifier onlyOwner {\n",
    "        require(msg.sender == owner);\n",
    "        _;\n",
    "    }\n",
    "}"
   ]
  },
  {
   "cell_type": "code",
   "execution_count": 29,
   "metadata": {
    "collapsed": false
   },
   "outputs": [
    {
     "name": "stderr",
     "output_type": "stream",
     "text": [
      "Compiler run successful, no output requested.\n"
     ]
    }
   ],
   "source": [
    "!solc-windows.exe src/BankV4.sol"
   ]
  },
  {
   "cell_type": "markdown",
   "metadata": {
    "slideshow": {
     "slide_type": "subslide"
    }
   },
   "source": [
    "### 2.2.2 중복키 확인\n",
    "\n",
    "맵은 그 특성상 중복키는 허용되지 않는다. 동일한 키로 당연히 데이터를 입력할 수가 없다.\n",
    "맵에 이미 키가 존재하는지 확인할 수 있는 ```containsKey()```와 같은 지원 함수가 없다.\n",
    "필드 ```isMember```를 설정해놓고 그 값을 확인하는 방법으로 하자.\n",
    "```\n",
    "mapping(address=>Member) memberMap;\n",
    "struct Member {\n",
    "\tuint id;\n",
    "\tstring name;\n",
    "\tbool isMember;\n",
    "}\n",
    "if (memberMap(<address>).isMember) 중복키 존재함\n",
    "```"
   ]
  },
  {
   "cell_type": "markdown",
   "metadata": {
    "slideshow": {
     "slide_type": "subslide"
    }
   },
   "source": [
    "* 삭제\n",
    "\n",
    "키삭제는 쉽지 않다. 다른 언어에서는 ```remove()```함수가 지원되어, 간편하게 키를 지울 수 있는 것과 비교된다.\n",
    "\n",
    "```\n",
    "delete pendingAccessRequest[key];\n",
    "```"
   ]
  },
  {
   "cell_type": "markdown",
   "metadata": {
    "slideshow": {
     "slide_type": "subslide"
    }
   },
   "source": [
    "### 2.2.3 bidirectional map\n",
    "\n",
    "주소에 대해 회원(아이디, 이름)을 저장하는 ```map```이다.\n",
    "이 경우 'id' 또는 '이름'으로 '주소'를 검색하는 기능은 ```bidiretional map```으로 구현하였다.\n",
    "이렇게 하면, 반복문을 사용하지 않고 검색하는 기능이 가능해 진다.\n",
    "특정 id에 해당하는 주소를 찾고, 그 주소에 해당하는 값을 읽어올 수 있게 된다.\n",
    "\n",
    "줄 | 설명\n",
    "-----|-----\n",
    "9 | 주소의  ```Member strcut ```을 조회하는 map\n",
    "10 | 이름의 주소를 조회하는 map\n",
    "11~19 ```addMember() ``` |  ```Member struct```을 추가하고 ```getMemberByName()``` 함수에서 이름을 입력하면 주소를 조회할 수 있도록 저장. ```name```이 중복되는 경우, 엎어쓰기 때문에 문제가 될 수 있다. 실제는 중복이 없는 ```id```를 사용하여 ```bidirectional map```을 구현해야 한다.\n",
    "20~24 ```getMemberById()``` | bidirectional map에서 ```id```에 해당하는 주소를 조회하고, 그 주소키를 이용 Member를 조회\n",
    "25~28 ```getMemberByName()``` | bidirectional map에서 ```name```에 해당하는 주소를 조회\n",
    "29~32 ```getMember()``` | 주소에 해당하는 ```Member struct```을 조회. (1) addressById[정수]를 하면 주소를 얻을 수 있다. (2) 그러면 memberMap[주소]는 Member라는 값을 얻을 수 있다."
   ]
  },
  {
   "cell_type": "code",
   "execution_count": 26,
   "metadata": {
    "collapsed": false,
    "slideshow": {
     "slide_type": "subslide"
    }
   },
   "outputs": [
    {
     "name": "stdout",
     "output_type": "stream",
     "text": [
      "Writing src/MembersMap.sol\n"
     ]
    }
   ],
   "source": [
    "%%writefile src/MembersMap.sol\n",
    "//SPDX-License-Identifier: GPL-3.0-or-later\n",
    "pragma solidity ^0.8.0;\n",
    "\n",
    "contract MembersMap {\n",
    "    struct Member {\n",
    "        uint id;\n",
    "        string name;\n",
    "    }\n",
    "    //bidrectional map\n",
    "    mapping(address=>Member) memberMap;\n",
    "    mapping(uint=>address) addressById;\n",
    "    mapping(string=>address) addressByName;\n",
    "    function addMember (uint _id, string memory _name) public {\n",
    "       Member memory m=Member(_id, _name);\n",
    "       memberMap[msg.sender]=m;\n",
    "       //saving into a bidiretional map to get address by id\n",
    "       addressById[_id]=msg.sender;\n",
    "       //saving into a bidiretional map to get address by name\n",
    "       addressByName[_name]=msg.sender;\n",
    "    }\n",
    "    //get Member by id\n",
    "    function getMemberById(uint _id) view public returns(uint, string memory) {\n",
    "        Member memory my = memberMap[addressById[_id]];\n",
    "        return (my.id, my.name);\n",
    "    }\n",
    "    // get address (not Member) by name\n",
    "    function getMemberAddressByName(string memory _name) public view returns(address) {\n",
    "        return addressByName[_name];\n",
    "    }\n",
    "    function getMember(address addr) view public returns (uint, string memory) {\n",
    "        Member memory m=memberMap[addr];\n",
    "        return (m.id, m.name);\n",
    "    }\n",
    "}"
   ]
  },
  {
   "cell_type": "code",
   "execution_count": 27,
   "metadata": {
    "collapsed": false
   },
   "outputs": [
    {
     "name": "stderr",
     "output_type": "stream",
     "text": [
      "Compiler run successful, no output requested.\n"
     ]
    }
   ],
   "source": [
    "!solc-windows.exe src/MembersMap.sol"
   ]
  },
  {
   "cell_type": "markdown",
   "metadata": {
    "slideshow": {
     "slide_type": "slide"
    }
   },
   "source": [
    "# 3. 예외\n",
    "<a id='S.6'></a>\n",
    "\n",
    "오류는 발생하기 마련이다. 컴파일 오류는 수정하기 비교적 용이하다. 그러나 실행시점에 발생하는 오류는 잡아내기 어렵다.\n",
    "다른 언어에서 보통 제공하는 ```try..catch``` 구문도 제공되지 않는다.\n",
    "버전 0.4.10 이전에는 ```throw``` 명령문이 사용되었다.\n",
    "\n",
    "```python\n",
    "if (msg.sender != owner) { throw; }\n",
    "```\n",
    "\n",
    "버전 4.10이후에는 ```throw```구문은 더 이상 사용되지 않고 require, revert, assert 구문이 사용되어 예외가 발생한다.\n",
    "* if (msg.sender != owner) { revert(); } throw 명령문을 revert()로 교체해도 동일한 기능이 수행된다\n",
    "* require(msg.sender == owner) 조건이 부정에서 긍정으로 변경된다\n",
    "* assert(msg.sender == owner) 조건이 부정에서 긍정으로 변경된다"
   ]
  },
  {
   "cell_type": "markdown",
   "metadata": {},
   "source": [
    "발생하는 예외는 여러 경우가 있을 수 있다. 실행 시점에 발생하는 예외는 배열이 범위를 넘어서거나 ```out-of-gas errors```, ```divide by zero```와 같이 어떤 특정 조건에서 예외를 발생시킬 수 있다.\n",
    "이 경우 실행이 중지되고, 원상복구 (상태변수와 잔고)된다.\n",
    "\n",
    "## 3.1 require\n",
    "```require()```문은 자주 쓰이는 명령문으로 실행한 결과를 ```true```, ```false```로 반환된다. ```false```인 경우 예외가 발생하고 실행이 중지된다. 미사용 gas를 호출자에게 반환하고 상태를 원래대로 복원한다.\n",
    "* 송금이 되었는지 확인하는 경우 ```require(<address>.transfer(amount))```\n",
    "* 조건이 충족되었는지 확인하는 경우 ```require(msg.value == amount)```, ```require(address(this).balance >= amount)```\n",
    "* 함수의 진행에 필요한 사전조건을 확인하는 방식으로, 보통 함수의 맨 앞에 위치하여 사용된다."
   ]
  },
  {
   "cell_type": "markdown",
   "metadata": {},
   "source": [
    "## 3.2 revert\n",
    "\n",
    "revert() 문은 예외가 발생하는 이유를 설명하는 문자열만 매개변수로 받을 수 있다. 조건을 매개변수로 받지 않는다.\n",
    "```revert()```문은 ```require()```함수와 동일한 의미지만, ```revert()```문은 조건이 없기 때문에 참인지, 거짓인지 어떤 평가를 하지 않는다는 점이 다르다.\n",
    "따라서 조건을 매개변수로 받는 ```require()``` 문과 달리, 조건을 외부에 두어 **```if/else```**문과 사용되어 예외를 발생하는 방식으로 사용될 수 있다.\n",
    "```require()```와 마찬가지로 ```revert()``` 명령문은 미사용 gas를 호출자에게 반환하고 상태를 원래대로 복원한다."
   ]
  },
  {
   "cell_type": "markdown",
   "metadata": {},
   "source": [
    "## 3.3 assert\n",
    "```assert()``` 함수는 내부조건 또는 제약조건이 충족되었는지 확인하는 경우에 사용된다.\n",
    "이러한 오류가 발생하였는지 디버깅 용도로 사용된다.\n",
    "미사용 gas는 반환되지 않고, 모두 소모된다. 상태는 원래대로 복원된다.\n",
    "* overflow/underflow ```assert(age > 20)```\n",
    "* 항상 충족해야 하는 조건 ```assert(address(this).balance >= 0)```\n",
    "* 함수가 끝나고 나서 사후조건을 확인하는 방식으로, 보통 함수의 맨 뒤에 위치하여 사용된다. ```require```에 비해 자주 사용되지 않는다."
   ]
  },
  {
   "cell_type": "markdown",
   "metadata": {
    "slideshow": {
     "slide_type": "subslide"
    }
   },
   "source": [
    "명령문 | gas 반환 | 원복 | 사용하는 경우\n",
    "-----|-----|-----|-----\n",
    "```assert()``` | NO | YES | overflow/underflow, invariants 등 어떤 오류가 발생하는 것을 예방하는 경우. 실패하면 중단되며, 다음으로 진행되지 않는다.\n",
    "```revert()``` | YES | YES | ```require()```는 참, 거짓을 평가하지만, revert()는 조건문 없이 수행된다. ```revert```되면 중단되며, 다음으로 진행되지 않는다.\n",
    "```require()``` | YES | YES | 사용자 입력 , 상태변수 값, 반환 값 등 조건을 검증하는 경우. 실패하면 중단되며, 다음으로 진행되지 않는다."
   ]
  },
  {
   "cell_type": "markdown",
   "metadata": {},
   "source": [
    "## 실습: 예외"
   ]
  },
  {
   "cell_type": "code",
   "execution_count": 34,
   "metadata": {
    "collapsed": false,
    "slideshow": {
     "slide_type": "subslide"
    }
   },
   "outputs": [
    {
     "name": "stdout",
     "output_type": "stream",
     "text": [
      "Overwriting src/ExceptionTest.sol\n"
     ]
    }
   ],
   "source": [
    "%%writefile src/ExceptionTest.sol\n",
    "//SPDX-License-Identifier: GPL-3.0-or-later\n",
    "pragma solidity ^0.8.0;\n",
    "\n",
    "contract ExceptionTest {\n",
    "    address owner;\n",
    "    constructor() {//constructor() public {\n",
    "        owner=msg.sender;\n",
    "    }\n",
    "    function requireException() view public returns(string memory) {\n",
    "        //if (msg.sender != owner) { throw; } // not this way to throw an exception\n",
    "        require(msg.sender != owner, \"Sorry! You are owner. Require failed...\");\n",
    "        return \"require condition met\";\n",
    "    }\n",
    "    function assertException() view public returns(string memory) {\n",
    "        assert(msg.sender == owner);\n",
    "        return \"asserted\";  //do this line only 'assert' is succeeded\n",
    "    }\n",
    "    function revertException() view public returns(string memory) {\n",
    "        if(msg.sender != owner) {\n",
    "            revert(\"Sorry! You are NOT owner. Reverted...\");\n",
    "            //return \"reverted\";  // this line can't be reached if revert is executed \n",
    "        } else {\n",
    "            return \"not reverted\";\n",
    "        }\n",
    "    }\n",
    "    function raiseException() pure public {\n",
    "        int x=0;\n",
    "        int y=0;\n",
    "        x/y;    //divide by zero\n",
    "    }\n",
    "}"
   ]
  },
  {
   "cell_type": "code",
   "execution_count": 35,
   "metadata": {
    "collapsed": false
   },
   "outputs": [
    {
     "name": "stderr",
     "output_type": "stream",
     "text": [
      "Compiler run successful, no output requested.\n"
     ]
    }
   ],
   "source": [
    "!solc-windows.exe src/ExceptionTest.sol"
   ]
  },
  {
   "cell_type": "markdown",
   "metadata": {
    "slideshow": {
     "slide_type": "subslide"
    }
   },
   "source": [
    "## 연습문제 주문\n",
    "\n",
    "사용자별 주문은 1:1 관계로 구현하고 있다 (1:n 관계로 구현하려면 복잡해진다). 주문id로 조회할 수 있도록 하기 위해 bidiectional map을 사용하였다.\n",
    "\n",
    "줄 | 설명\n",
    "-----|-----\n",
    "4~12 | 주문 데이터, ```isOrdered```는 중복키 확인용도로 쓰인다.\n",
    "14 | 주문 갯수. 반복문으로 갯수를 세는 것을 피하기 위해서 계속 추적한다.\n",
    "15 | 주문 총액 역시 반복문을 피하기 위해 추적한다.\n",
    "18 | 주문번호에서 검색을 하기 위해 설정한다.\n",
    "22~30 ```placeOrder()``` | 주문금액 확인, 전송자 주소로 주문데이터 확인, 주문갯수 및 주문총액을 추적. bidirectional map을 이용해서 주문id 별로 주문내역을 검색할 수 있게 함. 주문id는 중복되지 않게 생성을 하도록 함.\n",
    "32~35 ```updateStatus()``` | 주문번호를 이용해 주문의 상태를 갱신한다. 관리자만 갱신권한을 가진다.\n"
   ]
  },
  {
   "cell_type": "markdown",
   "metadata": {},
   "source": [
    "## 연습문제\n",
    "\n",
    "\n",
    "```Customer```, ```Order``` 컨트랙을 개발하세요.\n",
    "컨트랙을 개발하면서 필요한 상태변수와 함수를 구성하고, 그 명칭과 입출력과 수식어도 의미있게 결정한다.\n",
    "\n",
    "```Customer``` 컨트랙은 별도로 배포하면, ```Order``` 컨트랙을 통해서 데이터를 입력하지 않을 수 있지만,\n",
    "이 문제에서는 ```new``` 명령어로 ```Customer``` 객체를 만들어 사용하자.\n",
    "함수를 호출할 때 gas는 넉넉히 배정하도록 하자 (REMIX에서 테스트하면서 콘솔에서 출력되는 gas를 확인).\n",
    "주문을 삭제하는 기능은 구현하지 않는다.\n",
    "또한 온라인 주문에서와 같이 주문자는 여러 명이 있을 수 있다는 점에서 계정1, 계정2, 계정3 사용하고,\n",
    "이런 계정별로 복수의 주문은 가능하지 않도록 구현한다. 현재는 1:1 관계, 즉 계정별로 주문은 1건만 가능하다.\n",
    "\n",
    "### ```Customer``` 컨트랙의 멤버 속성과 함수:\n",
    "- 상태변수\n",
    "\t- 고객ID, 이름, 전화번호, 주소, 마일리지, 고객여부 (고객이면 true)\n",
    "    - 계정주소에 대한 ```mapping``` 등 그 외 필요한 상태변수를 추가할 수 있다.\n",
    "- addMileage(uint amount) 마일리지 추가 함수: 주문금액의 1%를 마일리지로 부여\n",
    "- getMileage() 마일리지 조회함수\n",
    "- 고객정보 입력 함수 addCustomer(uint _id, string memory _name, string memory _ph, string memory _home)\n",
    "    - 고객정보 입력은 고객ID가 같으면 입력이 되지 않게 한다.\n",
    "- 배송지 주소 조회 함수 getHomeAddress()\n",
    "- 고객id 조회 함수 getId()\n",
    "- 고객여부 확인 함수 isCustomer()\n",
    "- 그 외 필요한 함수를 추가할 수 있다.\n",
    "\n",
    "### ```Order``` 컨트랙의 멤버 속성과 함수:\n",
    "- 상태변수\n",
    "\t- 주문ID, 상품명, 개수, 금액, 시간, 상태, 배송지, 주문여부 (주문하면 true)\n",
    "\t- 계정주소에 대한 ```mapping``` 등 그 외 필요한 상태변수를 추가할 수 있다.\n",
    "- 주문 함수 placeOrder (uint _id, string memory _p, uint _n, uint _amount)\n",
    "    - 위 상태변수를 설정한다. 주문을 받으면서 상태는 \"Ordered\"로, 시간은 현재시간으로 설정한다.\n",
    "    - 주문 금액 반드시 입금되어야 한다.\n",
    "    - 마일리지는 ```Customer``` 컨트랙을 통하여 설정 (주문금액의 1%)\n",
    "    - bidirectional map을 설정하여 주문ID를 통하여 주문자 계정주소를 알 수 있도록 힌다.\n",
    "- 환불처리 함수: 상품ID에 대해 주문상태를 \"refunded\"로, 주문금액도 0으로 설정하고 마일리지도 차감하고, 그에 따라 잔고도 감해준다.\n",
    "- 고객정보 입력 함수 addCustomer(uint _id, string memory _name, string memory _ph, string memory _home)\n",
    "\t- ```Customer``` 컨트랙을 통해 설정\n",
    "- 배송지 주소 조회 함수 getHomeAddress(). ```Customer``` 컨트랙을 통해 조회\n",
    "- 주문처리 상황 조회 함수 getStatus() 주문처리 상황 조회 함수\n",
    "- 주문처리 상황 갱신 함수 updateStatus(uint _id, string memory _s)\n",
    "- 주문내역 출력 함수 getOrderItem(): 주문했던 고객의 계정에 해당하는 주문ID, 상품명, 상태, 배송지 출력\n",
    "- 주문ID로 주문내역 조회 함수 getOrderById(uint _id) : 주문ID를 입력하면 주문ID, 상품명, 상태, 배송지 출력\n",
    "- 주문 갯수 조회 함수 getNOrder()\n",
    "- 주문 총액 조회 함수 getTotalOrderAmount()\n",
    "- 컨트랙 잔고 확인 함수 queryBalance() \n",
    "- 그 외 필요한 함수를 추가할 수 있다.\n",
    "\n",
    "### 사용사례\n",
    "\n",
    "아래 사용사례 항목별 10점씩 100점, geth로 하면 가점 10점이 배점된다.\n",
    "\n",
    "#### 1-1 계정 및 잔고 출력\n",
    "계정은 3개 미리 만들어져 있어야 한다. 계정1, 계정2, 계정3과 각 잔고를 출력한다. 현재의 블록번호도 출력한다.\n",
    "\n",
    "#### 1-2 ```Order``` 컨트랙 생성에 필요한 gas 출력\n",
    "```Order``` 컨트랙은 bytecode가 많아 배포에 gas가 적지 않게 지불해야 하는데, 이를 산정해서 출력한다. \n",
    "\n",
    "#### 1-3 고객정보 3건 입력\n",
    "* 계정1을 사용하여 고객정보 입력 -> 111, \"kim\", \"010-2017-1111\", \"111 hongji-dong jongro-gu seoul\"\n",
    "* 계정2를 사용하여 고객정보 입력 -> 112, \"lee\", \"010-2017-1112\", \"112 hongji-dong jongro-gu seoul\"\n",
    "* 계정3을 사용하여 고객정보 입력 -> 113, \"lim\", \"010-2017-1113\", \"113 hongji-dong jongro-gu seoul\"\n",
    "(* 중복된 ID, 예를 들어 111, \"kim\", \"010-2017-1111\", \"7 hongji-dong jongro-gu seoul\"는 입력이 불가능하고, 오류 발생해야 한다.\n",
    "또한 중복ID를 허용하지 않으므로 테스트하면서 고객정보를 여러 번 입력하려면 오류가 발생하게 된다. 이 경우 팁은 배포를 새로 하고, 고객정보를 입력하면 중복ID가 해소되어 가능하다는 점에 주의하자.)\n",
    "* 아래 ```tx.origin```와 ```msg.sender``` 관련 주의를 참조해서 ```msg.sender``` 대신 ```tx.orgin```을 사용하자.\n",
    "\n",
    "#### 1-4 모든 고객의 배송지 출력\n",
    "* 계정1을 사용하여 고객배송지 출력, \"111 hongji-dong jongro-gu seoul\"\n",
    "* 계정2를사용하여 고객배송지 출력, \"112 hongji-dong jongro-gu seoul\"\n",
    "* 계정3을 사용하여 고객배송지 출력, \"113 hongji-dong jongro-gu seoul\"\n",
    "* 배송지 주소를 출력할 때, 다른 계정을 사용한다면, ```call({from: accounts[1]})```과 같이 계정주소를 적어주고 호출한다.\n",
    "\n",
    "#### 1-5 주문\n",
    "* 주문하면서, 주문금액을 전송해야 하고, 주문금액의 1% 마일리지를 주문자에게 부여\n",
    "* 주문하면서, 주문상태를 \"Ordered\"로 설정하고 시간은 현재시간을 넣는다.\n",
    "* 계정1에서 주문내역 입력 -> 555, \"T-Shirt\", 2, 1115\n",
    "* 계정2에서 주문내역 입력 -> 556, \"T-Shirt\", 3, 1116\n",
    "* 계정3에서 주문내역 입력 -> 557, \"T-Shirt\", 4, 1117\n",
    "\n",
    "#### 1-6 주문개수, 주문금액 합계 및 잔고 출력\n",
    "* 주문입력을 잘 했으면, 주문개수 3건, 주문금액 합계 3348, 컨트랙잔고를 출력한다.\n",
    "* 잘 풀었으면 컨트랙잔고는 주문총액과 동일하다.\n",
    "* 한글로 출력하지 않아도 된다.\n",
    "\n",
    "#### 1-7 모든 고객의 주문 내역 출력\n",
    "* 계정1에서 주문내역 출력 -> 555, \"T-Shirt\", \"Ordered\", \"111 hongji-dong jongro-gu seoul\"\n",
    "* 계정2에서 주문내역 출력 -> 556, \"T-Shirt\", \"Ordered\", \"112 hongji-dong jongro-gu seoul\"\n",
    "* 계정3에서 주문내역 출력 -> 557, \"T-Shirt\", \"Ordered\", \"113 hongji-dong jongro-gu seoul\"\n",
    "\n",
    "#### 1-8 주문ID 556으로 주문내역 출력\n",
    "* 주문ID 556으로 주문내역 출력 -> 556, \"T-Shirt\", \"Ordered\", \"112 hongji-dong jongro-gu seoul\"\n",
    "* 계정을 입력해서 출력하지 않는다.\n",
    "\n",
    "#### 1-9 주문ID 556으로 환불처리\n",
    "* 주문ID 556으로 환불처리, 단 주문ID 556을 생성한 동일한 주문ID로 해야 처리된다.\n",
    "* 환불 후, 상품ID에 대해 주문상태를 \"refunded\"로, 주문금액도 0으로 설정하고 그에 따라 컨트랙 잔고도 감해준다.\n",
    "* 계정2 잔고변동 출력. 주문ID 556은 계정2에서 발생했다. 계정2는 환불을 받았으니 1116이 환입되어 변동이 없어야 한다 (gas 비용 증감은 있을 수 있다.)\n",
    "\n",
    "#### 1-10 환불처리가 반영된 출력\n",
    "* 주문ID 556으로 주문내역 출력 -> 556, \"T-Shirt\", 0, \"refunded\", \"112 hongji-dong jongro-gu seoul\"\n",
    "* 잘 풀었으면, 주문개수 2건, 주문금액 2232, 컨트랙 잔고 출력 (주문금액 합계와 동일한 잔고)\n",
    "\n",
    "### 주의\n",
    "거래가 호출자U1 -> 컨트랙C1 -> 컨트랙C2의 순서대로 완성이 될 경우:\n",
    "* C2에서 ```msg.sender```는 바로 직전의 호출자C1을 말한다.\n",
    "* 반면에 ```tx.origin```은 U1의 주소를 말한다.\n",
    "\n",
    "아래 프로그램을 보자. 주소 0x69e9a...0c102에서 ```Order```의 ```getTxOriginMsgSender()``` 함수를 호출하면:\n",
    "* ```Customer```의 ```tx.origin``` 은 0x69e9a...0c102 (```Order``` 컨트랙 함수호출자인 ```msg.sender```의 주소와 동일)\n",
    "* ```Customer```의 ```msg.sender```는 0x0b878...E7cD4, 즉 ```Order``` 컨트랙 배포주소와 동일하다.\n",
    "\n",
    "```python\n",
    "pragma solidity ^0.6.0;\n",
    "\n",
    "contract Customer {\n",
    "    function getTxOriginMsgSender() view public returns(address, address) {\n",
    "        return(tx.origin, msg.sender);\n",
    "    }\n",
    "}\n",
    "\n",
    "contract Order {\n",
    "    Customer c;\n",
    "    constructor() public {\n",
    "        c = new Customer();\n",
    "    }\n",
    "    function getTxOriginMsgSender() view public returns(address, address) {\n",
    "        return c.getTxOriginMsgSender();\n",
    "    }\n",
    "}\n",
    "```"
   ]
  },
  {
   "cell_type": "markdown",
   "metadata": {},
   "source": [
    "### 단계 1: 컨트랙 개발\n",
    "\n",
    "- 마일리지 차감 아직 안넣었슴.\n",
    "- 마일리지 1%는 `곱하기 0.01`은 소숫점이라 안되고, `나누기 100`을 구해서 더하는 방식으로 풀어야 한다."
   ]
  },
  {
   "cell_type": "markdown",
   "metadata": {},
   "source": [
    "### 단계 2: 컴파일"
   ]
  },
  {
   "cell_type": "markdown",
   "metadata": {},
   "source": [
    "### 단계 3: 컨트랙 배포\n",
    "\n",
    "배포하는 Gas가 3백만 가까이 계산되었다."
   ]
  },
  {
   "cell_type": "code",
   "execution_count": 47,
   "metadata": {
    "collapsed": false
   },
   "outputs": [
    {
     "name": "stdout",
     "output_type": "stream",
     "text": [
      "- contract name:  src/CustomerOrder.sol:Order\n",
      "Deploying the contract from 0x42E5468FC83A0c5F6D4d2E1E632bd8864Dd87bd1\n",
      ">> gas: 2832346\n",
      "hash: 0xc4f3f11b6908ddb0fa3685be0527872ca9aa241903d1ccb230bdc903cc1f10c2\n",
      "---> The contract deployed to: 0xc4404cC5E73462415BFba4592195b8Dde21384c5\n"
     ]
    }
   ],
   "source": [
    "!node src/CustomerOrderDeploy.js"
   ]
  },
  {
   "cell_type": "markdown",
   "metadata": {},
   "source": [
    "### 단계 4: 사용"
   ]
  },
  {
   "cell_type": "code",
   "execution_count": 50,
   "metadata": {
    "collapsed": false
   },
   "outputs": [
    {
     "name": "stdout",
     "output_type": "stream",
     "text": [
      "- contract name:  src/CustomerOrder.sol:Order\n",
      "Account: 0x42E5468FC83A0c5F6D4d2E1E632bd8864Dd87bd1\n",
      "Balance before: 99865294299999997778\n",
      ">> gas: 134584\n",
      "111 hongji-dong jongro-gu seoul\n",
      "Balance after: 99862602619999997778\n",
      "Balance diff: 2691680000000000\n"
     ]
    }
   ],
   "source": [
    "!node src/CustomerOrderUse.js"
   ]
  },
  {
   "cell_type": "code",
   "execution_count": 54,
   "metadata": {
    "collapsed": false
   },
   "outputs": [
    {
     "name": "stdout",
     "output_type": "stream",
     "text": [
      "- contract name:  src/CustomerOrder.sol:Order\n",
      "Account: 0x42E5468FC83A0c5F6D4d2E1E632bd8864Dd87bd1\n",
      "Balance before: 99862143899999996663\n",
      "111 hongji-dong jongro-gu seoul\n",
      "112 hongji-dong jongro-gu seoul\n",
      "113 hongji-dong jongro-gu seoul\n",
      "3\n",
      "3348\n",
      "Result {\n",
      "  '0': '555',\n",
      "  '1': 'T-Shirt',\n",
      "  '2': '1115',\n",
      "  '3': 'Ordered',\n",
      "  '4': '111 hongji-dong jongro-gu seoul' }\n",
      "Result {\n",
      "  '0': '556',\n",
      "  '1': 'T-Shirt',\n",
      "  '2': '1116',\n",
      "  '3': 'Ordered',\n",
      "  '4': '112 hongji-dong jongro-gu seoul' }\n",
      "Result {\n",
      "  '0': '557',\n",
      "  '1': 'T-Shirt',\n",
      "  '2': '1117',\n",
      "  '3': 'Ordered',\n",
      "  '4': '113 hongji-dong jongro-gu seoul' }\n",
      "Result {\n",
      "  '0': '555',\n",
      "  '1': 'T-Shirt',\n",
      "  '2': '1115',\n",
      "  '3': 'Ordered',\n",
      "  '4': '111 hongji-dong jongro-gu seoul' }\n",
      "Result {\n",
      "  '0': '556',\n",
      "  '1': 'T-Shirt',\n",
      "  '2': '1116',\n",
      "  '3': 'Ordered',\n",
      "  '4': '112 hongji-dong jongro-gu seoul' }\n",
      "3\n",
      "3348\n",
      "Balance after: 99856617999999995548\n",
      "Balance diff: 5525900000002048\n"
     ]
    }
   ],
   "source": [
    "!node src/CustomerOrderUse2.js"
   ]
  },
  {
   "cell_type": "markdown",
   "metadata": {},
   "source": [
    "## 연습문제"
   ]
  },
  {
   "cell_type": "markdown",
   "metadata": {
    "slideshow": {
     "slide_type": "subslide"
    }
   },
   "source": [
    "## 연습문제\n",
    "\n",
    "A, B 2인의 가위바위보 후 내기금액을 이긴 사람에게 지급하는 게임을 블록체인에 개발하세요.\n",
    "게임 컨트랙은 Rsp, 구현할 함수는 다음과 같다. 그 외 필요로 하는 함수는 추가할 수 있다.\n",
    "\n",
    "함수 | 설명\n",
    "-----|-----\n",
    "setA | 무작위로 가위, 바위, 보를 생성하고, 설정한다. ```1000 wei```씩 금액을 건다.\n",
    "setB | 외부에서 직접 입력하여 설정한다. ```1000 wei```씩 금액을 건다.\n",
    "play | 가위, 바위, 보의 승패를 정한다.\n",
    "distributeBetAmount | 이긴 측에게 내기 금액을 분배한다. A가 이기면 B의 내기 금액 ```1000 wei```를 가지게 된다.\n",
    "getMatchResult() | \"A wins\", \"B wins\", \"tie\" 결과를 출력\n",
    "\n",
    "노드에서 게임을 다음과 같이 진행하세요.\n",
    "- 게임 전의 A잔고, B잔고, 컨트랙 잔고 출력\n",
    "- A가 내기금액 걸고, 컴퓨터에서 무작위로 선택한 가위바위보\n",
    "- B가 내기금액 걸고, 사용자가 입력한 가위바위보\n",
    "- 승부내기\n",
    "- 누가 이겼는지 출력\n",
    "- 게임 끝나고 A잔고, B잔고, 컨트랙 잔고 출력\n"
   ]
  },
  {
   "cell_type": "markdown",
   "metadata": {},
   "source": [
    "## 연습문제\n",
    "\n",
    "Observer 패턴을 구현해보자."
   ]
  },
  {
   "cell_type": "code",
   "execution_count": null,
   "metadata": {
    "collapsed": true
   },
   "outputs": [],
   "source": []
  }
 ],
 "metadata": {
  "kernelspec": {
   "display_name": "Python 3",
   "language": "python",
   "name": "python3"
  },
  "language_info": {
   "codemirror_mode": {
    "name": "ipython",
    "version": 3
   },
   "file_extension": ".py",
   "mimetype": "text/x-python",
   "name": "python",
   "nbconvert_exporter": "python",
   "pygments_lexer": "ipython3",
   "version": "3.6.9"
  }
 },
 "nbformat": 4,
 "nbformat_minor": 1
}
