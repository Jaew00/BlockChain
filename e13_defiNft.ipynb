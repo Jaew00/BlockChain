{
 "cells": [
  {
   "cell_type": "markdown",
   "metadata": {},
   "source": [
    "# Chapter 13. 디파이, NFT\n",
    "\n",
    "Last Updated 20220613_20190111_20170205\n",
    "\n",
    "## 학습내용\n",
    "\n",
    "대표적인 블록체인의 코인으로 ERC20을 구현합니다. \n",
    "ERC20 코인을 사고 팔기 위해 탈중앙화 거래소에 등록합니다.\n",
    "NFT는 ERC721의 표준을 지켜서 구현해야 합니다.\n",
    "이미지를 블록체인에 저장하고, 그 URI를 소유주에게 지정합니다.\n",
    "제작한 NFT를 시장에서 판매하는 방법을 설명합니다.\n",
    "\n",
    "\n",
    "* 1. 디파이\n",
    "    * 1.1 디파이는 대체 무엇일까?\n",
    "    * 1.2 제작하는 방법\n",
    "    * 1.3 표준 인터페이스 IERC20\n",
    "    * 1.4 ERC20\n",
    "    * 1.5 디파이 개발\n",
    "    * 1.6 배포\n",
    "    * 1.7 사용\n",
    "    * 1.8 나의 토큰을 상장해보자\n",
    "* 2. NFT\n",
    "\t* 2.1 NFT가 대체 무엇일까?\n",
    "\t* 2.2 제작하는 방법\n",
    "\t* 2.3 IERC721\n",
    "\t* 2.4 ERC721\n",
    "\t* 2.5 IPFS\n",
    "\t* 2.6 NFT 개발\n",
    "\t* 2.7 NFT를 공중망에 배포해보자.\n",
    "\t* 2.8 나의 NFT를 매매해보자"
   ]
  },
  {
   "cell_type": "markdown",
   "metadata": {},
   "source": [
    "# 1. 디파이\n",
    "\n",
    "## 1.1 디파이는 대체 무엇일까?\n",
    "\n",
    "DeFi는 Decentralized Finance의 줄임말로서, 블록체인 상에서 운용되는 금융 상품 및 서비스로서, **탈중앙화금융**이라고 한다.\n",
    "\n",
    "시파이 (CeFi, Centralized Finance)를 설명하면 대척점에 있는 DeFi를 쉽게 이해할 수 있겠다.\n",
    "지금까지 우리가 사용해왔던 금융서비스, 입금, 출금, 계좌이체 모두 중앙의 은행을 통해서 거래가 이루어지는 CeFi이다.\n",
    "\n",
    "DeFi는 중앙에서 일어나는 것이 아니라, 분산된 참여자들이 서로 처리하게 된다.\n",
    "식사를 하고 결제를 했다고 하자. 이 결제는 중앙의 카드회사로 전송되고 승인된다.\n",
    "반면에 DeFi는 이런 거래가 승인되고, 결제되고, 기록되는 절차가 중앙이 아니라 분산해서 참여자에 의해 처리된다.\n",
    "\n",
    "DeFi는 늘상 일어나는 입출금뿐만 아니라, 암호화폐 대출, 대여, 토큰교환, 코인을 맡기고, 이자를 코인으로 받는 이자농사 (Yield Farming) 또는 다른 가상자산과 거래하거나 인터넷으로 연결만 될 수 있으면 어느 누구나 사용할 수 있다.\n",
    "\n",
    "DeFi는 꼭 화폐만 나타낼 수 있는 것은 아니다. 마일리지, 복권, 주식 어떤 것이든 대상이 될 수 있다는 점에 매력이 있다. \n",
    "\n",
    "DeFi는 2020년 이전까지만 해도 존재가 무색할 정도였지만, 암호화폐의 인기에 따라 자금의 규모가 급등하고 있다 (https://www.statista.com/statistics/1237821/defi-market-size-value-crypto-locked-usd/).\n",
    "그렇다고 해서 은행을 대체할 규모는 아니지만, 적다고 무시할 수준은 아니다.\n",
    "\n",
    "현금을 대체할 수 있어서 함부로 누구나 편한대로 만들도록 방치한다면 큰 혼란이 발생할 수 있다.\n",
    "그래서 ERC20 표준이 필요한 이유이며, 이를 준수해서 제작해야 한다. \n",
    "\n",
    "ERC20은 꼭 이더리움만 있는 것이 아니지만, 현재 이더리움 메인넷에는 수십만개의 ERC20 코인이 존재한다 (https://etherscan.io/tokens).\n",
    "ERC20 코인의 가장 좋은 예는 현금을 담보하고 발행하는 stable coin을 꼽을 수 있다.\n",
    "Chainlink (LINK), Tether (USDT), Shiba Inu (SHIB), Wrapped Bitcoin (WBTC), OmiseGO (OMG), 0x (ZRX), Maker (MKR), Augur (REP), Golem (GNT), Loopring (LRC), Basic Attention Token (BAT) 등 많은 코인이 발행되어 있다.\n",
    "\n",
    "그렇다면 누구나 ERC토큰을 만들 수 있는 것일까? 우리도 예를 들어 시가 1억원 규모의 디파이를 제작할 수 있는 것일까? 한국은행의 화폐발행을 우리가 대신한다는 의미가 된다. 그렇게만 된다면 누구나 쉽게 부자가 될 수 있겠다. 근로를 할 필요 없고 사업을 하지 않아도 되겠다. 현실은 그렇지 않다. 충분히 신뢰할 수 있지 않다면, 디파이는 화폐로서 저장, 교환가치가 있을 수 없겠다. 가격 변동이 심해서 투자 차익을 노리기만 할 뿐 실생활에서 쓰이지 않는다면 화폐라고 보기 힘들다."
   ]
  },
  {
   "cell_type": "markdown",
   "metadata": {},
   "source": [
    "## 1.2 제작하는 방법\n",
    "\n",
    "디파이는 블록체인에 금융서비스 기능을 하도록 제작된 프로그램이다.\n",
    "블록체인은 금융플랫폼에 특화되어 있고, 따라서 디파이는 매우 자연스런 디앱이라고 하겠다.\n",
    "\n",
    "디파이는 ERC20을 구현해서 제작하게 된다.\n",
    "ERC는 Ethereum Request for Comment의 약어로서 이더리움 기술적인 요구사항을 표준화하는 방안이다.\n",
    "ERC20는 토큰 Token을 만들기 위한 기술표준으로, 이 요구사항을 지키면서 코딩을 하면 된다.\n",
    "2015년 처음 Fabian Vogelsteller가 처음 표준화에 필요한 기능을 제안한 것으로 알려져 있다 (https://github.com/ethereum/EIPs/blob/master/EIPS/eip-20.md).\n",
    "표준을 준수하지 않으면 ERC20 토큰이라고 볼 수 없다."
   ]
  },
  {
   "cell_type": "markdown",
   "metadata": {},
   "source": [
    "## 1.3 표준 인터페이스 IERC20\n",
    "\n",
    "인터페이스 IERC20는 다음 6개의 함수를 정의하고 있다.\n",
    "\n",
    "### (1) 잔고\n",
    "- ```totalSupply() external view returns (uint)``` 전체 잔고를 출력한다.\n",
    "- ```balanceOf(address account) external view returns (uint)``` account주소의 잔고를 출력한다."
   ]
  },
  {
   "cell_type": "markdown",
   "metadata": {},
   "source": [
    "### (2) 허가 \n",
    "\n",
    "- ```allowance(address owner, address spender) external view returns (uint)```\n",
    "owner가 spender에게 권리가 부여되어 허가된 금액을 출력한다. \n",
    "\n",
    "- ```approve(address spender, uint amount) external returns (bool)```\n",
    "spender에게 amount를 허용하고, 성공여부를 출력한다.\n",
    "권리가 부여되고 나면, 그 금액은 owner의 소유일지라도 owner의 사적키가 없어도 거래를 수행할 수 있다.\n",
    "그러고 나면, spender는 ```transferFrom```으로 금액한도 내에서 전송할 수 있다.\n",
    "\n",
    "- ```event Approval(address indexed owner, address indexed spender, uint value)``` 허가 이벤트."
   ]
  },
  {
   "cell_type": "markdown",
   "metadata": {},
   "source": [
    "### (3) 이체\n",
    "\n",
    "- ```transfer(address recipient, uint amount) external returns (bool)```\n",
    "approve는 허용만 하지만, transfer는 실제 잔고의 차감이 발생한다. 따라서 자신의 잔고가 금액의 잔고가 정해진 금액 이상 이체되지 않도록 통제해야 한다.\n",
    "\n",
    "- ```transferFrom(address sender, address recipient, uint amount) external returns (bool)```\n",
    "transfer와 유사한 기능을 수행하지만, sender를 지정한다는 점이 다르다. 따라서 sender는 사전의 허가가 반드시 필요하다.\n",
    "\n",
    "- ```event Transfer(address indexed from, address indexed to, uint value)``` 이체 이벤트.\n",
    "\n"
   ]
  },
  {
   "cell_type": "markdown",
   "metadata": {},
   "source": [
    "## 1.4 ERC20\n",
    "\n",
    "ERC20은 IERC20을 구현하게 된다. 여기서는 Openzeppelin에서 제공하고 있는 ERC20을 살펴보자.\n",
    "\n",
    "### 변수\n",
    "- ```mapping(address => uint256) private _balances``` 각 주소의 잔고를 저장한다.\n",
    "- ```mapping(address => mapping(address => uint256)) private _allowances``` 소유자가 제3자에게 허용한 잔고를 저장한다.\n",
    "- ```uint256 private - _totalSupply``` 총잔고를 저장한다.\n",
    "- ```string private _name``` DeFi 명칭\n",
    "- ```string private _symbol``` DeFi 심볼"
   ]
  },
  {
   "cell_type": "markdown",
   "metadata": {},
   "source": [
    "### 생성자\n",
    "- ```constructor(string memory name_, string memory symbol_)```\n",
    "명칭과 심볼을 지정하고 생성\n",
    "\n",
    "### 명칭과 심볼\n",
    "- ```function name()``` 명칭을 출력\n",
    "- ```function symbol()``` 심볼을 출력\n",
    "- ```function decimals()``` ether의 wei로 표현하는 자릿수. 잔고 또는 이체하는 실제 금액과는 무관하다."
   ]
  },
  {
   "cell_type": "markdown",
   "metadata": {},
   "source": [
    "### 잔고\n",
    "\n",
    "- ```function totalSupply()```\n",
    "잔고 총액을 출력\n",
    "- ```function balanceOf(address account)```\n",
    "account의 잔고를 출력\n",
    "- ```function transfer(address to, uint256 amount)```\n",
    "내부함수 ```_transfer(owner, to, amount)``` 호출.\n",
    "- 내부함수 ```function _mint(address account, uint256 amount)```\n",
    "amount만큼 발권하여 account에 지급. totalSupply도 증액된다.\n",
    "- 내부함수 ```function _burn(address account, uint256 amount)```\n",
    "amount만큼 소각하고 account에서 차감. totalSupply도 차감된다."
   ]
  },
  {
   "cell_type": "markdown",
   "metadata": {},
   "source": [
    "### 허가\n",
    "- ```function allowance(address owner, address spender)```\n",
    "허용금액 ```_allowances[owner][spender]``` 출력\n",
    "- ```function approve(address spender, uint256 amount)```\n",
    "내부함수 ```_approve(owner, spender, amount)``` 호출\n",
    "\n",
    "- ```function increaseAllowance(address spender, uint256 addedValue)```\n",
    "내부함수 ```_approve(owner, spender, allowance(owner, spender) + addedValue)``` 호출\n",
    "- ```function decreaseAllowance(address spender, uint256 subtractedValue)```\n",
    "increaseAllowance의 반대 기능, 내부함수 ```_approve(owner, spender, currentAllowance - subtractedValue)```\n",
    "- ```function _approve(address owner, address spender, uint256 amount)```\n",
    "매핑변수 ```_allowances[owner][spender] = amount```를 설정\n",
    "- ```function _spendAllowance(address owner, address spender, uint256 amount)```\n",
    "내부함수 ```_approve(owner, spender, currentAllowance - amount)```를 호출한다. 즉 허용한도내인지 확인하고 그 한도내에서 매핑변수 ```_allowances[owner][spender] = 현재잔고 currentAllowance - 요청잔고 amount```를 설정"
   ]
  },
  {
   "cell_type": "markdown",
   "metadata": {},
   "source": [
    "### 이체\n",
    "\n",
    "- ```function transferFrom(address from, address to, uint256 amount)```\n",
    "다른 사람의 토큰을 누군가에게 transfer하는 기능이다.\n",
    "그렇다고 해서 다른 사람의 토큰을 마음대로 보내도록 하면 매우 위험한 것이며, 따라서 허용이 되어서는 안된다.\n",
    "제3자가 나의 주소로부터 잔고를 자신에게 전송하는 것도 가능해지기 때문이다.\n",
    "따라서 2단계 절차, approve후 transferFrom을 사용해야 한다.\n",
    "즉 제3자에게 일정금액에 대해 허가를 한 후, 비로서 제3자는 그 금액한도 내에서의 이체가 가능해지게 된다.\n",
    "    * 단계 1: ```approve(address spender, uint256 _amount)```로 spender를 지정해서 일정량을 이체하도록 허가한다. 그러면 ```allowance[owner][spender] = _amount```로 지정한다.\n",
    "    * 단계 2: 비로서 transfer가 가능하다. 물론 정해진 한도 내에서 가능하다.\n",
    "    제3자, 즉 다른 컨트랙 또는 다른 외부 주소에게 자신의 잔고를 transfer할 수 있는 \n",
    "    ```_spendAllowance(from, spender, amount),  _transfer(from, to, amount)```\n",
    "\n",
    "A를 소유권자라고 하자.\n",
    "B가 A의 100 토큰을 C로 보내려고 하면, B는 A로부터 허가를 받아야 한다.\n",
    "A는 B에게 일정 한도를 approve(B주소, 100) 한다.\n",
    "A에게서 B로 허용된 한도는 allowance(A주소, B주소)로 확인할 수 있게 된다.\n",
    "그러고 나서야, 송금 transferFrom(B주소, C주소, 100)을 할 수 있다.\n",
    "금액을 적게 transferFrom(B주소, C주소, 85)하면, allowance(A주소, B주소)는 15의 잔고가 남아 있다는 것을 알려준다.\n",
    "\n",
    "- ```function _transfer(address from, address to, uint256 amount)```\n",
    "내부에서만 사용하는 함수, from에서 to로 amount 이체"
   ]
  },
  {
   "cell_type": "markdown",
   "metadata": {},
   "source": [
    "## 1.5 디파이 개발\n",
    "\n",
    "openzeppelin에서 자동으로 기본 코드를 생성할 수도 있다.\n",
    "이미 openzeppelin의 ERC20이 코딩되어 있다. 이를 상속받아서 MyToken을 만들어보자.\n",
    "코인의 이름만 짓고, 발행하는 것으로 단순하게 만들 수 있다."
   ]
  },
  {
   "cell_type": "code",
   "execution_count": 61,
   "metadata": {
    "collapsed": false
   },
   "outputs": [
    {
     "name": "stdout",
     "output_type": "stream",
     "text": [
      "Overwriting src/MyToken.sol\n"
     ]
    }
   ],
   "source": [
    "%%writefile src/MyToken.sol\n",
    "// SPDX-License-Identifier: MIT\n",
    "pragma solidity ^0.8.0;\n",
    "\n",
    "import \"@openzeppelin/contracts/token/ERC20/ERC20.sol\";\n",
    "\n",
    "contract MyToken is ERC20 {\n",
    "    constructor() ERC20(\"MyToken\", \"JSL\"){\n",
    "        _mint(msg.sender, 1000000000000000000000000);\n",
    "        //_mint(msg.sender, 1000000*decimals());\n",
    "    }\n",
    "}"
   ]
  },
  {
   "cell_type": "markdown",
   "metadata": {},
   "source": [
    "### OpenZeppelin\n",
    "\n",
    "OpenZeppelin에서는 ERC 표준을 지켜서 작성해 놓은 라이브러리를 제공한다.\n",
    "NPM에서 설치하거나 github에서 직접 가져올 수 있다.\n",
    "\n",
    "#### 방법 1: NPM에서 설치\n",
    "로컬에서 파일을 import 하려면 npm에서 OpenZeppelin을 설치해야 한다.\n",
    "\n",
    "```\n",
    "npm install @openzeppelin/contracts\n",
    "특정버전을 설치하려면, npm install @openzeppelin/contracts@2.5.1\n",
    "```\n",
    "\n",
    "설치하고 나면, node_modules를 가서 확인해보자. 그 아래 디렉토리가 생성되고 라이브러리가 설치되어 있다.\n",
    "```\n",
    "C:\\Users\\jsl\\Code\\201711111\\>>dir node_modules\\@openzeppelin\n",
    "02/18/2022  05:40 PM    <DIR>          contracts\n",
    "```\n",
    "\n",
    "@기호는 NPM 패키지 그룹을 동일 명칭으로 사용할 수 있게 해준다. @openzeppelin/<package_name>이라고 적어주면 된다. 자바스크립트에서 @기호는 경로를 재지정하는 module-alias 기능을 의미한다.\n",
    "import할 때 디렉토리가 있는 곳을 상대적으로 나타내면 길어질 수 밖에 없다.\n",
    "@를 사용하면 경로를 그 라이브러리가 있는 시작점으로 재지정하게 된다.\n",
    "따라서 예를 들면\n",
    "```import MyLib from '../../../../MyLib'```\n",
    "을 줄여서 ```import MyLib from '@/MyLib'```로 쓰게 된다.\n",
    "\n",
    "#### 방법 2: Github에서 가져오기\n",
    "\n",
    "github에 라이브러리가 배포되어 있으니, 해당 파일을 내려받아서 사용해도 된다.\n",
    "```https://github.com/OpenZeppelin/openzeppelin-contracts/blob/v2.4.0/contracts/token/ERC721/ERC721.sol```"
   ]
  },
  {
   "cell_type": "markdown",
   "metadata": {},
   "source": [
    "### imports\n",
    "\n",
    "REMIX에서는 설치한 @openzeppelin의 경로를 그대로 적어주면 된다.\n",
    "@openzeppelin 라이브러리를 찾아 import 한다.\n",
    "```\n",
    "import \"@openzeppelin/contracts/token/ERC20/ERC20.sol\";\n",
    "버전을 정해주려면\n",
    "import \"@openzeppelin/contracts@4.2.0/token/ERC20/ERC20.sol\";\n",
    "```\n",
    "\n",
    "그러나 로컬에서 컴파일하게 되면 그 파일의 상대적 명칭을 적어 주어야 한다.\n",
    "현재 컨트랙 기준으로 contracts/abc.sol 코드 안에\n",
    "```\n",
    "import \"./my/home.sol\"  --> 이 경로는 contracts/my/home.sol로 변환된다.\n",
    "```\n"
   ]
  },
  {
   "cell_type": "markdown",
   "metadata": {},
   "source": [
    "### 상속\n",
    "\n",
    "ERC721을 상속을 한다. ERC721은 OpenZeppelin에서 제공되는 컨트랙이다.\n",
    "이 컨트랙을 상속받으면, NFT를 제작하는데 필요한 작업을 상속받아서 활용할 수 있어서\n",
    "직접 코딩해야 하는 분량이 줄어들 뿐만 아니라, 앞서 설명한 바와 같이 NFT 표준을 준수하게 된다.\n",
    "\n",
    "```\n",
    "contract contract MyNFT is ERC721 {}\n",
    "```"
   ]
  },
  {
   "cell_type": "markdown",
   "metadata": {},
   "source": [
    "## 잔고의 생성\n",
    "\n",
    "전에는 직접 잔고를 수정해주었다.\n",
    "아래에서 보듯이 전체잔고 totalSupply, balances의 잔고를 증가시킨다.\n",
    "```\n",
    "totalSupply += 1000;\n",
    "balances[msg.sender] += 1000;\n",
    "```\n",
    "\n",
    "이제 이들 변수는 private로 지정되어 직접 수정할 수 없다. 대신 내부함수 ```_mint()``` 에서 위 두 줄 코드를 넣어 잔고를 수정한다.\n",
    "\n",
    "```\n",
    "constructor() public {\n",
    "    _mint(msg.sender, 1000);\n",
    "}\n",
    "```\n",
    "\n",
    "금액은 고정으로 설정하고 있다.\n",
    "```_mint()```는 ```emit Transfer(address(0), account, amount)```를 통해 이벤트가 발생한다."
   ]
  },
  {
   "cell_type": "markdown",
   "metadata": {},
   "source": [
    "현재 디렉토리 밖의 파일을 사용하는 경우에는 컴파일 오류가 발생한다.\n",
    "허용되지 않은 파일을 사용하기 때문에 그렇다."
   ]
  },
  {
   "cell_type": "code",
   "execution_count": 5,
   "metadata": {
    "collapsed": false
   },
   "outputs": [
    {
     "name": "stderr",
     "output_type": "stream",
     "text": [
      "Error: Source \"@openzeppelin/contracts/token/ERC20/ERC20.sol\" not found: File outside of allowed directories.\n",
      " --> src/MyToken.sol:4:1:\n",
      "  |\n",
      "4 | import \"@openzeppelin/contracts/token/ERC20/ERC20.sol\";\n",
      "  | ^^^^^^^^^^^^^^^^^^^^^^^^^^^^^^^^^^^^^^^^^^^^^^^^^^^^^^^\n",
      "\n"
     ]
    }
   ],
   "source": [
    "!solc-windows.exe --optimize --combined-json abi,bin src/MyToken.sol > src/MyToken.json"
   ]
  },
  {
   "cell_type": "markdown",
   "metadata": {},
   "source": [
    "```--allow-path```로 경로를 지정해 주어도 오류가 발생하고 있다."
   ]
  },
  {
   "cell_type": "code",
   "execution_count": 6,
   "metadata": {
    "collapsed": false
   },
   "outputs": [
    {
     "name": "stderr",
     "output_type": "stream",
     "text": [
      "Error: Source \"@openzeppelin/contracts/token/ERC20/ERC20.sol\" not found: File outside of allowed directories.\n",
      " --> src/MyToken.sol:4:1:\n",
      "  |\n",
      "4 | import \"@openzeppelin/contracts/token/ERC20/ERC20.sol\";\n",
      "  | ^^^^^^^^^^^^^^^^^^^^^^^^^^^^^^^^^^^^^^^^^^^^^^^^^^^^^^^\n",
      "\n"
     ]
    }
   ],
   "source": [
    "!solc-windows.exe --allow-paths \"C:\\\\Users\\\\jsl\\\\Code\\\\201711111\\\\node_modules\\\\@openzeppelin\" --optimize --combined-json abi,bin src/MyToken.sol > src/MyToken.json"
   ]
  },
  {
   "cell_type": "markdown",
   "metadata": {},
   "source": [
    "경로를 재지정해주면 오류가 발생하지 않는다.\n",
    "경로설정을 하지 않아서???"
   ]
  },
  {
   "cell_type": "code",
   "execution_count": 1,
   "metadata": {
    "collapsed": true
   },
   "outputs": [],
   "source": [
    "!solc-windows.exe @openzeppelin/=\"C:\\\\Users\\\\jsl\\\\Code\\\\201711111\\\\node_modules\\\\@openzeppelin\\\\\" --optimize --combined-json abi,bin src/MyToken.sol > src/MyToken.json"
   ]
  },
  {
   "cell_type": "markdown",
   "metadata": {},
   "source": [
    "컴파일한 후, MyToken.json 파일을 열어보면 (type src\\\\MyToken.json) 다음과 같이 여러 파일이 포함되어 있다.\n",
    "내용이 길어서, ```...```으로 생략하고 있다.\n",
    "\n",
    "```\n",
    "{\"contracts\":{\"C://Users//jsl//Code//201711111//node_modules//@openzeppelin/contracts/token/ERC20/ERC20.sol:ERC20\":{\"abi\":[...],\"bin\":\"...\"},\n",
    "\"C://Users//jsl//Code//201711111//node_modules//@openzeppelin/contracts/token/ERC20/IERC20.sol:IERC20\":{\"abi\":[...],\"bin\":\"\"},\n",
    "\"C://Users//jsl//Code//201711111//node_modules//@openzeppelin/contracts/token/ERC20/extensions/IERC20Metadata.sol:IERC20Metadata\":{\"abi\":[...],\"bin\":\"\"},\n",
    "\"C://Users//jsl//Code//201711111//node_modules//@openzeppelin/contracts/utils/Context.sol:Context\":{\"abi\":[],\"bin\":\"\"},\n",
    "\"src/MyToken.sol:MyToken\":{\"abi\":[...],\"bin\":\"...\"}},\n",
    "\"version\":\"0.8.1+commit.df193b15.Windows.msvc\"}\n",
    "```\n",
    "\n",
    "총 5개의 파일이 포함되어 있고, 인터페이스는 바이트코드가 생성이 되지 않고 abi만 생성한다는 것을 알 수 있다.\n",
    "\n",
    "파일 | 구분 | abi | bytecode\n",
    "-----|-----|-----|-----\n",
    "ERC20 | 구현 컨트랙 | abi 생성 | bytecode 생성\n",
    "IERC20 | 인터페이스 | abi만 생성 | 없슴\n",
    "IERC20Metadata | 인터페이스 | abi만 생성 | 없슴\n",
    "Context | 추상 컨트랙 | 없슴 | 없슴\n",
    "MyToken | 구현 컨트랙 | abi 생성 | bytecode 생성\n",
    "\n"
   ]
  },
  {
   "cell_type": "markdown",
   "metadata": {},
   "source": [
    "## 1.6 배포\n",
    "\n",
    "* 복수의 컨트랙이 import되었으므로, 컴파일한 abi, bytecode도 포함된 파일의 수만큼 생성되었다.\n",
    "* 순서를 지정하여 ```contractName[4]```를 읽고 있다."
   ]
  },
  {
   "cell_type": "code",
   "execution_count": 6,
   "metadata": {
    "collapsed": false
   },
   "outputs": [
    {
     "name": "stdout",
     "output_type": "stream",
     "text": [
      "Overwriting src/MyTokenTest.js\n"
     ]
    }
   ],
   "source": [
    "%%writefile src/MyTokenTest.js\n",
    "var _abiJson = require('./MyToken.json');\n",
    "contractName=Object.keys(_abiJson.contracts); \n",
    "console.log(\"- contract name: \", contractName[4]); //reading src/MyToken.sol:MyToken"
   ]
  },
  {
   "cell_type": "code",
   "execution_count": 7,
   "metadata": {
    "collapsed": false
   },
   "outputs": [
    {
     "name": "stdout",
     "output_type": "stream",
     "text": [
      "- contract name:  src/MyToken.sol:MyToken\n"
     ]
    }
   ],
   "source": [
    "!node src/MyTokenTest.js"
   ]
  },
  {
   "cell_type": "markdown",
   "metadata": {},
   "source": [
    "실행해 보면 올바르게 컨트랙명을 읽어 오는 것을 알 수가 있다.\n",
    "주의해야 할 것이 있다.\n",
    "contractName은 4개의 컨트랙, import한 모든 컨트랙의 명칭을 가지고 있다.\n",
    "- 'C://Users//jsl//Code//201711111//node_modules//@openzeppelin/contracts/token/ERC20/ERC20.sol:ERC20',\n",
    "- 'C://Users//jsl//Code//201711111//node_modules//@openzeppelin/contracts/token/ERC20/IERC20.sol:IERC20',\n",
    "- 'C://Users//jsl//Code//201711111//node_modules//@openzeppelin/contracts/token/ERC20/extensions/IERC20Metadata.sol:IERC20Metadata',\n",
    "- 'C://Users//jsl//Code//201711111//node_modules//@openzeppelin/contracts/utils/Context.sol:Context',\n",
    "  'src/MyToken.sol:MyToken' ]\n",
    "\n",
    "우리가 필요한 것은 5번째 MyToken이므로, 인덱스로 contractName[4]을 가져온다."
   ]
  },
  {
   "cell_type": "code",
   "execution_count": 19,
   "metadata": {
    "collapsed": false
   },
   "outputs": [
    {
     "name": "stdout",
     "output_type": "stream",
     "text": [
      "Overwriting src/MyTokenTest.js\n"
     ]
    }
   ],
   "source": [
    "%%writefile src/MyTokenTest.js\n",
    "var _abiJson = require('./MyToken.json');\n",
    "contractName=Object.keys(_abiJson.contracts);\n",
    "console.log(\"- contract name: \", contractName[4]);\n",
    "\n",
    "_abi=_abiJson.contracts[contractName[4]].abi\n",
    "_bin=_abiJson.contracts[contractName[4]].bin\n",
    "console.log(\"- ABI: \", _abi);\n",
    "console.log(\"- Bytecode: \", _bin);"
   ]
  },
  {
   "cell_type": "markdown",
   "metadata": {},
   "source": [
    "!node src/MyTokenTest.js"
   ]
  },
  {
   "cell_type": "markdown",
   "metadata": {},
   "source": [
    "### Unexpected token o in JSON at position 1 Error\n",
    "\n",
    "JSON.parse 함수의 첫 인자는 String이어야 한다. Javascript Object인 경우에는 오류가 발생한다.\n",
    "이 경우 문자열로 변환해서 인자로 넘겨주어야 한다.\n",
    "\n",
    "```\n",
    "> new Object().toString()\n",
    "'[object Object]'  --> Object를 생성해서 문자열로 출력한다.\n",
    "> JSON.parse(new Object())\n",
    "SyntaxError: Unexpected token o in JSON at position 1\n",
    "--> Object를 파싱하면 첫 글자가 기대하는 토큰이 아니고 [object Object]이라서 오류가 발생한다\n",
    "> JSON.parse(JSON.stringify(new Object()))\n",
    "{}  --> 문자열로 변환 stringify해서 출력하면 오류가 없어진다.\n",
    "```"
   ]
  },
  {
   "cell_type": "code",
   "execution_count": 31,
   "metadata": {
    "collapsed": false
   },
   "outputs": [
    {
     "name": "stdout",
     "output_type": "stream",
     "text": [
      "Overwriting src/MyTokenDeployAbiBinFromFile.js\n"
     ]
    }
   ],
   "source": [
    "%%writefile src/MyTokenDeployAbiBinFromFile.js\n",
    "var Web3=require('web3');\n",
    "var _abiBinJson = require('./MyToken.json');\n",
    "\n",
    "var web3;\n",
    "if (typeof web3 !== 'undefined') {\n",
    "    web3 = new Web3(web3.currentProvider);\n",
    "} else {\n",
    "    web3 = new Web3(new Web3.providers.HttpProvider(\"http://localhost:8345\"));\n",
    "}\n",
    "\n",
    "contractName=Object.keys(_abiBinJson.contracts); // reading ['src//Timer.sol:Timer']\n",
    "console.log(\"- contract name: \", contractName[4]); //or console.log(contractName);\n",
    "\n",
    "_abi=_abiBinJson.contracts[contractName[4]].abi\n",
    "_bin=_abiBinJson.contracts[contractName[4]].bin\n",
    "\n",
    "\n",
    "//contractName=Object.keys(_abiJson.contracts); // reading ['src//Timer.sol:Timer'];\n",
    "//console.log(\"- contract name: \", contractName[4]); //or console.log(contractName);\n",
    "//_abiArray=JSON.parse(_abiBinJson.contracts[contractName[4]].abi);    //JSON parsing needed!!\n",
    "//_bin=_abiBinJson.contracts[contractName[4]].bin;\n",
    "console.log(\"- ABI: \" + _abi);\n",
    "console.log(\"- Bytecode: \" + _bin);\n",
    "\n",
    "console.log(\"- ABI Stringify: \" + JSON.stringify(_abi));\n",
    "console.log(\"- ABI JSON Stringify: \" + JSON.parse(JSON.stringify(_abi)));"
   ]
  },
  {
   "cell_type": "markdown",
   "metadata": {
    "scrolled": true
   },
   "source": [
    "!node src/MyTokenDeployAbiBinFromFile.js"
   ]
  },
  {
   "cell_type": "code",
   "execution_count": 3,
   "metadata": {
    "collapsed": false
   },
   "outputs": [
    {
     "name": "stdout",
     "output_type": "stream",
     "text": [
      "Overwriting src/MyTokenDeployAbiBinFromFile.js\n"
     ]
    }
   ],
   "source": [
    "%%writefile src/MyTokenDeployAbiBinFromFile.js\n",
    "var Web3=require('web3');\n",
    "var _abiBinJson = require('./MyToken.json');\n",
    "\n",
    "var web3;\n",
    "if (typeof web3 !== 'undefined') {\n",
    "    web3 = new Web3(web3.currentProvider);\n",
    "} else {\n",
    "    web3 = new Web3(new Web3.providers.HttpProvider(\"http://localhost:8345\"));\n",
    "}\n",
    "\n",
    "contractName=Object.keys(_abiBinJson.contracts);\n",
    "console.log(\"- contract name: \", contractName[4]); //or console.log(contractName);\n",
    "\n",
    "//_abi=_abiBinJson.contracts[contractName[4]].abi\n",
    "//_bin=_abiBinJson.contracts[contractName[4]].bin\n",
    "\n",
    "\n",
    "//contractName=Object.keys(_abiJson.contracts); // reading ['src//Timer.sol:Timer'];\n",
    "//console.log(\"- contract name: \", contractName[4]); //or console.log(contractName);\n",
    "_abiArray=JSON.parse(JSON.stringify(_abiBinJson.contracts[contractName[4]].abi));    //JSON parsing needed!!\n",
    "//_abiArray=JSON.stringify(_abi)\n",
    "_bin=\"0x\"+_abiBinJson.contracts[contractName[4]].bin;\n",
    "//console.log(\"- ABI: \" + JSON.stringify(_abiArray));\n",
    "//console.log(\"- Bytecode: \" + _bin);\n",
    "\n",
    "//unlock the account with a password provided\n",
    "//web3.personal.unlockAccount(web3.eth.accounts[0],'password');\n",
    "\n",
    "async function deploy() {\n",
    "    const accounts = await web3.eth.getAccounts();\n",
    "    console.log(\"Deploying the contract from \" + accounts[0]);\n",
    "    var deployed = await new web3.eth.Contract(_abiArray)\n",
    "        .deploy({data: _bin})\n",
    "        .send({from: accounts[0], gas: 1000000}, function(err, transactionHash) {\n",
    "                if(!err) console.log(\"hash: \" + transactionHash); \n",
    "        })\n",
    "        //.then(function(newContractInstance){\n",
    "        //    console.log(newContractInstance.options.address)\n",
    "        //});\n",
    "    console.log(\"---> The contract deployed to: \" + deployed.options.address)\n",
    "}\n",
    "deploy()"
   ]
  },
  {
   "cell_type": "code",
   "execution_count": 4,
   "metadata": {
    "collapsed": false,
    "scrolled": true
   },
   "outputs": [
    {
     "name": "stdout",
     "output_type": "stream",
     "text": [
      "- contract name:  src/MyToken.sol:MyToken\n",
      "Deploying the contract from 0x442c2ca937788E7C76b232f8822B016b8A253282\n",
      "hash: 0x4e27c54456e4a58274278be5de7c00511bfd70f7010f4daf78cacc915d432ced\n",
      "---> The contract deployed to: 0x8d8A11930c7C25554eD0EE8138E720206437af92\n"
     ]
    }
   ],
   "source": [
    "!node src/MyTokenDeployAbiBinFromFile.js"
   ]
  },
  {
   "cell_type": "markdown",
   "metadata": {},
   "source": [
    "## 1.7 사용\n"
   ]
  },
  {
   "cell_type": "code",
   "execution_count": 44,
   "metadata": {
    "collapsed": false
   },
   "outputs": [
    {
     "name": "stdout",
     "output_type": "stream",
     "text": [
      "Overwriting src/MyTokenUse.js\n"
     ]
    }
   ],
   "source": [
    "%%writefile src/MyTokenUse.js\n",
    "var Web3=require('web3');\n",
    "var _abiBinJson = require('./MyToken.json');\n",
    "\n",
    "var web3 = new Web3(new Web3.providers.HttpProvider(\"http://localhost:8345\"));\n",
    "\n",
    "contractName=Object.keys(_abiBinJson.contracts); \n",
    "console.log(\"- contract name: \", contractName[4]);// reading ['src//Timer.sol:Timer']\n",
    "var _abiArray=JSON.parse(JSON.stringify(_abiBinJson.contracts[contractName[4]].abi));    //JSON parsing needed!!\n",
    "\n",
    "var _test = new web3.eth.Contract(_abiArray, '0x8d8A11930c7C25554eD0EE8138E720206437af92');\n",
    "\n",
    "async function doIt() {\n",
    "    const accounts = await web3.eth.getAccounts();\n",
    "    console.log(\"Account: \" + accounts[0]);\n",
    "    const balanceBefore = await web3.eth.getBalance(accounts[0]);\n",
    "    console.log(\"Balance before: \" + balanceBefore);\n",
    "    \n",
    "    const name = await _test.methods.name().call();\n",
    "    console.log(\"name: \" + name);\n",
    "    const decimals = await _test.methods.decimals().call();\n",
    "    console.log(\"decimals: \" + decimals);\n",
    "    const value = await _test.methods.totalSupply().call();\n",
    "    console.log(\"totalSupply: \" + value);\n",
    "\n",
    "    console.log(\"-----1 before transfer-----\");\n",
    "    console.log(\"1-1 balanceOfAccount0: \" + await _test.methods.balanceOf(accounts[0]).call());\n",
    "    console.log(\"1-2 balanceOfAccount1: \" + await _test.methods.balanceOf(accounts[1]).call());\n",
    "    await _test.methods.transfer(accounts[1], 1)\n",
    "        .send({from: accounts[0], gas: 364124, gasPrice: '1000000000'})\n",
    "    console.log(\"-----2 after transfer-----\");\n",
    "    console.log(\"2-1 balanceOfAccount0: \" + await _test.methods.balanceOf(accounts[0]).call());\n",
    "    console.log(\"2-2 balanceOfAccount1: \" + await _test.methods.balanceOf(accounts[1]).call());\n",
    "    console.log(\"-----3 after approve and transferFrom-----\");    \n",
    "    var addrTo = accounts[0];\n",
    "    console.log(\"3-1 allowanceOfAddrTo: \"+ await _test.methods.allowance(accounts[0], addrTo).call());\n",
    "    await _test.methods.approve(addrTo, 111)\n",
    "        .send({from: accounts[0], gas: 100000});\n",
    "    console.log(\"3-2 allowanceOfAddrTo 111: \"+ await _test.methods.allowance(accounts[0], addrTo).call());\n",
    "    await _test.methods.transferFrom(addrTo, accounts[1], 1)\n",
    "        .send({from: accounts[0], gas: 3641240, gasPrice: '1000000000'})\n",
    "    console.log(\"3-3 balanceOfAccount0: \" + await _test.methods.balanceOf(accounts[0]).call());\n",
    "    console.log(\"3-4 balanceOfAccount1: \" + await _test.methods.balanceOf(accounts[1]).call());\n",
    "    //const value = await _test.methods.myFunction()\n",
    "    //    .send({from: accounts[0], gas: 364124, gasPrice: '1000000000'})\n",
    "        //.then(function(value) {console.log(\"---> myFunction called \" + JSON.stringify(value.events.MyLog.returnValues));});\n",
    "    //console.log(\"---> myFunction called \" + JSON.stringify(value.events.MyLog.returnValues));\n",
    "    const balanceAfter = await web3.eth.getBalance(accounts[0]);\n",
    "    console.log(\"Balance after: \" + balanceAfter);\n",
    "    console.log(\"Balance diff: \" + (balanceBefore - balanceAfter));\n",
    "}\n",
    "doIt()"
   ]
  },
  {
   "cell_type": "markdown",
   "metadata": {},
   "source": [
    "* 토큰의 소유는 토큰을 배포한 accounts[0]이다. 발권한 금액은 accounts[0]의 잔고로 잡히게 된다.\n",
    "\n",
    "* call 함수 출력을 위해 await를 해준다. 해주지 않으면 Object가 출력된다.\n",
    "```\n",
    "_test.methods.balanceOf(accounts[0])   ---> [object Object]\n",
    "await _test.methods.balanceOf(accounts[0]) ---> [object Object]\n",
    "await _test.methods.balanceOf(accounts[0]).call()); ---> 반환값이 올바르게 출력된다.\n",
    "```\n",
    "\n",
    "* 1. transfer하기 전의 잔고\n",
    "```\n",
    "-----before transfer-----\n",
    "balanceOfAccount0: 1000000000000000000000000\n",
    "balanceOfAccount1: 0\n",
    "```\n",
    "\n",
    "* 2. 1을 transfer한 후 잔고는 서로 1만큼씩 증감이 있다.\n",
    "transfer(address to, uint256 amount)는 to에게 amount를 전송하는 기능이다.\n",
    "\n",
    "* 3. approve하고 나서 1을 transfer한 후 잔고 역시 서로 1만큼씩 증감이 있다.\n",
    "transferFrom()은 2단계가 필요한 송금이다. 이 함수는 from에서 to로 전송하지만 반드시 사전 출금허락이 필요한 기능이다.\n",
    "    - 따라서 먼저 approve(address owner, address spender, uint256 amount)를 실행하여 어떤 계좌로부터 그 금액 amount만큼 인출할 때 허락을 받고,\n",
    "    - 그리고 나서 transfer(address from, address to, uint256 amount) 해야 한다.\n"
   ]
  },
  {
   "cell_type": "code",
   "execution_count": 45,
   "metadata": {
    "collapsed": false,
    "scrolled": true
   },
   "outputs": [
    {
     "name": "stdout",
     "output_type": "stream",
     "text": [
      "- contract name:  src/MyToken.sol:MyToken\n",
      "Account: 0x442c2ca937788E7C76b232f8822B016b8A253282\n",
      "Balance before: 999995671865000000000\n",
      "name: MyToken\n",
      "decimals: 18\n",
      "totalSupply: 1000000000000000000000000\n",
      "-----1 before transfer-----\n",
      "1-1 balanceOfAccount0: 999999999999999999999980\n",
      "1-2 balanceOfAccount1: 20\n",
      "-----2 after transfer-----\n",
      "2-1 balanceOfAccount0: 999999999999999999999979\n",
      "2-2 balanceOfAccount1: 21\n",
      "-----3 after approve and transferFrom-----\n",
      "3-1 allowanceOfAddrTo: 110\n",
      "3-2 allowanceOfAddrTo 111: 111\n",
      "3-3 balanceOfAccount0: 999999999999999999999978\n",
      "3-4 balanceOfAccount1: 22\n",
      "Balance after: 999995536446000000000\n",
      "Balance diff: 135418999996416\n"
     ]
    }
   ],
   "source": [
    "!node src/MyTokenUse.js"
   ]
  },
  {
   "cell_type": "markdown",
   "metadata": {},
   "source": [
    "## 1.8 나의 토큰을 상장해보자\n",
    "\n",
    "지금까지 우리의 토큰을 제작하였다.\n",
    "이렇게 ERC20 토큰을 제작하면 완성일까?\n",
    "어떠한 화폐를 발행해도 실제 시장에서 쓰이지 않는다면 어떤 효용성이 있을까?\n",
    "\n",
    "자 우리가 만든 토큰에 교환가치를 부여해보자.\n",
    "우리가 제작한 토큰이 실제 사용되려면 **교환가치**가 있어야 한다."
   ]
  },
  {
   "cell_type": "markdown",
   "metadata": {},
   "source": [
    "### 이더리움 메인넷에 토큰을 등록한다.\n",
    "우선 메인넷에 배포해야 한다.\n",
    "사설망에 배포해봐야 교환가치는 없다. 사설망의 화폐는 교환가치가 없는 이치와 같다.\n",
    "\n",
    "메인넷에 배포하려면 infura를 통해서 REMIX에서 하는 것이 편하다.\n",
    "메타마스크 지갑을 연결하고, 키를 읽어서 쉽게 배포할 수 있다. "
   ]
  },
  {
   "cell_type": "markdown",
   "metadata": {},
   "source": [
    "### 토큰을 거래소에 상장하자.\n",
    "코인거래가 가능한 해외거래소는 코인베이스, 바이낸스 (Biance) 등이 있다.\n",
    "국내는 빗썸, 업비트 등이 있다.\n",
    "이들은 중앙화 거래소 (Cex, Centralized Exchange)에는 신청서를 제출한후,\n",
    "적격성을 심사해야 상장이 된다.\n",
    "\n",
    "이러한 중앙화 거래소는 중앙에서 거래가 이루어지는데 반해, \n",
    "탈중앙화 거래소 DEX Distrbuted Exchange는 기존의 암호화폐 거래소와 달리, 분산거래소이다.\n",
    "국내에서도 많은 코인들이 유니스왑에 상장하고 있다.\n",
    "중앙화 거래소와는 달리, 적격성 심사와 같은 절차가 생략되고 아무나 상장할 수 있다.\n",
    "따라서 상장이라는 단어보다는 등록이라는 단어가 더 맞다고 할 수 있다.\n",
    "ERC20 토큰이 등록 (list) 되려면 허가가 필요하지는 않다.\n",
    "비용도 없고, 중간 매개 없이 거래가 이루어진다.\n",
    "\n",
    "대표적인 탈중앙화 거래소는 유니스왑 Uniswap이 있다.\n",
    "유니스왑은 이더리움 기반의 DEX으로서 ERC20 토큰을 서로 교환할 수 있다.\n",
    "유니스왑에 등록하려면 동등한 교환가치의 이더가 '쌍으로' 제공되어야 한다.\n",
    "\n",
    "예를 들어 MyToken이라고 하자. 그러면 10만원의 MyToken과 10만원의 이더가 필요하다.\n",
    "이를 **유동성 풀 Liquidity Pool**이라고 한다. 이더와 연동하려면 MyToken/ETH의 풀을 구성한다. \n",
    "가격은 그 교환비율에 따라 결정한다.\n",
    "10만원어치 이더에 몇 개의 내 토큰이 제공될 것인지 결정한다."
   ]
  },
  {
   "cell_type": "markdown",
   "metadata": {},
   "source": [
    "### 거래\n",
    "\n",
    "ERC20 또는 ERC721 토큰의 거래를 하려면, ERC20을 지원하는 지갑이 있어야 한다.\n",
    "많이 쓰는 지갑은 메타마스크가 있다. 또한 Coinbase Wallet, ZenGo, Exodus, Metamask, Trezor, WalletTrust 등을 사용할 수도 있다.\n",
    "\n",
    "그리고 거래를 하기 위해서는 당연히 수수료 gas를 지급해야 하기 때무넹 이더를 구매해서 넣어 놓아야 한다.\n",
    "Ether를 구매하는 방법은 다양하다. 코인베이스와 같은 암호화폐 거래소를 이용할 수도 있고, 로빈후드(Robinhood) 같은 주식 거래 앱으로도 살 수 있다. 여기서는 메타마스크를 사용해 이더를 구매해도 된다. 이더를 채우기 위해 '구매' 버튼을 클릭하면 작은 창이 뜨며 '와이어(Wyre)로 이더 구매'나 '이더 직접 예치' 중 선택할 수 있다. 와이어는 블록체인 기반 국제 송금 업체다.\n",
    "\n",
    "거래는 (1) 급행, (2) 보통, (3) 느림이 있고, 수수료를 많이 내면 빠르게 처리된다.\n",
    "\n",
    "그 교환비율은 항상 변경된다.\n",
    "MyToken을 누군가 구매하면, 공급이 감소할테고\n",
    "그러면 ETH의 공급은 증가하게 된다. 따라서 MyToken의 가격은 상승하게 된다.\n",
    "가격이 변동하려면 거래가 발생해야하고, 그러면 토큰의 가격이 재산정된다.\n",
    "\n",
    "유니스왑에서는 ETH를 구입하거나 등록된 ERC20 토큰을 구매할 수 있다.\n",
    "그러려면 수수료를 지급해야 한다.\n",
    "\n",
    "**차익거래 Arbitrage**를 통해 수익을 낼 수 있다.\n",
    "예를 들어, 토큰별로 이더와의 교환비율에 차이가 있다면, 이를 노리고 수익을 올릴 수 있다."
   ]
  },
  {
   "cell_type": "markdown",
   "metadata": {},
   "source": [
    "# 2. NFT\n",
    "\n",
    "## 2.1 NFT가 대체 무엇일까?\n",
    "\n",
    "NFT는 디지털로 제작된 자산을 말한다. \n",
    "사진, 게임, 그림, 게임의 아이템, 비디오, 부동산, 소프트웨어 라이센스, 입장권 어떤 것이나 NFT로 만들어질 수 있다.\n",
    "\n",
    "그렇다면 디지털로 만들었다면 모두 NFT일까?\n",
    "디지털로 만들어졌지만, 그 소유권을 암호화폐에서 하는 것처럼 증명한다는 점에서 차이가 있다.\n",
    "NFT는 어떤 저작물의 소유를 증명하고, 유일무이하고 대체될 수 없는 토큰이다.\n",
    "블록체인에서 소유권이 증명되기 때문에, 누구도 소유권을 위조할 수 없다.\n",
    "\n",
    "NFT는 2014년 5월 Kevin McCoy가 만든 \"Quantum\"이다. 8각형을 여러 디지털 이미지로 변화해서 보여주고 있다.\n",
    "그러다가 NFT가 보다 널리 알려지게 된 것은 2017년 블록체인 게임 '크립토키티'이다.\n",
    "최근에는 수천장의 사진을 콜라쥬한 작품 \"Everydays: the First 5000 Days\"이 NFT로 만들어져서 고가에 거래돼 화제를 모았다.\n",
    "트위터의 창업자인 Jack Dorsey의 첫 트윗도 NFT로 만들어지는 등 NFT가 인기를 끌고 있고, 관련 기업 주가도 급등하고 있다."
   ]
  },
  {
   "cell_type": "markdown",
   "metadata": {},
   "source": [
    "## 2.2 제작하는 방법\n",
    "\n",
    "### 스마트컨트랙을 제작\n",
    "\n",
    "그렇다면 자신이 100개의 PNG 이미지가 있다고 하자.\n",
    "그리고 이들을 NFT로 만든다고 하자.\n",
    "무엇을 해야 하는 것일까?\n",
    "\n",
    "이미지, 이미지의 메타데이터 그리고 그 소유권자를 지정해야 한다.\n",
    "이미지의 소유권을 증명하는 코딩을 해야 하고, 앞서 했던 것처럼 이런 컨트랙을 만들어서 블록체인에 배포를 하는 것이다. IERC721, ERC721 코드를 상속하여 코딩하면 쉽게 안전한 코드를 작성할 수 있다."
   ]
  },
  {
   "cell_type": "markdown",
   "metadata": {},
   "source": [
    "### 이미지는 블록체인에 저장하지 않는다\n",
    "이미지는 (1) 블록체인에 저장하거나, (2) IPFS에 저장할 수 있다.\n",
    "이미지는 왜 저장을 블록체인에 하지 않을까?\n",
    "물론 할 수 있다. 이미지 하나라면 용량이 얼마되지 않겠지만 수 백개, 수 천개라고 하면 비용이 만만치 않다.\n",
    "블록체인은 큰 파일, 이미지, 동영상을 저장하는 용도로 쓰지 않는다.\n",
    "\n",
    "그러니까 \n",
    "yellow paper에 따르면, 256-bit (32 bytes)를 저장하려면 20k의 gas가 소요된다.\n",
    "1K = 1024 bytes이고 gas는 32 x 20k = 640k gas\n",
    "이미지 자체를 저장하기 위해 수 MB 또는 그 이상의 용량을 저장한다면 가스비가 급격히 증가할 것이다.\n",
    "메타데이터 JSON을 저장하는 것도 비용이 들게 될 것이므로, \n",
    "이러한 비용을 회피하기 위해 블록체인에는 메타데이터에 대한 URL만 저장하는 방법이 현명하다고 하겠다.\n",
    "블록체인은 파일, 이미지, 동영상을 저장하는 용도로 쓰이지 않는다.\n",
    "\n",
    "NFT는 tokenURI가 있어야 한다.\n",
    "디지털 자산에 대한 JSON 메타데이터로서, 명칭, 이미지, 설명 등을 저장한다.\n",
    "예를 들면:\n",
    "```\n",
    "{\n",
    "\t\"attributes\": [\n",
    "\t\t{\n",
    "\t\t\t\"trait_type\": \"Shape\",\n",
    "\t\t\t\"value\": \"Circle\"\n",
    "\t\t},\n",
    "\t\t{\n",
    "\t\t\t\"trait_type\": \"Mood\",\n",
    "\t\t\t\"value\": \"Sad\"\n",
    "\t\t}\n",
    "\t],\n",
    "\t\"description\": \"A sad circle.\",\n",
    "\t\"image\": \"https://i.imgur.com/Qkw9N0A.jpeg\",\n",
    "\t\"name\": \"Sad Circle\"\n",
    "}\n",
    "```"
   ]
  },
  {
   "cell_type": "markdown",
   "metadata": {},
   "source": [
    "## 2.3 IERC721\n",
    "\n",
    "IERC721는 인터페이스로서 ERC721 구현에 필요한 함수와 이벤트를 가지고 있다.\n",
    "\n",
    "### (1) 소유\n",
    "* ```function balanceOf(address owner) external view returns (uint256 balance)```\n",
    "* ```function ownerOf(uint256 tokenId) external view returns (address owner)```\n",
    "\n",
    "### (3) 이체\n",
    "* ```event Transfer(address indexed from, address indexed to, uint256 indexed tokenId)```\n",
    "* ```function safeTransferFrom(address from, address to, uint256 tokenId) external```\n",
    "* ```function safeTransferFrom(address from, address to, uint256 tokenId, bytes calldata data) external```\n",
    "* ```function transferFrom(address from,address to,uint256 tokenId) external```\n",
    "\n",
    "### (2) 허가\n",
    "* ```event Approval(address indexed owner, address indexed approved, uint256 indexed tokenId)```\n",
    "* ```event ApprovalForAll(address indexed owner, address indexed operator, bool approved)```\n",
    "* ```function approve(address to, uint256 tokenId) external;int256 tokenId) external```\n",
    "* ```function getApproved(uint256 tokenId) external view returns (address operator)```\n",
    "* ```function setApprovalForAll(address operator, bool _approved) external```\n",
    "* ```function isApprovedForAll(address owner, address operator) external view returns (bool)```"
   ]
  },
  {
   "cell_type": "markdown",
   "metadata": {},
   "source": [
    "## 2.4 ERC721\n",
    "\n",
    "Nun-Fungible 토큰 관련 표준 EIP-721에서는 ERC721 토큰을 생성할 경우 따라야 하는 표준을 정해 놓고 있다.\n",
    "물론 이더와 같은 화폐도 토큰으로 볼 수 있지만, 해당이 없다.\n",
    "여기서는 사용자가 직접 만들어서 토큰의 명칭을 붙일 수 있는 그런 Non-Fungible 토큰을 말한다.\n",
    "\n",
    "### 매핑\n",
    "\n",
    "- ```mapping(uint256 => address) private _owners``` token ID의 소유자 주소\n",
    "- ```mapping(address => uint256) private _balances``` 주소가 소유한 토큰 개수\n",
    "- ```mapping(uint256 => address) private _tokenApprovals``` token ID의 승인된주소\n",
    "- ```mapping(address => mapping(address => bool)) private _operatorApprovals``` Mapping from owner to operator approvals"
   ]
  },
  {
   "cell_type": "markdown",
   "metadata": {},
   "source": [
    "### 생성자\n",
    "\n",
    "- ```constructor(string memory name_, string memory symbol_)``` 명칭과 심볼을 생성\n",
    "\n",
    "### 명칭 및 심볼\n",
    "* ```function name() public view virtual override returns (string memory)```\n",
    "token의 명칭을 출력하는 함수이다. virtual함수라서 재정의할 수 있다.\n",
    "* ```function symbol() public view virtual override returns (string memory)```\n",
    "token의 symbol을 반환하는 함수이고, virtual함수라서 재정의할 수 있다."
   ]
  },
  {
   "cell_type": "markdown",
   "metadata": {},
   "source": [
    "### 소유 및 URI\n",
    "* ```function balanceOf(address owner) public view virtual override returns (uint256)```\n",
    "IERC721-balanceOf를 재정의한 함수이며, 동시에 virtual로 자식이 재정의하는 것이 가능하다.\n",
    "```_balances[owner]```, owner가 소유한 NFT의 갯수를 반환한다. 잔고로 착각하기 쉽다.\n",
    "\n",
    "* ```function ownerOf(uint256 tokenId) public view virtual override returns (address)```\n",
    "IERC721-ownerOf를 재정의한 함수이며, 동시에 virtual로 자식이 재정의할 수 있다.\n",
    "tokenId의 NFT를 소유한 owner 주소를 반환한다.\n",
    "\n",
    "* ```function tokenURI(uint256 tokenId) public view virtual override returns (string memory)```\n",
    "```_owners[tokenId]```, toeknId의 NFT가 저장된 URI를 반환"
   ]
  },
  {
   "cell_type": "markdown",
   "metadata": {},
   "source": [
    "### 허가\n",
    "이체를 하려면 소유권을 부여하고 나서야 비로서 이전하는 2단계로 나누어서 수행된다.\n",
    "단계 1: 즉 소유권을 이전할 수 있도록 권한을 부여하고 (```approve```), 그리고 나서\n",
    "단계 2: 소유권을 이전한다 (```transferFrom```).\n",
    "\n",
    "* ```function approve(address to, uint256 tokenId) public virtual override```\n",
    "IERC721의 approve 함수를 재정의하고, \n",
    "tokenId의 owner가 token을 to에게 양도 허용한다.\n",
    "내부 함수 ```_approve(to, tokenId)```를 호출하면, ```_tokenApprovals[tokenId] = to```로 변경한다.\n",
    "\n",
    "* ```function getApproved(uint256 tokenId) public view virtual override returns (address)```\n",
    "tokenId의 owner주소 ```_tokenApprovals[tokenId]```를 반환한다.\n",
    "* ```function setApprovalForAll(address operator, bool approved) public virtual override```\n",
    "* ```function isApprovedForAll(address owner, address operator) public view virtual override returns (bool)```"
   ]
  },
  {
   "cell_type": "markdown",
   "metadata": {},
   "source": [
    "### 이체\n",
    "* ```function transferFrom(address _from, address _to, uint256 _tokenId) external payable```\n",
    "앞의 ERC20에도 있는 함수이다. \n",
    "NFT 소유권을 이전한다. 함수호출자가 from이 아니면, 허가권을 얻고 나서 해야 한다 (```approve``` 또는 ```setApprovalForAll```). 토큰 소유자 또는 허가된 사용자가 아니면 오류가 발생한다.\n",
    "\n",
    "* ```function safeTransferFrom(address from, address to, uint256 tokenId) public virtual override```\n",
    "```safeTransferFrom()```은 to가 받을 수 있는지 확인하고 transfer하게 된다. \n",
    "받는 측이 컨트랙일 경우 ```IERC721Receiver```를 구현해서 받을 수 있게 하고, 그래야 NFT를 보냈을 때 전달되지 못하고 유실되지 않도록 안전하게 이전된다. 아래 코드에서 보듯이, 받는 측이 컨트랙이라면 \n",
    "```\n",
    "if (to.isContract()) \n",
    "    IERC721Receiver(to).onERC721Received(_msgSender(), from, tokenId, data) returns (bytes4 retval) {\n",
    "        return retval == IERC721Receiver.onERC721Received.selector;\n",
    "       }\n",
    "else return true\n",
    "```\n",
    "\n",
    "* ```function safeTransferFrom(address from, address to, uint256 tokenId, bytes data) public virtual override```\n",
    "위와 동일하지만 전달할 추가 데이터가 았는 경우에 사용한다"
   ]
  },
  {
   "cell_type": "markdown",
   "metadata": {},
   "source": [
    "### 내부함수들\n",
    "* ```function _baseURI() internal view virtual returns (string memory)```\n",
    "token URI를 설정\n",
    "\n",
    "* ```function _transfer(address from, address to, uint256 tokenId) internal virtual```\n",
    "tokenId NFT를 from에서 to로 소유권을 양도. from은 owner이거나 approved된 경우에만 가능\n",
    "\n",
    "* ```function _safeTransfer(address from,address to,uint256 tokenId,bytes memory _data) internal virtual```\n",
    "* ```function _exists(uint256 tokenId) internal view virtual returns (bool)```\n",
    "* ```function _isApprovedOrOwner(address spender, uint256 tokenId) internal view virtual returns (bool)```\n",
    "* ```function _safeMint(address to, uint256 tokenId) internal virtual```\n",
    "* ```function _safeMint(address to, uint256 tokenId, bytes memory _data) internal virtual```\n",
    "* ```function _mint(address to, uint256 tokenId) internal virtual```\n",
    "```_mint()```는 과금이 있을 경우 사용한다. _safemint()는 임의의 금액을 과금하는 함수라서 적합하지 않다.\n",
    "```function _burn(uint256 tokenId) internal virtual```\n",
    "\n",
    "* ```function _approve(address to, uint256 tokenId) internal virtual```\n",
    "* ```function _setApprovalForAll(address owner, address operator, bool approved) internal virtual```\n",
    "* ```function _beforeTokenTransfer(address from, address to, uint256 tokenId) internal virtual```\n",
    "* ```function _afterTokenTransfer(address from, address to, uint256 tokenId) internal virtual```\n",
    "* ```function _checkOnERC721Received(address from, address to, uint256 tokenId, bytes memory _data) private returns (bool)```"
   ]
  },
  {
   "cell_type": "markdown",
   "metadata": {},
   "source": [
    "## 2.5 IPFS\n",
    "\n",
    "이미지를 인터넷에 업로드하는 것도 생각해 볼 수 있다.\n",
    "Dropbox, OneDrive, Google Drive, Github\n",
    "그러나 이런 저장소에 저장을 해 놓는 것은 이미지를 위변조할 수 있다는 단점이 있다.\n",
    "경우에 따라서는 서비스가 중지되면 이미지 URL도 작동하지 않게 된다.\n",
    "\n",
    "반면에 분산저장소인 IPFS InterPlanetary File System를 사용하게 된다.\n",
    "이런 파일은 블록으로 쪼개져서, 해시값 CID Content Identifier를 가지게 된다.\n",
    "이 블록들은 피어들에게 저장되고, 머클트리로 연결된다.\n",
    "IPFS는 CID가 해시값이므로 기억하기 어렵기 마련이지만, 문자열로 기억할 수 있게 명칭을 주어 사용한다.\n",
    "HTTP와 비교하면 URL이 있어서 특정 서버에 저장, 즉 그 위치가 중요하다.\n",
    "반면에 IPFS는 내용을 해싱하고 그 해시 값이 URL에 해당한다.\n",
    "\n",
    "파일을 가져올 때는, 해시가 어디 있는지 찾는다.\n",
    "그 해시에 해당하는 내용이 저장된 피어에 접속해서, 블록들을 불러오고, 연결하고 머클트리가 변경되지 않았는지 검증하게 된다.\n",
    "\n",
    "IPFS에 NFT와 메타데이터를 저장하여 보자."
   ]
  },
  {
   "cell_type": "markdown",
   "metadata": {},
   "source": [
    "### 이미지 올리기\n",
    "\n",
    "Pinata에 파일을 직접 올리거나, API를 사용해서 올릴 수 있다. Pinata는 1G 용량은 무료로 사용할 수 있다.\n",
    "이미지는 직접 올려본다.\n",
    "그 결과 이미지의 해시를 획득할 수 있다.\n",
    "'QmZSMw1PARg1dDxaN2CoNbskraRXJo7trUsoUickrRgrTn' 해시를 url에 붙여주면:\n",
    "```https://ipfs.io/ipfs/QmZSMw1PARg1dDxaN2CoNbskraRXJo7trUsoUickrRgrTn```\n",
    "\n",
    "페이지를 로딩하려면 시간이 어느 정도 소요가 된다."
   ]
  },
  {
   "cell_type": "markdown",
   "metadata": {},
   "source": [
    "### TokenURI 올리기\n",
    "\n",
    "이번에는 API를 사용해서 올려보자.\n",
    "URI 파일을 작성해서 올려보자.\n"
   ]
  },
  {
   "cell_type": "code",
   "execution_count": 133,
   "metadata": {
    "collapsed": false
   },
   "outputs": [
    {
     "name": "stdout",
     "output_type": "stream",
     "text": [
      "Overwriting src/nftHelloUri.json\n"
     ]
    }
   ],
   "source": [
    "%%writefile src/nftHelloUri.json\n",
    "{\n",
    "    \"name\": \"Hello DApp Screens\",\n",
    "    \"description\": \"Screens to Deploy the Hello DApp\",\n",
    "    \"image\": \"https://ipfs.io/ipfs/QmZSMw1PARg1dDxaN2CoNbskraRXJo7trUsoUickrRgrTn\"\n",
    "}"
   ]
  },
  {
   "cell_type": "markdown",
   "metadata": {},
   "source": [
    "### IPFS 서비스 제공자의 API를 활용\n",
    "\n",
    "먼저 라이브러리를 설치한다.\n",
    "```\n",
    "pip install pinatapy-vourhey\n",
    "```\n",
    "\n",
    "그리고 Pinata의 API key, secret를 생성해 놓아야 한다.\n",
    "* API Key: 33a50cd2945627ce76ec\n",
    "* API Secret: 1f3be99b4a4167ad255df835d6b5303aa7cddb4e9d9f3a0fee6b0615529fee45\n",
    "\n",
    "그리고 인증 키를 사용해 서비스에 연결한다."
   ]
  },
  {
   "cell_type": "code",
   "execution_count": 134,
   "metadata": {
    "collapsed": true
   },
   "outputs": [],
   "source": [
    "from pinatapy import PinataPy\n",
    "APIKey=\"33a50cd2945627ce76ec\"\n",
    "APISecret=\"1f3be99b4a4167ad255df835d6b5303aa7cddb4e9d9f3a0fee6b0615529fee45\"\n",
    "pinata = PinataPy(APIKey, APISecret)"
   ]
  },
  {
   "cell_type": "markdown",
   "metadata": {},
   "source": [
    "파일을 다시 업로드해도 해시는 동일하다."
   ]
  },
  {
   "cell_type": "code",
   "execution_count": 135,
   "metadata": {
    "collapsed": false
   },
   "outputs": [
    {
     "name": "stdout",
     "output_type": "stream",
     "text": [
      "{'IpfsHash': 'QmbdwcmzYacLZHLBAhAsaJm2aPV1bzBjFjweD1UgZzkEtA', 'PinSize': 192, 'Timestamp': '2022-04-14T07:51:47.038Z', 'isDuplicate': True}\n"
     ]
    }
   ],
   "source": [
    "# Upload the file\n",
    "result = pinata.pin_file_to_ipfs(\"src/nftHelloUri.json\")\n",
    "# Should return the CID (unique identifier) of the file\n",
    "print(result)"
   ]
  },
  {
   "cell_type": "markdown",
   "metadata": {},
   "source": [
    "대기 중인 업로드 작업이 있는지 출력한다."
   ]
  },
  {
   "cell_type": "code",
   "execution_count": 136,
   "metadata": {
    "collapsed": false
   },
   "outputs": [
    {
     "name": "stdout",
     "output_type": "stream",
     "text": [
      "{'count': 0, 'rows': []}\n"
     ]
    }
   ],
   "source": [
    "# Anything waiting to be done?\n",
    "print(pinata.pin_jobs())"
   ]
  },
  {
   "cell_type": "code",
   "execution_count": 64,
   "metadata": {
    "collapsed": false,
    "scrolled": true
   },
   "outputs": [
    {
     "name": "stdout",
     "output_type": "stream",
     "text": [
      "{'pin_count': 2, 'pin_size_total': '148583', 'pin_size_with_replications_total': '148583'}\n"
     ]
    }
   ],
   "source": [
    "# Total data in use\n",
    "print(pinata.user_pinned_data_total())"
   ]
  },
  {
   "cell_type": "markdown",
   "metadata": {},
   "source": [
    "업로드한 파일이 몇 개인지 알아본다.\n",
    "'ipfs_pin_hash' 해시가 파일명이 된다. 즉 ```https://ipfs.io/ipfs/해시```라고 url이 완성된다."
   ]
  },
  {
   "cell_type": "code",
   "execution_count": 50,
   "metadata": {
    "collapsed": false
   },
   "outputs": [
    {
     "name": "stdout",
     "output_type": "stream",
     "text": [
      "{'count': 2, 'rows': [{'id': '07c804c5-66cf-4b79-8c63-218dad6869dc', 'ipfs_pin_hash': 'QmbdwcmzYacLZHLBAhAsaJm2aPV1bzBjFjweD1UgZzkEtA', 'size': 192, 'user_id': '7be18edd-36fd-41c9-80ad-7a950eb7e104', 'date_pinned': '2022-04-14T07:51:47.038Z', 'date_unpinned': None, 'metadata': {'name': 'nftHelloUri.json', 'keyvalues': None}, 'regions': [{'regionId': 'FRA1', 'currentReplicationCount': 1, 'desiredReplicationCount': 1}]}, {'id': '17b49567-29e1-4d12-8337-9392ed6cb323', 'ipfs_pin_hash': 'QmZSMw1PARg1dDxaN2CoNbskraRXJo7trUsoUickrRgrTn', 'size': 148391, 'user_id': '7be18edd-36fd-41c9-80ad-7a950eb7e104', 'date_pinned': '2022-04-13T20:18:36.974Z', 'date_unpinned': None, 'metadata': {'name': '6_helloWeb3DeployMining.png', 'keyvalues': None}, 'regions': [{'regionId': 'FRA1', 'currentReplicationCount': 1, 'desiredReplicationCount': 1}]}]}\n"
     ]
    }
   ],
   "source": [
    "# List of items we have pinned so far\n",
    "print(pinata.pin_list())"
   ]
  },
  {
   "cell_type": "code",
   "execution_count": 58,
   "metadata": {
    "collapsed": true
   },
   "outputs": [],
   "source": [
    "myPic=pinata.pin_list()['rows'][1]['ipfs_pin_hash']\n",
    "myMeta=pinata.pin_list()['rows'][0]['ipfs_pin_hash']"
   ]
  },
  {
   "cell_type": "code",
   "execution_count": 59,
   "metadata": {
    "collapsed": false
   },
   "outputs": [
    {
     "name": "stdout",
     "output_type": "stream",
     "text": [
      "QmZSMw1PARg1dDxaN2CoNbskraRXJo7trUsoUickrRgrTn\n",
      "QmbdwcmzYacLZHLBAhAsaJm2aPV1bzBjFjweD1UgZzkEtA\n"
     ]
    }
   ],
   "source": [
    "print(myPic)\n",
    "print(myMeta)"
   ]
  },
  {
   "cell_type": "markdown",
   "metadata": {},
   "source": [
    "해시를 이용해서 URI를 생성해 보자.\n",
    "마지막\n",
    "적힌 URL 이것이 TokenURI로 Solidity 프로그램에 적히게 된다."
   ]
  },
  {
   "cell_type": "code",
   "execution_count": 60,
   "metadata": {
    "collapsed": true
   },
   "outputs": [],
   "source": [
    "import requests\n",
    "# Get our pinned item\n",
    "#gateway=\"https://gateway.pinata.cloud/ipfs/\"\n",
    "gateway=\"https://ipfs.io/ipfs/\"\n",
    "IpfsHash=myMeta;\n",
    "myUrl=gateway+IpfsHash;"
   ]
  },
  {
   "cell_type": "code",
   "execution_count": 61,
   "metadata": {
    "collapsed": false,
    "scrolled": true
   },
   "outputs": [
    {
     "name": "stdout",
     "output_type": "stream",
     "text": [
      "https://ipfs.io/ipfs/QmbdwcmzYacLZHLBAhAsaJm2aPV1bzBjFjweD1UgZzkEtA\n"
     ]
    }
   ],
   "source": [
    "#print(requests.get(url=myUrl).text)\n",
    "print(myUrl)"
   ]
  },
  {
   "cell_type": "markdown",
   "metadata": {},
   "source": [
    "## 2.6 NFT 개발\n",
    "\n",
    "NFT는 어렵지 않게 만들 수 있다. \n",
    "NFT 표준이 정해져 있기 때문에, 심지어는 OpenZeppelin에서 제공하는 자동생성기를 사용하면 그대로 사용할 수 있다 (https://docs.openzeppelin.com/contracts/4.x/wizard)\n"
   ]
  },
  {
   "cell_type": "markdown",
   "metadata": {},
   "source": [
    "### 2.6.1 몇 줄로 완성되는 NFT\n",
    "\n",
    "아주 간단한 NFT를 제작해보자.\n",
    "제작할 때는 반드시 (1) NFT 명칭, (2) NFT 심볼, (3) tokenURI가 필요하다.\n",
    "명칭과 심볼은 명확하지만 tokenURI는 메타데이터가 저장된 url을 말한다."
   ]
  },
  {
   "cell_type": "code",
   "execution_count": 10,
   "metadata": {
    "collapsed": false
   },
   "outputs": [
    {
     "name": "stdout",
     "output_type": "stream",
     "text": [
      "Overwriting src/MyNFT.sol\n"
     ]
    }
   ],
   "source": [
    "%%writefile src/MyNFT.sol\n",
    "// SPDX-License-Identifier: MIT\n",
    "pragma solidity ^0.8.0;\n",
    "\n",
    "import \"@openzeppelin/contracts/token/ERC721/ERC721.sol\";\n",
    "//import \"https://github.com/OpenZeppelin/openzeppelin-contracts/blob/v4.4.0/contracts/token/ERC721/ERC721.sol\";\n",
    "import \"@openzeppelin/contracts/utils/Counters.sol\";\n",
    "//import \"https://github.com/OpenZeppelin/openzeppelin-contracts/blob/v4.4.0/contracts/utils/Counters.sol\";\n",
    "\n",
    "contract MyNFT is ERC721 {\n",
    "\tusing Counters for Counters.Counter;\n",
    "\tCounters.Counter private _tokenIds;\t//NFT id\n",
    "\t\n",
    "\tconstructor() ERC721(\"Hello DApp Screens\", \"JSL\") {}\n",
    "\t// override\n",
    "\t// does not save toeknURI in the state var\n",
    "\tfunction _baseURI() internal pure override returns (string memory) {\n",
    "\t\treturn \"https://ipfs.io/ipfs/QmbdwcmzYacLZHLBAhAsaJm2aPV1bzBjFjweD1UgZzkEtA\";\n",
    "\t}\n",
    "\n",
    "    function mint(address to) public returns(uint256) {\n",
    "        //require(_tokenIds.current() < 3); //only 3 to mint\n",
    "        _tokenIds.increment(); // add 1 by minting\n",
    "        uint256 newTokenId = _tokenIds.current();\n",
    "        _mint(to, newTokenId); // or _safeMint(to, newTokenId);\n",
    "\n",
    "        return newTokenId;\n",
    "    }\n",
    "}"
   ]
  },
  {
   "cell_type": "markdown",
   "metadata": {},
   "source": [
    "http 경로는 바로 인식하지 못한다.\n",
    "```@openzeppelin/```는 로컬의 경로로 재지정해준다."
   ]
  },
  {
   "cell_type": "code",
   "execution_count": 9,
   "metadata": {
    "collapsed": true
   },
   "outputs": [],
   "source": [
    "!solc-windows.exe @openzeppelin/=\"C:\\\\Users\\\\jsl\\\\Code\\\\201711111\\\\node_modules\\\\@openzeppelin\\\\\" --optimize --combined-json abi,bin src/MyNFT.sol > src/MyNFT.json"
   ]
  },
  {
   "cell_type": "markdown",
   "metadata": {},
   "source": [
    "#### OpenZeppelin ERC 721 사용하기\n",
    "\n",
    "OpenZeppelin은 ERC-721 표준을 준수하는 라이브러리를 제공하고 있다.\n",
    "이미 설치한 @OpenZeppelin을 사용한다.\n",
    "```\n",
    "import \"@openzeppelin/contracts/token/ERC721/ERC721.sol\";\n",
    "```"
   ]
  },
  {
   "cell_type": "markdown",
   "metadata": {},
   "source": [
    "#### 상속\n",
    "\n",
    "ERC721을 상속을 한다. ERC721은 OpenZeppelin에서 제공되는 컨트랙이다.\n",
    "이 컨트랙을 상속받으면, NFT를 제작하는데 필요한 작업을 상속받아서 활용할 수 있어서\n",
    "직접 코딩해야 하는 분량이 줄어들 뿐만 아니라, 앞서 설명한 바와 같이 NFT 표준을 준수하게 된다.\n",
    "```\n",
    "contract contract MyNFT is ERC721 {}\n",
    "```"
   ]
  },
  {
   "cell_type": "markdown",
   "metadata": {},
   "source": [
    "#### mint 함수\n",
    "\n",
    "```mint()``` 함수에서는 내부용 함수인 ```_mint()```를 호출하는데, 다음과 같이 (1) NFT 소유개수를 하나 증가시키고, (2) 소유권자를 할당한다.\n",
    "```\n",
    "_balances[to] += 1; 개수 증가\n",
    "_owners[tokenId] = to; _owner에 새로운 소유주를 할당한다.\n",
    "```\n",
    "```_mint()``` 함수는 ```emit Transfer(address(0), to, tokenId)```를 포함하고 있어서, 이벤트가 발생한다.\n",
    "\n",
    "\n",
    "```_safeMint()``` 함수는 ```_mint()```와 동일하지만 안전하게, 즉 ERC721Receiver를 구현해 놓아야 한다.\n",
    "\n",
    "```\n",
    "_checkOnERC721Received(address(0), to, tokenId, data),\n",
    "            \"ERC721: transfer to non ERC721Receiver implementer\"\n",
    "```"
   ]
  },
  {
   "cell_type": "markdown",
   "metadata": {},
   "source": [
    "#### TokenURI의 저장\n",
    "\n",
    "URI에는 ipfs에 저장된 메터데이터 JSON의 URL을 저장해 놓고 있어, 이를 클릭하면 컨텐츠를 출력하게 된다.\n",
    "```\n",
    "{\n",
    "  \"name\": \"Basic NFT\",\n",
    "  \"description\": \"Basic NFT tutorial by @lilcoderman\",\n",
    "  \"image\": \"https://ipfs.io/ipfs/bafkreid5vd3sw2wwj2uagm22nomnktbhgl2qqcgksgxvu7xfwwbxtxecly\"\n",
    "}\n",
    "```\n",
    "\n",
    "이를 위해서, ```_baseURI()```를 구현해 놓는다.\n",
    "위 코드에서 보듯이 ```_baseURI()``` 함수는 상속을 받아서 재정의 해놓으면, ```tokenURI(tokenId)```에서 호출되고 URI를 출력할 수 있다.\n",
    "```\n",
    "function tokenURI(uint256 tokenId) public view virtual override returns (string memory) {\n",
    "    require(_exists(tokenId), \"ERC721Metadata: URI query for nonexistent token\");\n",
    "    string memory baseURI = _baseURI();\n",
    "    return bytes(baseURI).length > 0 ? string(abi.encodePacked(baseURI, tokenId.toString())) : \"\";\n",
    "}\n",
    "```\n",
    "\n",
    "그러니까 NFT는 단순히 말하면, 메타데이터가 저장된 URL로 나타내는 것이며, 일련번호가 사용자에게 부여되는 것이다."
   ]
  },
  {
   "cell_type": "markdown",
   "metadata": {},
   "source": [
    "### 2.6.2 URI를 저장하는 코드\n",
    "\n",
    "ERC721URIStorage는 ERI721를 확장하여 URI를 저장하고 있다.\n",
    "```\n",
    "abstract contract ERC721URIStorage is ERC721 {\n",
    "    using Strings for uint256;\n",
    "    mapping(uint256 => string) private _tokenURIs;\n",
    "    function tokenURI(uint256 tokenId) public view virtual override returns (string memory)\n",
    "    function _setTokenURI(uint256 tokenId, string memory _tokenURI) internal virtual\n",
    "    function _burn(uint256 tokenId) internal virtual override\n",
    "}\n",
    "```\n",
    "\n",
    "ERC721은 tokenURI를 저장하지 않지만, 여기서는 이를 실제 저장하고 있다.\n",
    "**ERC721.sol에서는 baseURI를 상태변수에 저장하지 않고 메모리에서 읽도록** 하고 있는 것과 대비된다.\n",
    "\n",
    "ERC721URIStorage는 tokenURI를 ```mapping(uint256 => string) private _tokenURIs```에 저장한다."
   ]
  },
  {
   "cell_type": "markdown",
   "metadata": {},
   "source": [
    "#### contract ... is ERC721, ERC721URIStorage 오류\n",
    "\n",
    "이렇게 하면 'override' 오류가 발생한다.\n",
    "따라서 아래 예와 같이, ```ERC721URIStorage```만 상속을 받도록 한다.\n",
    "그러면 ```ERC721URIStorage```가 ```ERC721```을 상속받았기 때문에 오류없이 재정의할 수 있다."
   ]
  },
  {
   "cell_type": "code",
   "execution_count": 13,
   "metadata": {
    "collapsed": false
   },
   "outputs": [
    {
     "name": "stdout",
     "output_type": "stream",
     "text": [
      "Writing src/MyNFTuri.sol\n"
     ]
    }
   ],
   "source": [
    "%%writefile src/MyNFTuri.sol\n",
    "// SPDX-License-Identifier: MIT\n",
    "pragma solidity ^0.8.0;\n",
    "\n",
    "import \"@openzeppelin/contracts/token/ERC721/extensions/ERC721URIStorage.sol\";\n",
    "//import \"https://github.com/OpenZeppelin/openzeppelin-contracts/blob/v4.4.0/contracts/token/ERC721/extensions/ERC721URIStorage.sol\";\n",
    "import \"@openzeppelin/contracts/utils/Counters.sol\";\n",
    "//import \"https://github.com/OpenZeppelin/openzeppelin-contracts/blob/v4.4.0/contracts/utils/Counters.sol\";\n",
    "\n",
    "contract MyNFT is ERC721URIStorage {\n",
    "    using Counters for Counters.Counter;\n",
    "    Counters.Counter private _tokenIds;\t//NFT id\n",
    "\n",
    "    constructor() ERC721(\"MyNFT\", \"JSL\") {}\n",
    "\n",
    "    function mint(address to, string memory tokenURI) public returns(uint256) {\n",
    "        _tokenIds.increment(); // add 1 by minting\n",
    "        uint256 newTokenId = _tokenIds.current();\n",
    "        _mint(to, newTokenId); // or _safeMint(to, newTokenId);\n",
    "        _setTokenURI(newTokenId, tokenURI); // need to import ERC721URIStorage\n",
    "\n",
    "        return newTokenId;\n",
    "  }\n",
    "}"
   ]
  },
  {
   "cell_type": "code",
   "execution_count": 10,
   "metadata": {
    "collapsed": true
   },
   "outputs": [],
   "source": [
    "!solc-windows.exe @openzeppelin/=\"C:\\\\Users\\\\jsl\\\\Code\\\\201711111\\\\node_modules\\\\@openzeppelin\\\\\" --optimize --combined-json abi,bin src/MyNFTuri.sol > src/MyNFTuri.json"
   ]
  },
  {
   "cell_type": "markdown",
   "metadata": {},
   "source": [
    "## 2.6.3 Ownable 추가한 코드\n",
    "\n",
    "### 토큰의 소유권\n",
    "ERC721에서는 ```_owners```를 설정하였고, ```tokenId``` 소유자를 의미한다.\n",
    "mint하면서 ```_owners```가 다음과 같이 정의된다.\n",
    "```\n",
    "mapping(uint256 => address) private _owners;\n",
    "```\n",
    "\n",
    "반면에 Ownable에서 설정하는 Owner는 ```msg.sender```, 즉 컨트랙을 생성하는 최초의 컨트랙 소유주를 말한다.\n",
    "```\n",
    "address public owner;\n",
    "```\n",
    "\n",
    "이 Owner의 소유권을 설정하고, 이전하는 기능을 제공한다.\n",
    "\n",
    "### onlyOwner\n",
    "상속을 통해서 구현을 하면 modifier onlyOwner라는 수식어를 사용할 수 있게 된다.\n",
    "피상속을 받으면 함수를 구현하면서 onlyOwner라는 수식어를 붙여 소유권을 제한할 수 있게 된다.\n",
    "\n",
    "getOwner() 함수는 Owner를 반환한다.\n",
    "주의할 점은 Owner를 설정하지 않았는데도 불구하고 그 값을 알 수 있다.\n",
    "Ownable에서 그 값을 가지고 있기 때문이다.\n",
    "\n",
    "### transferToPay\n",
    "\n",
    "ERC721에 정의된 ```_exists()``` 함수는 tokenId에 해당하는 소유자가 있는지 확인하는 함수이다.\n",
    "```\n",
    "function _exists(uint256 tokenId) internal view virtual returns (bool) {\n",
    "    return _owners[tokenId] != address(0);\n",
    "}\n",
    "```\n"
   ]
  },
  {
   "cell_type": "code",
   "execution_count": 166,
   "metadata": {
    "collapsed": false
   },
   "outputs": [
    {
     "name": "stdout",
     "output_type": "stream",
     "text": [
      "Overwriting src/MyNFTUriOwner.sol\n"
     ]
    }
   ],
   "source": [
    "%%writefile src/MyNFTUriOwner.sol\n",
    "// SPDX-License-Identifier: MIT\n",
    "pragma solidity ^0.8.0;\n",
    "\n",
    "import \"@openzeppelin/contracts/token/ERC721/extensions/ERC721URIStorage.sol\";\n",
    "//import \"https://github.com/OpenZeppelin/openzeppelin-contracts/blob/v4.4.0/contracts/token/ERC721/extensions/ERC721URIStorage.sol\";\n",
    "import \"@openzeppelin/contracts/utils/Counters.sol\";\n",
    "//import \"https://github.com/OpenZeppelin/openzeppelin-contracts/blob/v4.4.0/contracts/utils/Counters.sol\";\n",
    "import \"@openzeppelin/contracts/access/Ownable.sol\";\n",
    "//import \"https://github.com/nibbstack/erc721/blob/2.6.1/src/contracts/ownership/ownable.sol\";\n",
    "\n",
    "//Ownable added: minToPay, transferToPay\n",
    "contract MyNFTUriOwner is ERC721URIStorage, Ownable {\n",
    "\tusing Counters for Counters.Counter;\n",
    "\tCounters.Counter private _tokenIds;\t//NFT id\n",
    "\n",
    "    mapping(uint256 => uint256) public tranPrice;\n",
    "\n",
    "    // from, to, tokenId, tokenURI, tranPrice\n",
    "    event Transfer(address from, address to, uint256 _tokenId,\n",
    "        string tokenURI, uint256 tranPrice);\n",
    "\n",
    "\tconstructor() ERC721(\"MyNFT\", \"JSL\") {}\n",
    "\n",
    "\tfunction mint(address to, string memory tokenURI) public returns(uint256) {\n",
    "        _tokenIds.increment(); // add 1 by minting\n",
    "        uint256 newTokenId = _tokenIds.current();\n",
    "        _mint(to, newTokenId); // or _safeMint(to, newTokenId);\n",
    "        _setTokenURI(newTokenId, tokenURI); // need to import ERC721URIStorage\n",
    "\n",
    "        return newTokenId;\n",
    "    }\n",
    "\tfunction mintToPay(address to, string memory tokenURI, uint256 _price)\n",
    "    public payable onlyOwner returns(uint256) {\n",
    "        uint256 newTokenId = mint(to, tokenURI);\n",
    "        require(msg.value == _price, \"Not Enough Ether\");\n",
    "        tranPrice[newTokenId] = _price;\n",
    "\n",
    "        return newTokenId;\n",
    "    }\n",
    "\n",
    "    function getOwner() view public returns(address) {\n",
    "        return owner();  //function of the Ownerable contract\n",
    "    }\n",
    "\n",
    "    // msg.value transferred to this contract!!\n",
    "    function transferToPay(address from, address to, uint256 _tokenId) public payable {\n",
    "        require(_exists(_tokenId), \"Error: TokenId not owned\");\n",
    "        require(msg.value >= tranPrice[_tokenId], \"Error: Token costs more\");\n",
    "        _transfer(from, to, _tokenId);\n",
    "        emit Transfer(from, to, _tokenId, tokenURI(_tokenId), tranPrice[_tokenId]);\n",
    "    }\n",
    "}\n"
   ]
  },
  {
   "cell_type": "code",
   "execution_count": 167,
   "metadata": {
    "collapsed": true
   },
   "outputs": [],
   "source": [
    "!solc-windows.exe @openzeppelin/=\"C:\\\\Users\\\\jsl\\\\Code\\\\201711111\\\\node_modules\\\\@openzeppelin\\\\\" --optimize --combined-json abi,bin src/MyNFTUriOwner.sol > src/MyNFTUriOwner.json"
   ]
  },
  {
   "cell_type": "markdown",
   "metadata": {},
   "source": [
    "## 단계 3: 배포\n",
    "\n",
    "우선 로컬에 배포하고 나중에 공중망으로 해보자.\n",
    "13개 파일이 배포되고 있으니, 12번째 ```'src/MyNFTUriOwner.sol:MyNFTUriOwner'``` 이다.\n"
   ]
  },
  {
   "cell_type": "code",
   "execution_count": 12,
   "metadata": {
    "collapsed": false
   },
   "outputs": [
    {
     "name": "stdout",
     "output_type": "stream",
     "text": [
      "Overwriting src/MyNFTUriOwnerDeploy.js\n"
     ]
    }
   ],
   "source": [
    "%%writefile src/MyNFTUriOwnerDeploy.js\n",
    "var Web3 = require('web3');\n",
    "var _abiBinJson = require('./MyNFTUriOwner.json');      //importing a javascript file\n",
    "\n",
    "var web3 = new Web3(new Web3.providers.HttpProvider(\"http://localhost:8345\"));\n",
    "\n",
    "contractName=Object.keys(_abiBinJson.contracts);\n",
    "//console.log(contractName);\n",
    "console.log(contractName[12]);"
   ]
  },
  {
   "cell_type": "code",
   "execution_count": 13,
   "metadata": {
    "collapsed": false
   },
   "outputs": [
    {
     "name": "stdout",
     "output_type": "stream",
     "text": [
      "src/MyNFTUriOwner.sol:MyNFTUriOwner\n"
     ]
    }
   ],
   "source": [
    "!node src/MyNFTUriOwnerDeploy.js"
   ]
  },
  {
   "cell_type": "markdown",
   "metadata": {},
   "source": [
    "!type src\\MyNFTUriOwner.json"
   ]
  },
  {
   "cell_type": "markdown",
   "metadata": {},
   "source": [
    "생정자에서 명칭과 Symbol은 이미 적어 놓았기 때문에, 별도로 설정하지 않고 있다.\n",
    "REMIX에서 해보면, gas가 상당히 필요하다는 것을 알 수 있다.\n",
    "1700000으로 해도 gas limit 오류가 발생하고 있다."
   ]
  },
  {
   "cell_type": "code",
   "execution_count": 168,
   "metadata": {
    "collapsed": false
   },
   "outputs": [
    {
     "name": "stdout",
     "output_type": "stream",
     "text": [
      "Overwriting src/MyNFTUriOwnerDeploy.js\n"
     ]
    }
   ],
   "source": [
    "%%writefile src/MyNFTUriOwnerDeploy.js\n",
    "var Web3 = require('web3');\n",
    "var _abiBinJson = require('./MyNFTUriOwner.json');      //importing a javascript file\n",
    "\n",
    "var web3 = new Web3(new Web3.providers.HttpProvider(\"http://localhost:8345\"));\n",
    "\n",
    "contractName=Object.keys(_abiBinJson.contracts);\n",
    "//console.log(contractName);\n",
    "console.log(\"- contract name: \", contractName[12]);\n",
    "_abiArray=_abiBinJson.contracts[contractName[12]].abi;\n",
    "//_abiArray=JSON.parse(JSON.stringify(_abi));\n",
    "//_abiArray=JSON.parse(_abi);      //JSON parsing needed!! //SyntaxError: Unexpected token o in JSON at position 1\n",
    "_bin=\"0x\"+_abiBinJson.contracts[contractName[12]].bin;\n",
    "\n",
    "//console.log(\"- ABI: \" + _abiArray);\n",
    "//console.log(\"- Bytecode: \" + _bin);\n",
    "\n",
    "async function deploy() {\n",
    "    const accounts = await web3.eth.getAccounts();\n",
    "    console.log(\"Deploying the contract from \" + accounts[0]);\n",
    "    var deployed = await new web3.eth.Contract(_abiArray)\n",
    "        .deploy({data: _bin})\n",
    "        .send({from: accounts[0], gas: 1800000}, function(err, transactionHash) {\n",
    "                if(!err) console.log(\"hash: \" + transactionHash); \n",
    "        })\n",
    "        //.then(function(newContractInstance){\n",
    "        //    console.log(newContractInstance)\n",
    "        //});\n",
    "    console.log(\"---> The contract deployed to: \" + deployed.options.address)\n",
    "}\n",
    "deploy()"
   ]
  },
  {
   "cell_type": "code",
   "execution_count": 172,
   "metadata": {
    "collapsed": false
   },
   "outputs": [
    {
     "name": "stdout",
     "output_type": "stream",
     "text": [
      "- contract name:  src/MyNFTUriOwner.sol:MyNFTUriOwner\n",
      "Deploying the contract from 0x24f6A17559eC4c8c5aF91c8803ee0f9c048655eC\n",
      "hash: 0xf40067d71f9610a1bf4f8d983bc57bdf79ff1cdbb9128106e77d3750b1a94d77\n",
      "---> The contract deployed to: 0xfBa6d072B33A50F25D69c522500C0643668d9C7c\n"
     ]
    }
   ],
   "source": [
    "!node src/MyNFTUriOwnerDeploy.js"
   ]
  },
  {
   "cell_type": "markdown",
   "metadata": {},
   "source": [
    "## 단계 4: 사용\n"
   ]
  },
  {
   "cell_type": "code",
   "execution_count": 173,
   "metadata": {
    "collapsed": false
   },
   "outputs": [
    {
     "name": "stdout",
     "output_type": "stream",
     "text": [
      "Overwriting src/MyNFTUriOwnerUse.js\n"
     ]
    }
   ],
   "source": [
    "%%writefile src/MyNFTUriOwnerUse.js\n",
    "var Web3=require('web3');\n",
    "var _abiBinJson = require('./MyNFTUriOwner.json');      //importing a javascript file\n",
    "\n",
    "var web3 = new Web3(new Web3.providers.HttpProvider(\"http://localhost:8345\"));\n",
    "//var web3 = new Web3(new Web3.providers.WebsocketProvider(\"ws://localhost:8345\"));\n",
    "contractName=Object.keys(_abiBinJson.contracts);\n",
    "console.log(\"- contract name: \", contractName[12]);\n",
    "_abiArray=_abiBinJson.contracts[contractName[12]].abi;\n",
    "//_abiArray=JSON.parse(JSON.stringify(_abi));\n",
    "//_abiArray=JSON.parse(_abi);      //JSON parsing needed!! //SyntaxError: Unexpected token o in JSON at position 1\n",
    "_bin=\"0x\"+_abiBinJson.contracts[contractName[12]].bin;\n",
    "var _nft = new web3.eth.Contract(_abiArray,\"0xfBa6d072B33A50F25D69c522500C0643668d9C7c\");\n",
    "var event = _nft.events.Transfer({fromBlock: 0}, function (error, result) {\n",
    "    if (!error) {\n",
    "        console.log(\"Event fired: \" + JSON.stringify(result.returnValues));\n",
    "    }\n",
    "});\n",
    "\n",
    "\n",
    "async function doIt() {\n",
    "    const accounts = await web3.eth.getAccounts();\n",
    "    console.log(\"(0) Account: \" + accounts[0]);\n",
    "    var owner = await _nft.methods.getOwner().call();\n",
    "    console.log(\"(1) owner: \"+owner);\n",
    "    console.log(\"(2) name: \"+await _nft.methods.name().call());\n",
    "    console.log(\"(3) symbol: \"+await _nft.methods.symbol().call());\n",
    "    var addrTo = accounts[1];\n",
    "    var uri = \"https://ipfs.io/ipfs/QmbdwcmzYacLZHLBAhAsaJm2aPV1bzBjFjweD1UgZzkEtA\";\n",
    "    //var uri = \"https://ipfs.io/ipfs/QmZSMw1PARg1dDxaN2CoNbskraRXJo7trUsoUickrRgrTn\";\n",
    "    await _nft.methods.mint(addrTo,uri).send({from: accounts[0], gas: 1000000});\n",
    "    var _tid = 1;\n",
    "    console.log(\"(4) balanceOf \"+owner+\": \"+await _nft.methods.balanceOf(owner).call());    \n",
    "    console.log(\"(5) balanceOf \"+addrTo+\": \"+await _nft.methods.balanceOf(addrTo).call());\n",
    "    console.log(\"(6) ownerOf tokenId \"+_tid+\": \"+await _nft.methods.ownerOf(_tid).call());\n",
    "    //transfer from addrTo back to owner\n",
    "    //console.log(\"(7) Who gets approved: \"+await _nft.methods.getApproved(_tid).call());\n",
    "    //await _nft.methods.approve(addrTo, _tid).send({from: owner, gas: 1000000});\n",
    "    //console.log(\"(8) Who gets approved after calling approve: \"+await _nft.methods.getApproved(_tid).call());\n",
    "    await _nft.methods.transferFrom(addrTo, owner, _tid).send({from: addrTo, gas: 1000000});\n",
    "    console.log(\"(9) balanceOf \"+owner+\": \"+await _nft.methods.balanceOf(owner).call());    \n",
    "    console.log(\"(10) balanceOf \"+addrTo+\": \"+await _nft.methods.balanceOf(addrTo).call());\n",
    "    console.log(\"(11) ownerOf after transferred: \"+await _nft.methods.ownerOf(_tid).call());\n",
    "    //process.exit(1); //force exit\n",
    "}\n",
    "doIt()"
   ]
  },
  {
   "cell_type": "markdown",
   "metadata": {},
   "source": [
    "* (1~3)에서는 이름, symbol, owner를 출력하고 있다. getOwner()는 소유자를 확인하는 함수로 owner()와 동일한 기능이다.\n",
    "* mint에 주소, uri\n",
    "\t\"address to\": \"0x4B20993Bc481177ec7E8f571ceCaE8A9e22C02db\",\n",
    "\t\"string tokenURI\": \"https://ipfs.io/ipfs/QmbdwcmzYacLZHLBAhAsaJm2aPV1bzBjFjweD1UgZzkEtA\"\n",
    "* balanceOf 주소를 넣으면 가지고 있는 NFT 갯수, 처음에는 당연히 0이 출력된다.\n",
    "0x4B20993Bc481177ec7E8f571ceCaE8A9e22C02db는 2출력\n",
    "*  ownerOf tokenId의 owner주소\n",
    "앞서 balanceOf에 입력한 수를 넣으면 주소가 출력\n",
    "* transfer함수는 token 소유자가 다른 주소에게 소유권을 이전하는 함수이다. 다른 사람이 하려면 approve로 그 허가권을 획득해야 가능하다.\n",
    "* transfer 후의 토큰의 개수가 변동했는지 확인하고 있다."
   ]
  },
  {
   "cell_type": "code",
   "execution_count": 174,
   "metadata": {
    "collapsed": false
   },
   "outputs": [
    {
     "name": "stdout",
     "output_type": "stream",
     "text": [
      "- contract name:  src/MyNFTUriOwner.sol:MyNFTUriOwner\n",
      "(0) Account: 0x24f6A17559eC4c8c5aF91c8803ee0f9c048655eC\n",
      "(1) owner: 0x24f6A17559eC4c8c5aF91c8803ee0f9c048655eC\n",
      "(2) name: MyNFT\n",
      "(3) symbol: JSL\n",
      "(4) balanceOf 0x24f6A17559eC4c8c5aF91c8803ee0f9c048655eC: 0\n",
      "(5) balanceOf 0x96e727549CDf2e524a4A1EBb6bD35B2d9BF36c02: 1\n",
      "(6) ownerOf tokenId 1: 0x96e727549CDf2e524a4A1EBb6bD35B2d9BF36c02\n",
      "(9) balanceOf 0x24f6A17559eC4c8c5aF91c8803ee0f9c048655eC: 1\n",
      "(10) balanceOf 0x96e727549CDf2e524a4A1EBb6bD35B2d9BF36c02: 0\n",
      "(11) ownerOf after transferred: 0x24f6A17559eC4c8c5aF91c8803ee0f9c048655eC\n"
     ]
    }
   ],
   "source": [
    "!node src/MyNFTUriOwnerUse.js"
   ]
  },
  {
   "cell_type": "markdown",
   "metadata": {},
   "source": [
    "## 2.7 NFT를 공중망에 배포해보자\n",
    "\n",
    "### 직접 공중망에 연결\n",
    "\n",
    "공중망에 배포하려면, 자신이 geth 단말에서 직접 연결해야 한다.\n",
    "앞서 해보았던 것과 같이, ```geth --testnet```으로 테스트망에 연결하여 배포하는 것이다."
   ]
  },
  {
   "cell_type": "markdown",
   "metadata": {},
   "source": [
    "### 암호지갑을 통해서 공중망에 연결\n",
    "\n",
    "암호지갑 MetaMask에 연결해서 배포할 수 있다.\n",
    "그렇게 하면 REMIX에서 메타마스크에 연결한 후 (Injected Web3), 내가 가진 키를 읽어낼 수 있게 된다.\n",
    "이 때 REMIX를 https가 아니라 http로 사용해야 한다.\n",
    "\n",
    "절차를 하나씩 나열해 보면:\n",
    "- MetaMask에서 Ropsten 선택\n",
    "- MetaMask에 Ropsten 계정이 없으면 생성을 선택하고, 키를 복사해 놓는다\n",
    "- 충전을 한다. 충전서비스를 연결해서 faucet.metamask.io에서 복사해 놓은 키를 붙여넣기 하고 충전을 대기한다.\n",
    "faucet.ropsten.be는 10초에 0.3 Ether를 흘려보내고 있다. 보통 많은 사용자가 대기하고 있어 시간이 걸린다.\n",
    "- REMIX에 가서 ```Injected Web3```를 선택하면 MetaMask와 연결하는 팝업 창이 뜬다.\n",
    "연결하고 나면 좌상단에 \"연결됨\"이 뜬다."
   ]
  },
  {
   "cell_type": "markdown",
   "metadata": {},
   "source": [
    "### 제 3자 서비스 infura 에 연결\n",
    "\n",
    "지금까지 우리가 해왔던 방식으로 스크립트를 작성해서 배포하려면, \n",
    "제3자 서비스 infura, QuickNode, Alchemy 등을 이용하면 된다.\n",
    "URL만 적어주면 별도의 작업없이 쉽게 연결된다.\n",
    "\n",
    "웹브라우저에서는 브라우저 확장앱인 MetaMask에서 직접 읽어올 수 있지만, 노드에서는 그렇게 하지 못한다.\n",
    "따라서 제3자 서비스제공자에서 키를 읽어올 수 없으므로 키를 하드코딩해야 한다.\n",
    "\n",
    "Infura는 블록체인 노드 provider이고,블록체인과 IPFS에 대한 API를 제공한다.\n",
    "Web3 서비스를 제공한다.\n",
    "Infura를 사용하지 않으면, 자신의 컴퓨터에 블록체인을 항상 동기화 해야 하는데,\n",
    "시간이 오래 걸릴 뿐만 아니라, 컴퓨터에 부하가 걸릴 수 있다.\n"
   ]
  },
  {
   "cell_type": "code",
   "execution_count": null,
   "metadata": {
    "collapsed": true
   },
   "outputs": [],
   "source": [
    "Infura (https://infura.io) 에 접속한 후, 먼저 회원가입을 해야 합니다.\n",
    "아무 프로젝트도 없는 상태입니다. 그러면 새 프로젝트를 만들어보도록 하겠습니다.\n",
    "TEST라는 이름의 프로젝트를 만들었더니 바로 API KEY가 생성되었습니다.\n",
    "\n",
    "infura에 로그인해서 자신의 ```PROJECT SETTINGS```를 열어보면,\n",
    "PROJECT ID와 PROJECT SECRET를 발견할 수 있다.\n",
    "그 우측에 보면 curl 명령어로 자신의 네트워크에 대해 블록번호를 테스트해볼 수 있다.\n",
    "\n",
    "```\n",
    "jsl@DESKTOP-KM2DH32:~$ curl https://mainnet.infura.io/v3/65b8df8bc3e84ae29d55984be7dc1d11 \\\n",
    "-X POST \\\n",
    "-H \"Content-Type: application/json\" \\\n",
    "-d '{\"jsonrpc\":\"2.0\",\"method\":\"eth_blockNumber\",\"params\":[],\"id\":1}'\n",
    "\n",
    "{\"jsonrpc\":\"2.0\",\"id\":1,\"result\":\"0xe2bbe1\"} //블록번호를 출력한다.\n",
    "```\n",
    "\n",
    "-X | 함수 종류를 적는다. 예제에서는 POST 함수라는 의미.\n",
    "-H | 헤더를 적는다. 예제에서는 Content-Type이 JSON 형식이라는 의미.\n",
    "-d | 전송될 데이터를 적는다. 예제에서는 JSON형식으로 적는다. \n"
   ]
  },
  {
   "cell_type": "code",
   "execution_count": null,
   "metadata": {
    "collapsed": true
   },
   "outputs": [],
   "source": [
    "let Web3 = require('web3');\n",
    "\n",
    "let web3 = new Web3(new Web3.providers.HttpProvider('https://ropsten.infura.io')); // ropsten 네트워크로 연결\n",
    "// let web3 = new Web3(new Web3.providers.HttpProvider('https://mainnet.infura.io')); // main 네트워크로 연결\n",
    "// let web3 = new Web3(Web3.currentProvider); // 현재 브라우저에서 연결된 네트워크로 연결\n",
    "\n",
    "web3.eth.getBalance('0xe368c237C7A9420E55a942E5eED8c05d6836ce37', (err, data)=> {\n",
    "    console.log(err)\n",
    "    console.log(data)\n",
    "})"
   ]
  },
  {
   "cell_type": "code",
   "execution_count": 164,
   "metadata": {
    "collapsed": false
   },
   "outputs": [
    {
     "name": "stdout",
     "output_type": "stream",
     "text": [
      "Overwriting scripts/testRopsten.js\n"
     ]
    }
   ],
   "source": [
    "%%writefile scripts/testRopsten.js\n",
    "var Web3=require('web3');\n",
    "\n",
    "//var web3 = new Web3(new Web3.providers.HttpProvider(\"http://localhost:8345\"));\n",
    "var web3 = new Web3(new Web3.providers.HttpProvider('https://ropsten.infura.io/v3/65b8df8bc3e84ae29d55984be7dc1d11')); // ropsten\n",
    "// var web3 = new Web3(new Web3.providers.HttpProvider('https://mainnet.infura.io')); // main\n",
    "\n",
    "async function doIt() {\n",
    "    console.log(\"Account: \" + await web3.eth.getAccounts()); //empty\n",
    "    //console.log(\"request Account: \" + await web3.eth.requestAccounts()); --> Error reading accounts\n",
    "    console.log(\"Balance E1931: \" + await web3.eth.getBalance(\"0xE1931BF7ec2EcBD176C9b1852b64753878A316c5\"));\n",
    "    console.log(\"Balance 591c8: \" + await web3.eth.getBalance(\"0x591c86219c77B0Be11a0D57D42DaB6915E2E6f92\"));\n",
    "    console.log(\"block number: \"+await web3.eth.getBlockNumber());\n",
    "}\n",
    "\n",
    "doIt()"
   ]
  },
  {
   "cell_type": "markdown",
   "metadata": {},
   "source": [
    "Infura는 API만을 제공하기 때문에, 계정은 없고 따라서 아무 것도 출력하지 않고 있다.\n",
    "infura에 연결한 후, 계정의 잔고를 출력하고 있다."
   ]
  },
  {
   "cell_type": "code",
   "execution_count": 4,
   "metadata": {
    "collapsed": false,
    "scrolled": true
   },
   "outputs": [
    {
     "name": "stdout",
     "output_type": "stream",
     "text": [
      "Account: \n",
      "Balance E1931: 1000000000000000000\n",
      "Balance 591c8: 3000000000000000000\n",
      "block number: 12376559\n"
     ]
    }
   ],
   "source": [
    "!node scripts/testRopsten.js"
   ]
  },
  {
   "cell_type": "markdown",
   "metadata": {},
   "source": [
    "## 2.8 나의 NFT를 판매해 보자\n",
    "\n",
    "NFT를 제작하고 나서 이대로 끝내기에는 뭔가 미진하다.\n",
    "자신이 만든 NFT를 판매해보자.\n",
    "\n",
    "### 마켓플레이스\n",
    "다음과 같은 사이트에서는 온라인에서 NFT를 사고 팔 수 있는 장터가 제공되고 있다.\n",
    "버튼 클릭 몇 번만 하면 간단하게 NFT를 제작할 수 있기도 하다.\n",
    "현재 전 세계 NFT 80% 이상이 거래되고 있는 곳은 2017년 12월 데빈 핀저와 알렉스 아탈라가 미국 샌프란시스코에 설립한 '오픈씨'이다.\n",
    "- Opensea: 디지털 아이템이나 암호화된 수집품 등을 사고 팔 수 있는 마켓플레이스\n",
    "- Rarible: 블록체인을 통해 디지털 소장품을 만들어 사고 팔 수 있는 마켓플레이스\n",
    "- Async: 예술 작품을 토큰화하여 사고 팔 수 있는 마켓플레이스\n",
    "- Mintable: 블록체인 아이템을 사고 팔 수 있는 마켓플레이스\n",
    "- SuperRare: 개별 디지털 예술품을 소장하고 거래할 수 있는 마켓플레이스\n",
    "\n",
    "국내에서는 가상 자산 거래소인 업비트·빗썸·코인원·코빗 모두 NFT 시장 기능을 제공하고 있다.\n",
    "뿐만 아니라 카카오, 네이버, 게임사 위메이드, 카카오게임즈, 크래프톤, 컴투스홀딩스 등 게임사들도 'P2E(돈을 벌 수 있는 게임)'시장을 겨냥해 NFT 거래소 구축에 나섰다.\n",
    "다만 해외 거래소에서는 누구나 자신의 디지털자산을 NFT로 발행할 수 있지만 국내 거래소에서는 창작자로서 자격을 부여받는 등의 인증이 필요하다."
   ]
  },
  {
   "cell_type": "markdown",
   "metadata": {},
   "source": [
    "### 자신의 ERC721 등록\n",
    "\n",
    "Rinkeby 테스트망에 배포하면 etherscan에서 볼 수 있다.\n",
    "오픈씨에서도 확인할 수 있다 (https://testnets.opensea.io/)\n",
    "\n",
    "ERC721을 이더리움 메인넷에 배포하면, 바로 오픈씨에서 매매가능하다 (https://opensea.io/get-listed).\n",
    "\n",
    "ERC721을 작성해서 공중망에 배포하면, 바로 NFT시장에서는 신규토큰의 생성 이벤트의 발생을 금세 알아챈다.\n",
    "이 이벤트는 로그를 모니터링하면 알게 된다. 그 로그는 누구나 볼 수 있기 때문에 오픈씨에서는 NFT의 소유자 주소, 토큰번호 등을 알게 된다. \n",
    "ERC721이 공중망에 배포되면 오픈시이든지 Rarible이든지 알게 되는 이치이다."
   ]
  },
  {
   "cell_type": "markdown",
   "metadata": {},
   "source": [
    "### 코드 없이 등록\n",
    "\n",
    "온라인 제작 사이트를 활용하면, 코딩을 하지 않고도 NFT를 제작할 수 있다.\n",
    "우선 오픈씨 사이트(https://opensea.io/)에 로그인하고 접속한다.\n",
    "\n",
    "NFT를 생성하기 위해서는 반드시 지갑을 연동해야 한다. 여기서는 메타마스크로 연결하여, mainnet에 개설된 자신의 주소를 선택한다.\n",
    "\n",
    "자신의 지갑에 연결되면, 그 다음부터는 간단하다. 상품을 등록해보자.\n",
    "파일 형식은 JPG, PNG, GIF, MP4, WAV 등이며, 최대 업로드 가능한 크기는 100MB다.\n",
    "상품을 등록할 때 거래건별 2.5%의 수수료가 발생한다.\n",
    "판매자는 등록된 상품에 대해 서비스 수수료 2.5%를 제외한 금액을 받는다."
   ]
  },
  {
   "cell_type": "markdown",
   "metadata": {},
   "source": [
    "## 연습문제: ERC20\n",
    "\n",
    "ERC20 토큰을 판매하는 기능을 구현해보자."
   ]
  },
  {
   "cell_type": "markdown",
   "metadata": {},
   "source": [
    "## 연습문제 NFT\n",
    "\n",
    "사직을 촬영하고 NFT로 제작하세요."
   ]
  }
 ],
 "metadata": {
  "celltoolbar": "Slideshow",
  "kernelspec": {
   "display_name": "Python 3",
   "language": "python",
   "name": "python3"
  },
  "language_info": {
   "codemirror_mode": {
    "name": "ipython",
    "version": 3
   },
   "file_extension": ".py",
   "mimetype": "text/x-python",
   "name": "python",
   "nbconvert_exporter": "python",
   "pygments_lexer": "ipython3",
   "version": "3.6.9"
  }
 },
 "nbformat": 4,
 "nbformat_minor": 1
}
