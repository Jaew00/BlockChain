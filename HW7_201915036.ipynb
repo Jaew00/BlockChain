{
 "cells": [
  {
   "cell_type": "markdown",
   "id": "f1c3c0d5",
   "metadata": {},
   "source": [
    "# 12주차"
   ]
  },
  {
   "cell_type": "markdown",
   "id": "a8184805",
   "metadata": {},
   "source": [
    "블록체인에서 주문을 하고, 그 주문내역을 로컬 파일에 작성하세요.\n",
    "\n",
    "블록체인으로 주문이 전송되면 이벤트가 발생하도록 프로그램하고, 주문내역은 로컬파일에 저장됩니다.\n",
    "\n",
    "* 강의자료 OrderEvent.sol을 참조해서 구현하세요.\n",
    "\n",
    "\t* order(상품항목, 주문개수, 단가, 배송지) 함수를 작성. '개수 x 단가'로 주문금액을 계산하고 이 금액만큼 입금되지 않으면 예외발생.\n",
    "\n",
    "\t* getBalance() 함수를 작성. 최초 프로그램 생성자 owner만 읽을 수 있게 modfier isOwner 작성.\n",
    "\n",
    "(1) REMIX에서 주문하고, 이벤트 발생하는지 보이도록 콘솔 출력 붙여넣으세요.\n",
    "\n",
    "(2) 파일로 컴파일 하세요.\n",
    "\n",
    "(3) ganache에서 배포하세요.\n",
    "\n",
    "(4) 주문을 3건만 하고, 이벤트를 통해 다음과 같이 출력하세요.\n",
    "\n",
    "항목은 차례대로 주소, 상품항목번호, 주문개수, 단가, 배송지.\n",
    "\n",
    "```\n",
    "\n",
    "전송자주소, 1111, 3, 100, 20 2-gil Hongji-dong Jongro-gu Seoul\n",
    "\n",
    "전송자주소, 1111, 5, 100, 20 2-gil Hongji-dong Jongro-gu Seoul\n",
    "\n",
    "전송자주소, 1111, 20, 100, 20 2-gil Hongji-dong Jongro-gu Seoul\n",
    "\n",
    "```\n",
    "\n",
    "(5) 파일에 저장된 파일내역을 출력하세요 (주피터 노트북에서 !type src/OrderEvent.txt)"
   ]
  },
  {
   "cell_type": "markdown",
   "id": "b263c6d0",
   "metadata": {},
   "source": [
    "### 1) remix IDE에서 주문"
   ]
  },
  {
   "cell_type": "code",
   "execution_count": null,
   "id": "9f652be2",
   "metadata": {},
   "outputs": [],
   "source": [
    "[vm]from: 0x5B3...eddC4to: OrderEvent.(constructor)value: 0 weidata: 0x608...70033logs: 0hash: 0xc9e...a65a6\n",
    "status\ttrue Transaction mined and execution succeed\n",
    "transaction hash\t0xc9ea68911de79bf4c52f50ef58b5ea9d45ba8889eaa5d8d7fb16baec3e1a65a6\n",
    "from\t0x5B38Da6a701c568545dCfcB03FcB875f56beddC4\n",
    "to\tOrderEvent.(constructor)\n",
    "gas\t455358 gas\n",
    "transaction cost\t395963 gas \n",
    "execution cost\t395963 gas \n",
    "input\t0x608...70033\n",
    "decoded input\t{}\n",
    "decoded output\t - \n",
    "logs\t[]\n",
    "val\t0 wei\n",
    "transact to OrderEvent.order errored: Error encoding arguments: Error: invalid arrayify value (argument=\"value\", value=\"1111\", code=INVALID_ARGUMENT, version=bytes/5.5.0)"
   ]
  },
  {
   "cell_type": "markdown",
   "id": "77c27855",
   "metadata": {},
   "source": [
    "###  2) 파일로 컴파일 하세요."
   ]
  },
  {
   "cell_type": "code",
   "execution_count": 2,
   "id": "511ba199",
   "metadata": {},
   "outputs": [
    {
     "name": "stdout",
     "output_type": "stream",
     "text": [
      "Overwriting src/OrderEvent.sol\n"
     ]
    }
   ],
   "source": [
    "%%writefile src/OrderEvent.sol\n",
    "//SPDX-License-Identifier: GPL-3.0-or-later\n",
    "pragma solidity ^0.8.0;\n",
    "\n",
    "contract OrderEvent {\n",
    "    \n",
    "    address payable owner;\n",
    "    event OrderLog(address indexed _from, bytes2 _itemId, uint indexed quantity, uint Price, string add);\n",
    "\n",
    "    constructor() {\n",
    "        owner = payable(msg.sender);\n",
    "    }\n",
    "\n",
    "\n",
    "    function order(bytes2 _itemId, uint quantity, uint Price, string memory add) public payable isOwner{\n",
    "        uint256 orderAmount = quantity * Price;\n",
    "        require(msg.value == orderAmount);\n",
    "        emit OrderLog(msg.sender, _itemId, quantity, msg.value, add);\n",
    "    \n",
    "    }\n",
    "\n",
    "    modifier isOwner() { \n",
    "        require(msg.sender == owner);\n",
    "        _;\n",
    "    }\n",
    "    \n",
    "    function getBalance() view public isOwner returns(uint) {\n",
    "        return address(this).balance;\n",
    "    }\n",
    "\n",
    "}"
   ]
  },
  {
   "cell_type": "markdown",
   "id": "97833e1c",
   "metadata": {},
   "source": [
    "### 3) ganache에서 배포하세요.\n",
    "\n"
   ]
  },
  {
   "cell_type": "code",
   "execution_count": 3,
   "id": "43faec99",
   "metadata": {},
   "outputs": [],
   "source": [
    "!solc --optimize --combined-json abi,bin src/OrderEvent.sol > src/OrderEvent.json"
   ]
  },
  {
   "cell_type": "code",
   "execution_count": 4,
   "id": "2cd3005e",
   "metadata": {},
   "outputs": [
    {
     "name": "stdout",
     "output_type": "stream",
     "text": [
      "Overwriting src/OrderEvent.js\n"
     ]
    }
   ],
   "source": [
    "%%writefile src/OrderEvent.js\n",
    "var Web3 = require('web3');\n",
    "var _abiBinJson = require('./OrderEvent.json');  \n",
    "var web3 = new Web3(new Web3.providers.HttpProvider(\"http://localhost:8345\"));\n",
    "\n",
    "contractName=Object.keys(_abiBinJson.contracts);\n",
    "console.log(\"- contract name: \", contractName);\n",
    "_abi=_abiBinJson.contracts[contractName].abi;\n",
    "_abiArray=JSON.parse(JSON.stringify(_abi));\n",
    "_bin=_abiBinJson.contracts[contractName].bin;\n",
    "\n",
    "async function deploy() {\n",
    "    const accounts = await web3.eth.getAccounts();\n",
    "    console.log(\"Deploying the contract from \" + accounts[0]);\n",
    "    var deployed = await new web3.eth.Contract(_abiArray)\n",
    "        .deploy({data: \"0x\"+_bin})\n",
    "        .send({from: accounts[0], gas: 364124}, function(err, transactionHash) {\n",
    "                if(!err) console.log(\"hash: \" + transactionHash); \n",
    "        })\n",
    "        //.then(function(newContractInstance){\n",
    "        //    console.log(newContractInstance)\n",
    "        //});\n",
    "    console.log(\"---> The contract deployed to: \" + deployed.options.address)\n",
    "}\n",
    "\n",
    "deploy()"
   ]
  },
  {
   "cell_type": "code",
   "execution_count": 5,
   "id": "b2128b5b",
   "metadata": {},
   "outputs": [
    {
     "name": "stdout",
     "output_type": "stream",
     "text": [
      "- contract name:  [ \u001b[32m'src/OrderEvent.sol:OrderEvent'\u001b[39m ]\n",
      "Deploying the contract from 0xE91Bf916E93053e0FE4628365afb1Ca16b92D758\n",
      "hash: 0xdbff1046096e7f307a4822b07b2812b85b8f37c3d8ff7a8f3a46593ab4ed5aae\n",
      "---> The contract deployed to: 0x559cE62C8650F47Ed81A661adA90fA6Ed958666D\n"
     ]
    }
   ],
   "source": [
    "!node src/OrderEvent.js"
   ]
  },
  {
   "cell_type": "markdown",
   "id": "fdfbf705",
   "metadata": {},
   "source": [
    "### 4) 주문을 3건만 하고, 이벤트를 통해 다음과 같이 출력하세요.\n"
   ]
  },
  {
   "cell_type": "code",
   "execution_count": 6,
   "id": "b4937cd2",
   "metadata": {},
   "outputs": [
    {
     "name": "stdout",
     "output_type": "stream",
     "text": [
      "Overwriting src/OrderEventUse.js\n"
     ]
    }
   ],
   "source": [
    "%%writefile src/OrderEventUse.js\n",
    "var Web3=require('web3');\n",
    "var fs = require('fs');\n",
    "var _abiBinJson = require('./OrderEvent.json');      //importing a javascript file\n",
    "\n",
    "var web3 = new Web3(new Web3.providers.WebsocketProvider(\"ws://localhost:8345\"));\n",
    "contractName=Object.keys(_abiBinJson.contracts); // reading ['src/OrderEvent.sol:OrderEvent']\n",
    "\n",
    "_abiArray=_abiBinJson.contracts[contractName].abi; //use just as read from file\n",
    "console.log(\"- ABI: \" + _abiArray);\n",
    "\n",
    "async function doIt() {\n",
    "    var _order = new web3.eth.Contract(_abiArray, '0x559cE62C8650F47Ed81A661adA90fA6Ed958666D');\n",
    "    const accounts = await web3.eth.getAccounts();\n",
    "    console.log(\"Account: \" + accounts[0]);\n",
    "    var event = _order.events.OrderLog({\n",
    "            filter: {_from: accounts[0]},\n",
    "            fromBlock: 'latest', toBlock: 'pending'\n",
    "        }, function (error, result) {\n",
    "        if (!error) {\n",
    "            //log = JSON.stringify(result.returnValues);\n",
    "            log = result.returnValues\n",
    "            //console.log(\"Event fired: \" + log);\n",
    "            console.log(\"Event fired:\" + JSON.stringify(log))\n",
    "            //fs.appendFile(\"src/EventTestLog.txt\", log+\"\\n\", \"utf-8\", function(e) {\n",
    "            fs.appendFile(\"src/EventTestLog.txt\",log['_from']+\", \"+log[\"_itemId\"]+\",\"+log[\"quantity\"]+', '+log[\"Price\"]+', '+log[\"add\"]+\"\\n\" , \"utf-8\", function(e){\n",
    "                if(!e) {\n",
    "                    console.log(\">> Writing to file\");\n",
    "                }\n",
    "            });\n",
    "        }\n",
    "    });\n",
    "\n",
    "    var value;\n",
    "    my = await _order.methods.order(\"0x1111\", 3, 100, \"20 2-gil Hongji-dong Jongro-gu Seoul\")\n",
    "        .send({from: accounts[0], gas: 100000, value:300})\n",
    "    console.log(\"---> MyFunction called \" + JSON.stringify(my.events.OrderLog.returnValues));\n",
    "    my = await _order.methods.order(\"0x1111\", 5, 100, \"20 2-gil Hongji-dong Jongro-gu Seoul\")\n",
    "        .send({from: accounts[0], gas: 100000, value:500})\n",
    "    console.log(\"---> MyFunction called \" + JSON.stringify(my.events.OrderLog.returnValues));\n",
    "    my = await _order.methods.order(\"0x1111\", 20, 100, \"20 2-gil Hongji-dong Jongro-gu Seoul\")\n",
    "        .send({from: accounts[0], gas: 100000,value:2000})\n",
    "    console.log(\"---> MyFunction called \" + JSON.stringify(my.events.OrderLog.returnValues));\n",
    "    //process.exit(1);\n",
    "    \n",
    "}\n",
    "\n",
    "doIt();"
   ]
  },
  {
   "cell_type": "code",
   "execution_count": 7,
   "id": "4fc40474",
   "metadata": {},
   "outputs": [
    {
     "name": "stdout",
     "output_type": "stream",
     "text": [
      "- ABI: [object Object],[object Object],[object Object],[object Object]\n",
      "Account: 0xE91Bf916E93053e0FE4628365afb1Ca16b92D758\n",
      "Event fired:{\"0\":\"0xE91Bf916E93053e0FE4628365afb1Ca16b92D758\",\"1\":\"0x1111\",\"2\":\"3\",\"3\":\"300\",\"4\":\"20 2-gil Hongji-dong Jongro-gu Seoul\",\"_from\":\"0xE91Bf916E93053e0FE4628365afb1Ca16b92D758\",\"_itemId\":\"0x1111\",\"quantity\":\"3\",\"Price\":\"300\",\"add\":\"20 2-gil Hongji-dong Jongro-gu Seoul\"}\n",
      "---> MyFunction called {\"0\":\"0xE91Bf916E93053e0FE4628365afb1Ca16b92D758\",\"1\":\"0x1111\",\"2\":\"3\",\"3\":\"300\",\"4\":\"20 2-gil Hongji-dong Jongro-gu Seoul\",\"_from\":\"0xE91Bf916E93053e0FE4628365afb1Ca16b92D758\",\"_itemId\":\"0x1111\",\"quantity\":\"3\",\"Price\":\"300\",\"add\":\"20 2-gil Hongji-dong Jongro-gu Seoul\"}\n",
      ">> Writing to file\n",
      "Event fired:{\"0\":\"0xE91Bf916E93053e0FE4628365afb1Ca16b92D758\",\"1\":\"0x1111\",\"2\":\"5\",\"3\":\"500\",\"4\":\"20 2-gil Hongji-dong Jongro-gu Seoul\",\"_from\":\"0xE91Bf916E93053e0FE4628365afb1Ca16b92D758\",\"_itemId\":\"0x1111\",\"quantity\":\"5\",\"Price\":\"500\",\"add\":\"20 2-gil Hongji-dong Jongro-gu Seoul\"}\n",
      "---> MyFunction called {\"0\":\"0xE91Bf916E93053e0FE4628365afb1Ca16b92D758\",\"1\":\"0x1111\",\"2\":\"5\",\"3\":\"500\",\"4\":\"20 2-gil Hongji-dong Jongro-gu Seoul\",\"_from\":\"0xE91Bf916E93053e0FE4628365afb1Ca16b92D758\",\"_itemId\":\"0x1111\",\"quantity\":\"5\",\"Price\":\"500\",\"add\":\"20 2-gil Hongji-dong Jongro-gu Seoul\"}\n",
      ">> Writing to file\n",
      "Event fired:{\"0\":\"0xE91Bf916E93053e0FE4628365afb1Ca16b92D758\",\"1\":\"0x1111\",\"2\":\"20\",\"3\":\"2000\",\"4\":\"20 2-gil Hongji-dong Jongro-gu Seoul\",\"_from\":\"0xE91Bf916E93053e0FE4628365afb1Ca16b92D758\",\"_itemId\":\"0x1111\",\"quantity\":\"20\",\"Price\":\"2000\",\"add\":\"20 2-gil Hongji-dong Jongro-gu Seoul\"}\n",
      "---> MyFunction called {\"0\":\"0xE91Bf916E93053e0FE4628365afb1Ca16b92D758\",\"1\":\"0x1111\",\"2\":\"20\",\"3\":\"2000\",\"4\":\"20 2-gil Hongji-dong Jongro-gu Seoul\",\"_from\":\"0xE91Bf916E93053e0FE4628365afb1Ca16b92D758\",\"_itemId\":\"0x1111\",\"quantity\":\"20\",\"Price\":\"2000\",\"add\":\"20 2-gil Hongji-dong Jongro-gu Seoul\"}\n",
      ">> Writing to file\n",
      "^C\n"
     ]
    }
   ],
   "source": [
    "!node src/OrderEventUse.js"
   ]
  },
  {
   "cell_type": "code",
   "execution_count": 8,
   "id": "2b48b3f4",
   "metadata": {},
   "outputs": [
    {
     "name": "stdout",
     "output_type": "stream",
     "text": [
      "0xE91Bf916E93053e0FE4628365afb1Ca16b92D758, 0x1111,3, 300, 20 2-gil Hongji-dong Jongro-gu Seoul\r\n",
      "0xE91Bf916E93053e0FE4628365afb1Ca16b92D758, 0x1111,5, 500, 20 2-gil Hongji-dong Jongro-gu Seoul\r\n",
      "0xE91Bf916E93053e0FE4628365afb1Ca16b92D758, 0x1111,20, 2000, 20 2-gil Hongji-dong Jongro-gu Seoul\r\n"
     ]
    }
   ],
   "source": [
    "!cat src/EventTestLog.txt"
   ]
  }
 ],
 "metadata": {
  "kernelspec": {
   "display_name": "Python 3 (ipykernel)",
   "language": "python",
   "name": "python3"
  },
  "language_info": {
   "codemirror_mode": {
    "name": "ipython",
    "version": 3
   },
   "file_extension": ".py",
   "mimetype": "text/x-python",
   "name": "python",
   "nbconvert_exporter": "python",
   "pygments_lexer": "ipython3",
   "version": "3.9.7"
  }
 },
 "nbformat": 4,
 "nbformat_minor": 5
}
