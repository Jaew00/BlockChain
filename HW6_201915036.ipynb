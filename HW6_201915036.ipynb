{
 "cells": [
  {
   "cell_type": "markdown",
   "id": "fe04a489",
   "metadata": {},
   "source": [
    "## 11주"
   ]
  },
  {
   "cell_type": "markdown",
   "id": "7b6649cd",
   "metadata": {},
   "source": [
    "11주 은행\n",
    "은행 컨트랙을 프로그램하여 아래 기능을 실행하도록 하세요.\n",
    "\n",
    "* 입금액을 매개변수로 넣어서 입금하세요. amount가 실제 입금액과 일치하지 않으면 오류.\n",
    "\n",
    "\tfunction deposit(uint amount)\n",
    "\n",
    "* 전액 인출 함수를 구현하세요. 인출 금액을 정하지 않아도 되므로 함수의 인자가 없다.\n",
    "\n",
    "\tfunction widthdrawAll()\n",
    "\n",
    "* 컨트랙 잔고확인 함수 (this를 이용한 잔고, 상태변수 잔고 (this 잔고가 맞는지 확인하는 용도)\n",
    "\n",
    "\tfunction getBalance() public view returns(uint, uint)\n",
    "\n",
    "* 다른 계정으로 계좌이체 함수\n",
    "\n",
    "\tfunction forwardTo(address payable _receiver) public payable\n",
    "\n",
    "* fallback()을 입금가능하도록 구현하세요. fallback이 호출되면 이벤트가 발생하여 전송자와 금액을 출력하세요.\n",
    "\n",
    "이벤트 함수명은 PrintLog(address from, uint amount)\n",
    "\n",
    "\n",
    "\n",
    "주피터 노트북에서 컴파일, 배포한 후, 아래 기능을 실행하여 그 결과를 출력하세요.\n",
    "\n",
    "ganache 8335 띄우고, 노드로 하세요.\n",
    "\n",
    "- 입금 11111 wei, 222 wei를 하고 컨트랙잔고 11333 wei 출력\n",
    "\n",
    "- 자신의 2번째 계정으로 계좌이체 333 wei하고 컨트랙잔고 11000 wei 출력, 자신의 2번째 계정 잔고 증가분 (+333 wei) 출력\n",
    "\n",
    "- 전액 인출하고 11000 wei, 자신의 잔고 증가분 출력 (+11000 wei)\n",
    "\n",
    "- 컨트랙으로 111 송금하고, deposit()이 아니라 fallback으로 입금하세요. 컨트랙잔고 111 wei 출력."
   ]
  },
  {
   "cell_type": "code",
   "execution_count": 1,
   "id": "220ede83",
   "metadata": {},
   "outputs": [
    {
     "name": "stdout",
     "output_type": "stream",
     "text": [
      "Overwriting src/Bank.sol\n"
     ]
    }
   ],
   "source": [
    "%%writefile src/Bank.sol\n",
    "//SPDX-License-Identifier: GPL-3.0-or-later\n",
    "pragma solidity ^0.8.0;\n",
    "\n",
    "contract Bank {\n",
    "    address owner;\n",
    "    mapping (address => uint) balanceOf;\n",
    "    constructor() {\n",
    "        owner = msg.sender;\n",
    "    }\n",
    "    event PrintLog(address from, uint amount);\n",
    "    \n",
    "    function deposit(uint amount) public payable {\n",
    "        require(msg.value == amount);\n",
    "        balanceOf[owner] += amount;\n",
    "    }\n",
    "    \n",
    "    function withdrawAll() public {\n",
    "        //balanceOf[owner] -= address(this).balance;\n",
    "        payable(owner).transfer(address(this).balance);\n",
    "    }\n",
    "    \n",
    "    function getBalance() public view returns(uint, uint) {\n",
    "        return (address(this).balance, balanceOf[owner]);\n",
    "    }\n",
    "    \n",
    "    function forwardTo(address receiver, uint amount) public payable {\n",
    "        balanceOf[owner] -= amount; \n",
    "        balanceOf[receiver] += amount;  \n",
    "        require(msg.sender == owner);\n",
    "        payable(receiver).transfer(msg.value);\n",
    "        emit PrintLog(receiver, msg.value); \n",
    "    }\n",
    "    \n",
    "    fallback() external {\n",
    "        emit PrintLog(owner, address(this).balance);\n",
    "    }\n",
    "}"
   ]
  },
  {
   "cell_type": "code",
   "execution_count": 2,
   "id": "18d53790",
   "metadata": {},
   "outputs": [],
   "source": [
    "!solc --optimize --combined-json abi,bin src/Bank.sol > src/Bank.json"
   ]
  },
  {
   "cell_type": "code",
   "execution_count": 3,
   "id": "e54aa92d",
   "metadata": {},
   "outputs": [
    {
     "name": "stdout",
     "output_type": "stream",
     "text": [
      "Overwriting src/BankDeploy.js\n"
     ]
    }
   ],
   "source": [
    "%%writefile src/BankDeploy.js\n",
    "var Web3 = require('web3');\n",
    "var _abiBinJson = require('./Bank.json');  \n",
    "var web3 = new Web3(new Web3.providers.HttpProvider(\"http://localhost:8345\"));\n",
    "\n",
    "contractName=Object.keys(_abiBinJson.contracts);\n",
    "console.log(\"- contract name: \", contractName);\n",
    "_abi=_abiBinJson.contracts[contractName].abi;\n",
    "_abiArray=JSON.parse(JSON.stringify(_abi));\n",
    "_bin=_abiBinJson.contracts[contractName].bin;\n",
    "\n",
    "async function deploy() {\n",
    "    const accounts = await web3.eth.getAccounts();\n",
    "    console.log(\"Deploying the contract from \" + accounts[0]);\n",
    "    var deployed = await new web3.eth.Contract(_abiArray)\n",
    "        .deploy({data: \"0x\"+_bin})\n",
    "        .send({from: accounts[0], gas: 364124}, function(err, transactionHash) {\n",
    "                if(!err) console.log(\"hash: \" + transactionHash); \n",
    "        })\n",
    "        //.then(function(newContractInstance){\n",
    "        //    console.log(newContractInstance)\n",
    "        //});\n",
    "    console.log(\"---> The contract deployed to: \" + deployed.options.address)\n",
    "}\n",
    "\n",
    "deploy()"
   ]
  },
  {
   "cell_type": "code",
   "execution_count": 4,
   "id": "6de1325c",
   "metadata": {},
   "outputs": [
    {
     "name": "stdout",
     "output_type": "stream",
     "text": [
      "- contract name:  [ \u001b[32m'src/Bank.sol:Bank'\u001b[39m ]\n",
      "Deploying the contract from 0x51a74dbccbf2036d79341F8c151f495F61310080\n",
      "hash: 0x9741498772b80987c55ad8ac88faee4266d5fae248c8c67331547b6bb3ad5c34\n",
      "---> The contract deployed to: 0xE5610f1de37d8499920E37D528cd8885f87B9480\n"
     ]
    }
   ],
   "source": [
    "!node src/BankDeploy.js"
   ]
  },
  {
   "cell_type": "code",
   "execution_count": 5,
   "id": "21a53cc6",
   "metadata": {},
   "outputs": [
    {
     "name": "stdout",
     "output_type": "stream",
     "text": [
      "Overwriting src/BankUse.js\n"
     ]
    }
   ],
   "source": [
    "%%writefile src/BankUse.js\n",
    "var Web3 = require('web3');\n",
    "var _abiBinJson = require('./Bank.json');  \n",
    "var web3 = new Web3(new Web3.providers.HttpProvider(\"http://localhost:8345\"));\n",
    "\n",
    "\n",
    "contractName=Object.keys(_abiBinJson.contracts);\n",
    "_abiArray=_abiBinJson.contracts[contractName].abi;\n",
    "console.log(\"- ABI: \" + _abiArray);\n",
    "var bank = new web3.eth.Contract(_abiArray,\"0xE5610f1de37d8499920E37D528cd8885f87B9480\");\n",
    "\n",
    "async function doIt() {\n",
    "    const accounts = await web3.eth.getAccounts();\n",
    "    const balance0Before = await web3.eth.getBalance(accounts[0]);\n",
    "    console.log(\"Balance0 before: \" + balance0Before);\n",
    "    const balance1Before = await web3.eth.getBalance(accounts[1]);\n",
    "    console.log(\"Balance1 before: \" + balance1Before);\n",
    "    bank.methods.getBalance().call().then(function(bal) {\n",
    "        console.log(\"Contract bal before first deposit: \" + bal[0]);\n",
    "    });\n",
    "    await bank.methods.deposit(11111).send({from: accounts[0], value:11111});\n",
    "    bank.methods.getBalance().call().then(function(bal) {\n",
    "        console.log(\"Contract bal after first deposit: \" + bal[0]);\n",
    "    });\n",
    "    bank.methods.getBalance().call().then(function(bal) {\n",
    "        console.log(\"Contract bal before second deposit: \" + bal[0]);\n",
    "    });\n",
    "    await bank.methods.deposit(222).send({from: accounts[0], value:222});\n",
    "    bank.methods.getBalance().call().then(function(bal) {\n",
    "        console.log(\"Contract bal after second deposit: \" + bal[0]);\n",
    "    });\n",
    "    const forward = await bank.methods.forwardTo(accounts[1], 333).send({from: accounts[0], value:333});\n",
    "    bank.methods.getBalance().call().then(function(bal) {\n",
    "        console.log(\"Contract balance after forwardTo: \" + bal[1]);\n",
    "    });\n",
    "    const balance1After = await web3.eth.getBalance(accounts[1]);\n",
    "    console.log(\"Balance1 after: \" + balance1After);\n",
    "    const withdraw = await bank.methods.withdrawAll();\n",
    "    bank.methods.getBalance().call().then(function(bal) {\n",
    "        console.log(\"Contract balance after withdrawAll: \" + bal[1]);\n",
    "    });\n",
    "\n",
    "}\n",
    "\n",
    "doIt()"
   ]
  },
  {
   "cell_type": "code",
   "execution_count": 6,
   "id": "4281b0e1",
   "metadata": {},
   "outputs": [
    {
     "name": "stdout",
     "output_type": "stream",
     "text": [
      "- ABI: [object Object],[object Object],[object Object],[object Object],[object Object],[object Object],[object Object]\n",
      "Balance0 before: 999999444021999988889\n",
      "Balance1 before: 1000000000000000000000\n",
      "Contract bal before first deposit: 0\n",
      "Contract bal after first deposit: 11111\n",
      "Contract bal before second deposit: 11111\n",
      "Contract bal after second deposit: 11333\n",
      "Balance1 after: 1000000000000000000333\n",
      "Contract balance after forwardTo: 11000\n",
      "Contract balance after withdrawAll: 11000\n"
     ]
    }
   ],
   "source": [
    "!node src/BankUse.js"
   ]
  },
  {
   "cell_type": "code",
   "execution_count": null,
   "id": "d05700c4",
   "metadata": {},
   "outputs": [],
   "source": []
  }
 ],
 "metadata": {
  "kernelspec": {
   "display_name": "Python 3 (ipykernel)",
   "language": "python",
   "name": "python3"
  },
  "language_info": {
   "codemirror_mode": {
    "name": "ipython",
    "version": 3
   },
   "file_extension": ".py",
   "mimetype": "text/x-python",
   "name": "python",
   "nbconvert_exporter": "python",
   "pygments_lexer": "ipython3",
   "version": "3.9.7"
  }
 },
 "nbformat": 4,
 "nbformat_minor": 5
}
