{
 "cells": [
  {
   "cell_type": "markdown",
   "id": "80c12484",
   "metadata": {},
   "source": [
    "## 10주"
   ]
  },
  {
   "cell_type": "markdown",
   "id": "1114af4c",
   "metadata": {},
   "source": [
    "컨트랙 '학생'을 구현하세요.\n",
    "\n",
    "컨트랙의 이름은 'StudentsCrud.sol'로 명명하세요.\n",
    "\n",
    "학생들을 배열로 구성하고, 다음 기능이 제공되도록 하자.\n",
    "\n",
    "* 입력: '학번', '이름', '등록여부'를 입력한다.\n",
    "\n",
    "* 검색: 조건에 해당하는 항목을 찾기 위해서는 반복문이 필수적이다.\n",
    "\n",
    "그러나 gas비용이 급증할 수 있으므로, 배열의 인덱스로 검색하도록 하자.\n",
    "\n",
    "* 삭제: 배열에서는 어떤 항목의 데이터를 지우기 위해서는 검색이 필요하다.\n",
    "\n",
    "그러나 역시 gas비용이 급증할 수 있으므로, 배열의 인덱스에 해당하는 항목을 지우기로 한다.\n",
    "\n",
    "해당 항목을 지우고 나서는, 그 항목을 제거하고 배열의 크기도 같이 줄어야 한다.\n",
    "\n",
    "\n",
    "\n",
    "함수의 시그니처는 다음과 같다.\n",
    "\n",
    "```\n",
    "\n",
    "* 입력함수 - function insert(uint n, string memory sn, bool e) public\n",
    "\n",
    "* 첫 데이터 조회 - function getFirstStudent() public view returns(uint, string memory, bool)\n",
    "\n",
    "* 검색함수 - function findBy(uint8 index) view public returns(uint, string memory, bool)\n",
    "\n",
    "* 삭제함수 - function remove(uint index) public\n",
    "\n",
    "* 배열크기 조회함수 - function getLength() view public returns(uint)\n",
    "\n",
    "* 삭제함수 - function pop() public\n",
    "\n",
    "```\n",
    "\n",
    "\n",
    "\n",
    "컨트랙을 구현하고, REMIX에서 DEPLOY한 후, 제공되는 함수버튼을 활용하여 다음 작업을 수행해보자.\n",
    "\n",
    "항목별 답안으로는 수행결과가 출력된 REMIX 단말의 로그를 붙여넣기 하면 된다."
   ]
  },
  {
   "cell_type": "code",
   "execution_count": null,
   "id": "00e4cc44",
   "metadata": {},
   "outputs": [],
   "source": [
    "//SPDX-License-Identifier: GPL-3.0-or-later\n",
    "pragma solidity ^0.8.0;\n",
    "contract StudentsCrud {\n",
    "    \n",
    "    struct Student {\n",
    "        uint n;\n",
    "        string sn;\n",
    "        bool e;\n",
    "    }\n",
    "\n",
    "    Student[] studentInfo;\n",
    "    \n",
    "    function insert(uint n, string memory sn, bool e) public {\n",
    "        studentInfo.push(Student(n, sn, e));\n",
    "    }\n",
    "    \n",
    "    function getFirstStudent() public view returns(uint n, string memory sn, bool e) {\n",
    "        n = studentInfo[0].n;\n",
    "        sn = studentInfo[0].sn;\n",
    "        e = studentInfo[0].e;\n",
    "    }\n",
    "    \n",
    "    \n",
    "    function findBy(uint8 index) view public returns(uint n, string memory sn, bool e) {\n",
    "        n = studentInfo[index].n;\n",
    "        sn = studentInfo[index].sn;\n",
    "        e = studentInfo[index].e;\n",
    "    }\n",
    "    \n",
    "    function remove(uint index) public {\n",
    "        delete studentInfo[index];\n",
    "    }\n",
    "    \n",
    "    \n",
    "    function getLength() view public returns(uint) {\n",
    "        return studentInfo.length;\n",
    "    }\n",
    "    \n",
    "    function pop() public {\n",
    "        studentInfo.pop();\n",
    "    }\n",
    "\n",
    "}"
   ]
  },
  {
   "cell_type": "markdown",
   "id": "b7f8bfbd",
   "metadata": {},
   "source": [
    "#### deploy logs"
   ]
  },
  {
   "cell_type": "code",
   "execution_count": null,
   "id": "25dad75a",
   "metadata": {},
   "outputs": [],
   "source": [
    "creation of StudentsCrud pending...\n",
    "[vm]from: 0x5B3...eddC4to: StudentsCrud.(constructor)value: 0 weidata: 0x608...70033logs: 0hash: 0x9c4...4643a\n",
    "status\ttrue Transaction mined and execution succeed\n",
    "transaction hash\t0x9c41a81ef635d7dc8b63c97fc8351a8aa270d2455631cf79f96bea68cfe4643a\n",
    "from\t0x5B38Da6a701c568545dCfcB03FcB875f56beddC4\n",
    "to\tStudentsCrud.(constructor)\n",
    "gas\t909992 gas\n",
    "transaction cost\t791297 gas \n",
    "execution cost\t791297 gas \n",
    "input\t0x608...70033\n",
    "decoded input\t{}\n",
    "decoded output\t - \n",
    "logs\t[]\n",
    "val\t0 wei"
   ]
  },
  {
   "cell_type": "markdown",
   "id": "288eb9f4",
   "metadata": {},
   "source": [
    "#### (1) 아래 항목을 입력\n",
    "\n",
    "```\n",
    "\n",
    "201711111,\"kim\",false\n",
    "\n",
    "201711112, \"park\", true\n",
    "\n",
    "201711113, \"lee\", false\n",
    "\n",
    "201711114, \"lim\", false\n",
    "\n",
    "```"
   ]
  },
  {
   "cell_type": "code",
   "execution_count": null,
   "id": "330404d1",
   "metadata": {},
   "outputs": [],
   "source": [
    "transact to StudentsCrud.insert pending ... \n",
    "[vm]from: 0x5B3...eddC4to: StudentsCrud.insert(uint256,string,bool) 0xaE0...96B8bvalue: 0 weidata: 0xf07...00000logs: 0hash: 0x67c...b2078\n",
    "status\ttrue Transaction mined and execution succeed\n",
    "transaction hash\t0x67ca7cb3c56edca3aea55bc2a5abca25808b4562def11e5c644786ac26eb2078\n",
    "from\t0x5B38Da6a701c568545dCfcB03FcB875f56beddC4\n",
    "to\tStudentsCrud.insert(uint256,string,bool) 0xaE036c65C649172b43ef7156b009c6221B596B8b\n",
    "gas\t106323 gas\n",
    "transaction cost\t92454 gas \n",
    "execution cost\t92454 gas \n",
    "input\t0xf07...00000\n",
    "decoded input\t{\n",
    "\t\"uint256 n\": \"201711111\",\n",
    "\t\"string sn\": \"kim\",\n",
    "\t\"bool e\": false\n",
    "}\n",
    "decoded output\t{}\n",
    "logs\t[]\n",
    "val\t0 wei"
   ]
  },
  {
   "cell_type": "code",
   "execution_count": null,
   "id": "29c848fd",
   "metadata": {},
   "outputs": [],
   "source": [
    "transact to StudentsCrud.insert pending ... \n",
    "[vm]from: 0x5B3...eddC4to: StudentsCrud.insert(uint256,string,bool) 0xaE0...96B8bvalue: 0 weidata: 0xf07...00000logs: 0hash: 0xaf0...0be5e\n",
    "status\ttrue Transaction mined and execution succeed\n",
    "transaction hash\t0xaf0d19253d9c1a8de140f7e51e06dd71ca523b5dc93cb45ed764ec682f80be5e\n",
    "from\t0x5B38Da6a701c568545dCfcB03FcB875f56beddC4\n",
    "to\tStudentsCrud.insert(uint256,string,bool) 0xaE036c65C649172b43ef7156b009c6221B596B8b\n",
    "gas\t109570 gas\n",
    "transaction cost\t95278 gas \n",
    "execution cost\t95278 gas \n",
    "input\t0xf07...00000\n",
    "decoded input\t{\n",
    "\t\"uint256 n\": \"201711112\",\n",
    "\t\"string sn\": \"park\",\n",
    "\t\"bool e\": true\n",
    "}\n",
    "decoded output\t{}\n",
    "logs\t[]\n",
    "val\t0 wei"
   ]
  },
  {
   "cell_type": "code",
   "execution_count": null,
   "id": "c45a7749",
   "metadata": {},
   "outputs": [],
   "source": [
    "transact to StudentsCrud.insert pending ... \n",
    "[vm]from: 0x5B3...eddC4to: StudentsCrud.insert(uint256,string,bool) 0xaE0...96B8bvalue: 0 weidata: 0xf07...00000logs: 0hash: 0x1f6...951f3\n",
    "status\ttrue Transaction mined and execution succeed\n",
    "transaction hash\t0x1f6905376ef1cf0ed54c33b443d9b84e7aadf0222c19a7a8534b0514f66951f3\n",
    "from\t0x5B38Da6a701c568545dCfcB03FcB875f56beddC4\n",
    "to\tStudentsCrud.insert(uint256,string,bool) 0xaE036c65C649172b43ef7156b009c6221B596B8b\n",
    "gas\t86658 gas\n",
    "transaction cost\t75354 gas \n",
    "execution cost\t75354 gas \n",
    "input\t0xf07...00000\n",
    "decoded input\t{\n",
    "\t\"uint256 n\": \"201711113\",\n",
    "\t\"string sn\": \"lee\",\n",
    "\t\"bool e\": false\n",
    "}\n",
    "decoded output\t{}\n",
    "logs\t[]\n",
    "val\t0 wei"
   ]
  },
  {
   "cell_type": "code",
   "execution_count": null,
   "id": "82f0b181",
   "metadata": {},
   "outputs": [],
   "source": [
    "transact to StudentsCrud.insert pending ... \n",
    "[vm]from: 0x5B3...eddC4to: StudentsCrud.insert(uint256,string,bool) 0xaE0...96B8bvalue: 0 weidata: 0xf07...00000logs: 0hash: 0xcb8...154e7\n",
    "status\ttrue Transaction mined and execution succeed\n",
    "transaction hash\t0xcb83aadbb829df6a7abd8d38b8fb5fa620e94ac73826467681f917826ee154e7\n",
    "from\t0x5B38Da6a701c568545dCfcB03FcB875f56beddC4\n",
    "to\tStudentsCrud.insert(uint256,string,bool) 0xaE036c65C649172b43ef7156b009c6221B596B8b\n",
    "gas\t86658 gas\n",
    "transaction cost\t75354 gas \n",
    "execution cost\t75354 gas \n",
    "input\t0xf07...00000\n",
    "decoded input\t{\n",
    "\t\"uint256 n\": \"201711114\",\n",
    "\t\"string sn\": \"lim\",\n",
    "\t\"bool e\": false\n",
    "}\n",
    "decoded output\t{}\n",
    "logs\t[]\n",
    "val\t0 wei"
   ]
  },
  {
   "cell_type": "markdown",
   "id": "b0b0a68b",
   "metadata": {},
   "source": [
    "#### (2) 2번째 데이터 201711112 제거"
   ]
  },
  {
   "cell_type": "code",
   "execution_count": null,
   "id": "017ff601",
   "metadata": {},
   "outputs": [],
   "source": [
    "transact to StudentsCrud.remove pending ... \n",
    "[vm]from: 0x5B3...eddC4to: StudentsCrud.remove(uint256) 0xaE0...96B8bvalue: 0 weidata: 0x4cc...00001logs: 0hash: 0x412...23d19\n",
    "status\ttrue Transaction mined and execution succeed\n",
    "transaction hash\t0x4124b670f63fb87aabde832248439270f5398e0c3129a1cafdf63655eb223d19\n",
    "from\t0x5B38Da6a701c568545dCfcB03FcB875f56beddC4\n",
    "to\tStudentsCrud.remove(uint256) 0xaE036c65C649172b43ef7156b009c6221B596B8b\n",
    "gas\t86736 gas\n",
    "transaction cost\t61022 gas \n",
    "execution cost\t61022 gas \n",
    "input\t0x4cc...00001\n",
    "decoded input\t{\n",
    "\t\"uint256 index\": \"1\"\n",
    "}\n",
    "decoded output\t{}\n",
    "logs\t[]\n",
    "val\t0 wei"
   ]
  },
  {
   "cell_type": "markdown",
   "id": "7d482077",
   "metadata": {},
   "source": [
    "#### (3) 배열크기 조회 (4개 항목에서 1개가 제거되었으니 3이 출력)"
   ]
  },
  {
   "cell_type": "code",
   "execution_count": null,
   "id": "f41a3b01",
   "metadata": {},
   "outputs": [],
   "source": [
    "call to StudentsCrud.getLength\n",
    "CALL\n",
    "[call]from: 0x5B38Da6a701c568545dCfcB03FcB875f56beddC4to: StudentsCrud.getLength()data: 0xbe1...c766b\n",
    "from\t0x5B38Da6a701c568545dCfcB03FcB875f56beddC4\n",
    "to\tStudentsCrud.getLength() 0xaE036c65C649172b43ef7156b009c6221B596B8b\n",
    "execution cost\t23553 gas (Cost only applies when called by a contract)\n",
    "input\t0xbe1...c766b\n",
    "decoded input\t{}\n",
    "decoded output\t{\n",
    "\t\"0\": \"uint256: 3\"\n",
    "}\n",
    "logs\t[]"
   ]
  },
  {
   "cell_type": "markdown",
   "id": "085f99d2",
   "metadata": {},
   "source": [
    "#### (4) 2 번째 데이터조회를 조회한다. 20171112는 삭제되어서 출력할 수 없고, 다른 데이터 항목이 출력."
   ]
  },
  {
   "cell_type": "code",
   "execution_count": null,
   "id": "647ca22b",
   "metadata": {},
   "outputs": [],
   "source": [
    "call to StudentsCrud.findBy\n",
    "CALL\n",
    "[call]from: 0x5B38Da6a701c568545dCfcB03FcB875f56beddC4to: StudentsCrud.findBy(uint8)data: 0xedf...00001\n",
    "from\t0x5B38Da6a701c568545dCfcB03FcB875f56beddC4\n",
    "to\tStudentsCrud.findBy(uint8) 0xaE036c65C649172b43ef7156b009c6221B596B8b\n",
    "execution cost\t32083 gas (Cost only applies when called by a contract)\n",
    "input\t0xedf...00001\n",
    "decoded input\t{\n",
    "\t\"uint8 index\": 1\n",
    "}\n",
    "decoded output\t{\n",
    "\t\"0\": \"uint256: n 201711113\",\n",
    "\t\"1\": \"string: sn lee\",\n",
    "\t\"2\": \"bool: e false\"\n",
    "}\n",
    "logs\t[]"
   ]
  },
  {
   "cell_type": "markdown",
   "id": "d79318e1",
   "metadata": {},
   "source": [
    "#### (5) 첫 데이터 조회"
   ]
  },
  {
   "cell_type": "code",
   "execution_count": null,
   "id": "4ff3edbd",
   "metadata": {},
   "outputs": [],
   "source": [
    "call to StudentsCrud.getFirstStudent\n",
    "CALL\n",
    "[call]from: 0x5B38Da6a701c568545dCfcB03FcB875f56beddC4to: StudentsCrud.getFirstStudent()data: 0xacb...e8cee\n",
    "from\t0x5B38Da6a701c568545dCfcB03FcB875f56beddC4\n",
    "to\tStudentsCrud.getFirstStudent() 0xaE036c65C649172b43ef7156b009c6221B596B8b\n",
    "execution cost\t31610 gas (Cost only applies when called by a contract)\n",
    "input\t0xacb...e8cee\n",
    "decoded input\t{}\n",
    "decoded output\t{\n",
    "\t\"0\": \"uint256: n 201711111\",\n",
    "\t\"1\": \"string: sn kim\",\n",
    "\t\"2\": \"bool: e false\"\n",
    "}\n",
    "logs\t[]"
   ]
  }
 ],
 "metadata": {
  "kernelspec": {
   "display_name": "Python 3 (ipykernel)",
   "language": "python",
   "name": "python3"
  },
  "language_info": {
   "codemirror_mode": {
    "name": "ipython",
    "version": 3
   },
   "file_extension": ".py",
   "mimetype": "text/x-python",
   "name": "python",
   "nbconvert_exporter": "python",
   "pygments_lexer": "ipython3",
   "version": "3.9.7"
  }
 },
 "nbformat": 4,
 "nbformat_minor": 5
}
