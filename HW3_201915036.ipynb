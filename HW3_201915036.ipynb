{
 "cells": [
  {
   "cell_type": "markdown",
   "id": "21ca2f99",
   "metadata": {},
   "source": [
    "## 6주 Hello Snowman\n",
    "Hello 컨트랙을 수정해서 sayHello() 함수를 호출하면 \"Hello, Snowman\"이 출력되도록 하세요.\n",
    "\n",
    "- Solidity로 Hello.sol을 코딩하고\n",
    "\n",
    "- solc로 컴파일하고\n",
    "\n",
    "- web3.js를 사용하여 node로 프로그램해서 배포\n",
    "\n",
    "- web3.js를 사용하여 node로 sayHello() 출력\n",
    "\n"
   ]
  },
  {
   "cell_type": "markdown",
   "id": "0f06e5a4",
   "metadata": {},
   "source": [
    "#### Solidity로 Hello.sol을 코딩하고"
   ]
  },
  {
   "cell_type": "code",
   "execution_count": 1,
   "id": "bf4b9b03",
   "metadata": {},
   "outputs": [
    {
     "name": "stdout",
     "output_type": "stream",
     "text": [
      "Overwriting src/Hello.sol\n"
     ]
    }
   ],
   "source": [
    "%%writefile src/Hello.sol\n",
    "pragma solidity ^0.8.12;\n",
    "contract Hello {\n",
    "    function sayHello() pure public returns(string memory) {\n",
    "        return \"Hello, Snowman\";\n",
    "    }\n",
    "}"
   ]
  },
  {
   "cell_type": "markdown",
   "id": "c39348dc",
   "metadata": {},
   "source": [
    "#### solc로 컴파일하고"
   ]
  },
  {
   "cell_type": "code",
   "execution_count": 2,
   "id": "e0a1797d",
   "metadata": {},
   "outputs": [
    {
     "name": "stdout",
     "output_type": "stream",
     "text": [
      "solc, the solidity compiler commandline interface\r\n",
      "Version: 0.8.12+commit.f00d7308.Darwin.appleclang\r\n"
     ]
    }
   ],
   "source": [
    "!solc --version"
   ]
  },
  {
   "cell_type": "code",
   "execution_count": 3,
   "id": "b228a1a2",
   "metadata": {},
   "outputs": [
    {
     "name": "stdout",
     "output_type": "stream",
     "text": [
      "\u001b[1m\u001b[33mWarning\u001b[0m\u001b[1m\u001b[37m: SPDX license identifier not provided in source file. Before publishing, consider adding a comment containing \"SPDX-License-Identifier: <SPDX-License>\" to each source file. Use \"SPDX-License-Identifier: UNLICENSED\" for non-open-source code. Please see https://spdx.org for more information.\r\n",
      "\u001b[0m\u001b[1m\u001b[34m-->\u001b[0m src/Hello.sol\r\n",
      "\r\n",
      "\r\n",
      "======= src/Hello.sol:Hello =======\r\n",
      "Gas estimation:\r\n",
      "construction:\r\n",
      "   123 + 76000 = 76123\r\n",
      "external:\r\n",
      "   sayHello():\tinfinite\r\n",
      "Binary:\r\n",
      "608060405234801561001057600080fd5b5061017c806100206000396000f3fe608060405234801561001057600080fd5b506004361061002b5760003560e01c8063ef5fb05b14610030575b600080fd5b61003861004e565b6040516100459190610124565b60405180910390f35b60606040518060400160405280600e81526020017f48656c6c6f2c20536e6f776d616e000000000000000000000000000000000000815250905090565b600081519050919050565b600082825260208201905092915050565b60005b838110156100c55780820151818401526020810190506100aa565b838111156100d4576000848401525b50505050565b6000601f19601f8301169050919050565b60006100f68261008b565b6101008185610096565b93506101108185602086016100a7565b610119816100da565b840191505092915050565b6000602082019050818103600083015261013e81846100eb565b90509291505056fea2646970667358221220328c3dd60733670e5efaaf06282b557151683b574ca45cab5260cafae9420e2064736f6c634300080c0033\r\n",
      "Contract JSON ABI\r\n",
      "[{\"inputs\":[],\"name\":\"sayHello\",\"outputs\":[{\"internalType\":\"string\",\"name\":\"\",\"type\":\"string\"}],\"stateMutability\":\"pure\",\"type\":\"function\"}]\r\n"
     ]
    }
   ],
   "source": [
    "!solc --abi --bin --gas src/Hello.sol"
   ]
  },
  {
   "cell_type": "markdown",
   "id": "e004abe8",
   "metadata": {},
   "source": [
    "#### web3.js를 사용하여 node로 프로그램해서 배포"
   ]
  },
  {
   "cell_type": "code",
   "execution_count": 4,
   "id": "9c87a2d2",
   "metadata": {},
   "outputs": [
    {
     "name": "stdout",
     "output_type": "stream",
     "text": [
      "Overwriting src/getMyAddr.js\n"
     ]
    }
   ],
   "source": [
    "%%writefile src/getMyAddr.js\n",
    "var Web3=require('web3');\n",
    "var web3 = new Web3(new Web3.providers.HttpProvider(\"http://localhost:8345\"))\n",
    "var myAddr0;\n",
    "web3.eth.getAccounts().then(console.log);"
   ]
  },
  {
   "cell_type": "code",
   "execution_count": 5,
   "id": "3b6623c7",
   "metadata": {},
   "outputs": [
    {
     "name": "stdout",
     "output_type": "stream",
     "text": [
      "[\r\n",
      "  \u001b[32m'0x208aD30106088c3027edb50Da0A7520dCF3325CF'\u001b[39m,\r\n",
      "  \u001b[32m'0x756711C0211F4Da94beDCd092D05c140b9f6c9C3'\u001b[39m,\r\n",
      "  \u001b[32m'0x008e1D6724f1752889eF3b55c8Cba5F5fa08204b'\u001b[39m,\r\n",
      "  \u001b[32m'0xa708148a738505b6d50483d2D83dF29bA227e351'\u001b[39m,\r\n",
      "  \u001b[32m'0x33e2e1d9ff81a761Bd21E6DD7d4057cC0709B003'\u001b[39m,\r\n",
      "  \u001b[32m'0x8893859202ECc1a6cf8Ff3b6bb4a29E3Ab18af19'\u001b[39m,\r\n",
      "  \u001b[32m'0x7462A38fbf677abfAe124e0C5Bfd1DcCF78894dc'\u001b[39m,\r\n",
      "  \u001b[32m'0x2091DEF0Cd559c738008E2A74bb538Fea3809B8F'\u001b[39m,\r\n",
      "  \u001b[32m'0x71486B5AD06E934d7489b91025c6c0824075cF36'\u001b[39m,\r\n",
      "  \u001b[32m'0x5d0f752011712227175912E7bbd4e9CC86AedCc4'\u001b[39m\r\n",
      "]\r\n"
     ]
    }
   ],
   "source": [
    "!node src/getMyAddr.js"
   ]
  },
  {
   "cell_type": "code",
   "execution_count": 6,
   "id": "bd96d102",
   "metadata": {},
   "outputs": [
    {
     "name": "stdout",
     "output_type": "stream",
     "text": [
      "Overwriting src/HelloDeploy.js\n"
     ]
    }
   ],
   "source": [
    "%%writefile src/HelloDeploy.js\n",
    "var Web3=require('web3');\n",
    "var web3 = new Web3(new Web3.providers.HttpProvider(\"http://localhost:8345\"));\n",
    "var shelloContract = new web3.eth.Contract([{\"inputs\":[],\"name\":\"sayHello\",\"outputs\":[{\"internalType\":\"string\",\"name\":\"\",\"type\":\"string\"}],\"stateMutability\":\"pure\",\"type\":\"function\"}]);\n",
    "shelloContract\n",
    "    .deploy({\n",
    "            data:'0x608060405234801561001057600080fd5b5061017c806100206000396000f3fe608060405234801561001057600080fd5b506004361061002b5760003560e01c8063ef5fb05b14610030575b600080fd5b61003861004e565b6040516100459190610124565b60405180910390f35b60606040518060400160405280600e81526020017f48656c6c6f2c20536e6f776d616e000000000000000000000000000000000000815250905090565b600081519050919050565b600082825260208201905092915050565b60005b838110156100c55780820151818401526020810190506100aa565b838111156100d4576000848401525b50505050565b6000601f19601f8301169050919050565b60006100f68261008b565b6101008185610096565b93506101108185602086016100a7565b610119816100da565b840191505092915050565b6000602082019050818103600083015261013e81846100eb565b90509291505056fea2646970667358221220328c3dd60733670e5efaaf06282b557151683b574ca45cab5260cafae9420e2064736f6c634300080c0033', \n",
    "    })\n",
    "    .send({\n",
    "     from: \"0x208aD30106088c3027edb50Da0A7520dCF3325CF\",\n",
    "     gas: '4700000'\n",
    "    }, function (error, transactionHash){ \n",
    "            console.log(error, transactionHash); \n",
    "    })\n",
    "    .then(function(newContractInstance){\n",
    "        console.log(newContractInstance.options.address)\n",
    "    });"
   ]
  },
  {
   "cell_type": "code",
   "execution_count": 7,
   "id": "d39d080e",
   "metadata": {},
   "outputs": [
    {
     "name": "stdout",
     "output_type": "stream",
     "text": [
      "\u001b[1mnull\u001b[22m 0xdb9dcae8f0f432c9c0c074e8e3cfafeb4608426e9de22b0e20ddcc7aad42d5ca\r\n",
      "0x945AE6c4a3d4b067A1dEA6aBc870B3f3e46c4246\r\n"
     ]
    }
   ],
   "source": [
    "!node src/HelloDeploy.js"
   ]
  },
  {
   "cell_type": "markdown",
   "id": "c1767793",
   "metadata": {},
   "source": [
    "#### web3.js를 사용하여 node로 sayHello() 출력"
   ]
  },
  {
   "cell_type": "code",
   "execution_count": 8,
   "id": "fa50dcaa",
   "metadata": {},
   "outputs": [
    {
     "name": "stdout",
     "output_type": "stream",
     "text": [
      "Overwriting src/HelloUse.js\n"
     ]
    }
   ],
   "source": [
    "%%writefile src/HelloUse.js\n",
    "var Web3=require('web3');\n",
    "var web3 = new Web3(new Web3.providers.HttpProvider(\"http://localhost:8345\"));\n",
    "var shelloContract = new web3.eth.Contract([{\"constant\":true,\"inputs\":[],\"name\":\"sayHello\",\"outputs\":[{\"name\":\"\",\"type\":\"string\"}],\"payable\":false,\"stateMutability\":\"pure\",\"type\":\"function\"}],\n",
    "                                      \"0x945AE6c4a3d4b067A1dEA6aBc870B3f3e46c4246\");\n",
    "shelloContract.methods.sayHello().call().then(function(str) {console.log(str);});"
   ]
  },
  {
   "cell_type": "code",
   "execution_count": 9,
   "id": "eb25fd85",
   "metadata": {},
   "outputs": [
    {
     "name": "stdout",
     "output_type": "stream",
     "text": [
      "Hello, Snowman\r\n"
     ]
    }
   ],
   "source": [
    "!node src/HelloUse.js"
   ]
  }
 ],
 "metadata": {
  "kernelspec": {
   "display_name": "Python 3 (ipykernel)",
   "language": "python",
   "name": "python3"
  },
  "language_info": {
   "codemirror_mode": {
    "name": "ipython",
    "version": 3
   },
   "file_extension": ".py",
   "mimetype": "text/x-python",
   "name": "python",
   "nbconvert_exporter": "python",
   "pygments_lexer": "ipython3",
   "version": "3.9.7"
  }
 },
 "nbformat": 4,
 "nbformat_minor": 5
}
